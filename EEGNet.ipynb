{
 "cells": [
  {
   "cell_type": "markdown",
   "metadata": {
    "colab_type": "text",
    "id": "view-in-github"
   },
   "source": [
    "<a href=\"https://colab.research.google.com/github/amrzhd/EEGNet/blob/main/EEGNet.ipynb\" target=\"_parent\"><img src=\"https://colab.research.google.com/assets/colab-badge.svg\" alt=\"Open In Colab\"/></a>"
   ]
  },
  {
   "cell_type": "markdown",
   "metadata": {
    "id": "x_5wKiVyBTzL"
   },
   "source": [
    "# Motor Imagery Task Classification\n"
   ]
  },
  {
   "cell_type": "markdown",
   "metadata": {
    "id": "O-3Lg9veBge0"
   },
   "source": [
    "#Extracting Data"
   ]
  },
  {
   "cell_type": "markdown",
   "metadata": {
    "id": "W4JrI64nBl52"
   },
   "source": [
    "##Downloading BCI Competition IV 2a Dataset"
   ]
  },
  {
   "cell_type": "code",
   "execution_count": 1,
   "metadata": {
    "colab": {
     "base_uri": "https://localhost:8080/"
    },
    "id": "_6jNZi8rBNjN",
    "outputId": "88ac3846-5abc-411f-93f2-f4e96daeed4e"
   },
   "outputs": [
    {
     "name": "stdout",
     "output_type": "stream",
     "text": [
      "--2024-08-08 07:44:04--  https://www.bbci.de/competition/download/competition_iv/BCICIV_2a_gdf.zip\n",
      "Resolving www.bbci.de (www.bbci.de)... 130.149.80.149\n",
      "Connecting to www.bbci.de (www.bbci.de)|130.149.80.149|:443... connected.\n",
      "HTTP request sent, awaiting response... 200 OK\n",
      "Length: 439968864 (420M) [application/zip]\n",
      "Saving to: ‘BCICIV_2a_gdf.zip’\n",
      "\n",
      "BCICIV_2a_gdf.zip   100%[===================>] 419.59M   121MB/s    in 3.6s    \n",
      "\n",
      "2024-08-08 07:44:08 (116 MB/s) - ‘BCICIV_2a_gdf.zip’ saved [439968864/439968864]\n",
      "\n"
     ]
    }
   ],
   "source": [
    "!wget https://www.bbci.de/competition/download/competition_iv/BCICIV_2a_gdf.zip"
   ]
  },
  {
   "cell_type": "code",
   "execution_count": 2,
   "metadata": {
    "id": "5DbydQswB27q"
   },
   "outputs": [],
   "source": [
    "!mkdir -p /content/cleaned_data/"
   ]
  },
  {
   "cell_type": "code",
   "execution_count": 3,
   "metadata": {
    "id": "50hgj12yB54U"
   },
   "outputs": [],
   "source": [
    "%%capture\n",
    "!unzip /content/BCICIV_2a_gdf.zip -d raw_data"
   ]
  },
  {
   "cell_type": "markdown",
   "metadata": {
    "id": "Y_mkff9aB-9w"
   },
   "source": [
    "#Installing Packages"
   ]
  },
  {
   "cell_type": "code",
   "execution_count": 4,
   "metadata": {
    "id": "mqHVmwYyCBsB"
   },
   "outputs": [],
   "source": [
    "%%capture\n",
    "!pip install mne"
   ]
  },
  {
   "cell_type": "code",
   "execution_count": 5,
   "metadata": {
    "id": "ueJFbf8KCCPw"
   },
   "outputs": [],
   "source": [
    "%%capture\n",
    "!pip install torch-summary"
   ]
  },
  {
   "cell_type": "markdown",
   "metadata": {
    "id": "crxgIV9ICD2T"
   },
   "source": [
    "#Libraries Used"
   ]
  },
  {
   "cell_type": "code",
   "execution_count": 35,
   "metadata": {
    "id": "CEp96MytCGei"
   },
   "outputs": [],
   "source": [
    "import os\n",
    "import mne\n",
    "import math\n",
    "import copy\n",
    "import gdown\n",
    "import random\n",
    "import scipy.io\n",
    "import numpy as np\n",
    "import pandas as pd\n",
    "import seaborn as sn\n",
    "import matplotlib.pyplot as plt\n",
    "\n",
    "# Torch\n",
    "import torch\n",
    "import torch.nn as nn\n",
    "import torch.optim as optim\n",
    "import torch.nn.functional as F\n",
    "from torchsummary import summary\n",
    "from torch.autograd import Variable\n",
    "from torch.utils.data import DataLoader, TensorDataset, random_split\n",
    "\n",
    "# Scikit-Learn\n",
    "from sklearn.feature_selection import mutual_info_classif\n",
    "from sklearn.metrics import confusion_matrix, accuracy_score\n",
    "from sklearn.model_selection import train_test_split"
   ]
  },
  {
   "cell_type": "markdown",
   "metadata": {
    "id": "nn8IHP2_CQbH"
   },
   "source": [
    "# Building Dataset"
   ]
  },
  {
   "cell_type": "code",
   "execution_count": 7,
   "metadata": {
    "id": "JFtUH89-G48b"
   },
   "outputs": [],
   "source": [
    "!mkdir -p /content/cleaned_data/first_session\n",
    "!mkdir -p /content/cleaned_data/second_session"
   ]
  },
  {
   "cell_type": "markdown",
   "metadata": {
    "id": "f6Bmm_acGc4g"
   },
   "source": [
    "##First Session"
   ]
  },
  {
   "cell_type": "code",
   "execution_count": null,
   "metadata": {
    "colab": {
     "base_uri": "https://localhost:8080/"
    },
    "id": "X6ViqHGaCUWY",
    "outputId": "39111580-ee4e-4543-f906-f9de7e97d6c7"
   },
   "outputs": [],
   "source": [
    "raw_data_folder = '/content/raw_data/'\n",
    "cleaned_data_folder = '/content/cleaned_data/first_session/'\n",
    "files = os.listdir(raw_data_folder)\n",
    "\n",
    "# Selecting files with suffix 'T.gdf'\n",
    "filtered_files = [file for file in files if file.endswith('T.gdf')]\n",
    "\n",
    "raw_list = []\n",
    "\n",
    "# Iterating through filtered files\n",
    "for file in filtered_files:\n",
    "    file_path = os.path.join(raw_data_folder, file)\n",
    "\n",
    "    # Reading raw data\n",
    "    raw = mne.io.read_raw_gdf(file_path, eog=['EOG-left', 'EOG-central', 'EOG-right'], preload=True)\n",
    "    # Droping EOG channels\n",
    "    raw.drop_channels(['EOG-left', 'EOG-central', 'EOG-right'])\n",
    "\n",
    "    # High Pass Filtering 4-40 Hz\n",
    "    raw.filter(l_freq=4, h_freq=40, method='iir')\n",
    "\n",
    "    # Notch filter for Removal of Line Voltage\n",
    "    raw.notch_filter(freqs=50)\n",
    "\n",
    "    # Saving the modified raw data to a file with .fif suffix\n",
    "    new_file_path = os.path.join(cleaned_data_folder, file[:-4] + '.fif')\n",
    "    raw.save(new_file_path, overwrite=True)\n",
    "    # Appending data to the list\n",
    "    raw_list.append(raw)\n",
    "\n",
    "final_raw = mne.concatenate_raws(raw_list)\n",
    "new_file_path = os.path.join(cleaned_data_folder, 'First_Session_Subjects.fif')\n",
    "final_raw.save(new_file_path, overwrite=True)\n"
   ]
  },
  {
   "cell_type": "markdown",
   "metadata": {
    "id": "wNqq3V3rCiPn"
   },
   "source": [
    "**List of the events**  \n",
    "'1023': 1 Rejected trial  \n",
    "'1072': 2 Eye movements  \n",
    "'276': 3 Idling EEG (eyes open)  \n",
    "'277': 4 Idling EEG (eyes closed)  \n",
    "'32766': 5 Start of a new run  \n",
    "'768': 6 Start of a trial  \n",
    "'769': 7 Cue onset **Left** (class 1) : 0  \n",
    "'770': 8 Cue onset **Right** (class 2) : 1  \n",
    "'771': 9 Cue onset **Foot** (class 3) : 2  \n",
    "'772': 10 Cue onset **Tongue** (class 4): 3"
   ]
  },
  {
   "cell_type": "code",
   "execution_count": 9,
   "metadata": {
    "colab": {
     "base_uri": "https://localhost:8080/"
    },
    "id": "-9RZjQbWCoc0",
    "outputId": "fbbd728f-9f7f-457e-d4c9-eaefe67bafa1"
   },
   "outputs": [
    {
     "name": "stdout",
     "output_type": "stream",
     "text": [
      "Used Annotations descriptions: ['1023', '1072', '276', '277', '32766', '768', '769', '770', '771', '772']\n"
     ]
    },
    {
     "data": {
      "text/plain": [
       "{'1023': 1,\n",
       " '1072': 2,\n",
       " '276': 3,\n",
       " '277': 4,\n",
       " '32766': 5,\n",
       " '768': 6,\n",
       " '769': 7,\n",
       " '770': 8,\n",
       " '771': 9,\n",
       " '772': 10}"
      ]
     },
     "execution_count": 9,
     "metadata": {},
     "output_type": "execute_result"
    }
   ],
   "source": [
    "events = mne.events_from_annotations(final_raw)\n",
    "events[1]"
   ]
  },
  {
   "cell_type": "markdown",
   "metadata": {
    "id": "PJAI_olujhxI"
   },
   "source": [
    "**Time choice:**  \n",
    "[0.s, 4s] Post Cue on set:  [2s, 6s]"
   ]
  },
  {
   "cell_type": "code",
   "execution_count": 10,
   "metadata": {
    "colab": {
     "base_uri": "https://localhost:8080/"
    },
    "id": "OaAuA1mQCqcP",
    "outputId": "4d33fb54-48f8-4eb9-c516-1b97747e39d6"
   },
   "outputs": [
    {
     "name": "stdout",
     "output_type": "stream",
     "text": [
      "Not setting metadata\n",
      "2592 matching events found\n",
      "No baseline correction applied\n",
      "0 projection items activated\n",
      "Using data from preloaded Raw for 2592 events and 1001 original time points ...\n",
      "0 bad epochs dropped\n"
     ]
    }
   ],
   "source": [
    "epochs = mne.Epochs(final_raw, events[0], event_id=[7, 8, 9, 10], tmin=0, tmax=4, reject=None, baseline=None, preload=True)\n",
    "first_session_data = epochs.get_data(copy=True)\n",
    "first_session_labels = epochs.events[:,-1]"
   ]
  },
  {
   "cell_type": "code",
   "execution_count": 11,
   "metadata": {
    "colab": {
     "base_uri": "https://localhost:8080/"
    },
    "id": "rVNRjQbfCs3-",
    "outputId": "041d64ef-2b44-49e8-d554-90bc0992bc36"
   },
   "outputs": [
    {
     "name": "stdout",
     "output_type": "stream",
     "text": [
      "First_session_dataset shape: (2592, 22, 1001)\n"
     ]
    }
   ],
   "source": [
    "print(\"First_session_dataset shape:\",first_session_data.shape)"
   ]
  },
  {
   "cell_type": "markdown",
   "metadata": {
    "id": "JJva8vhuMAtc"
   },
   "source": [
    "##Second Session"
   ]
  },
  {
   "cell_type": "markdown",
   "metadata": {
    "id": "bzQH8SI9MI72"
   },
   "source": [
    "###Extracting Labels for datas with \"E.gdf\" prefix"
   ]
  },
  {
   "cell_type": "code",
   "execution_count": 12,
   "metadata": {
    "colab": {
     "base_uri": "https://localhost:8080/",
     "height": 108
    },
    "id": "MjLuwdcgMD_l",
    "outputId": "be18a549-c7b2-4c6a-aa71-312a29c8e3a2"
   },
   "outputs": [
    {
     "name": "stderr",
     "output_type": "stream",
     "text": [
      "Downloading...\n",
      "From: https://drive.google.com/uc?id=11Ke2Xta1kv2xu2Mybuu_X51zJYjQ-VFo&export=download\n",
      "To: /content/true_labels.zip\n",
      "100%|██████████| 7.20k/7.20k [00:00<00:00, 8.97MB/s]\n"
     ]
    },
    {
     "data": {
      "application/vnd.google.colaboratory.intrinsic+json": {
       "type": "string"
      },
      "text/plain": [
       "'true_labels.zip'"
      ]
     },
     "execution_count": 12,
     "metadata": {},
     "output_type": "execute_result"
    }
   ],
   "source": [
    "# Replace this with your actual shareable link\n",
    "shareable_link = 'https://drive.google.com/file/d/11Ke2Xta1kv2xu2Mybuu_X51zJYjQ-VFo/view?usp=drive_link'\n",
    "\n",
    "# Extract file ID from the shareable link\n",
    "file_id = shareable_link.split('/d/')[1].split('/view')[0]\n",
    "\n",
    "# Create the direct download link\n",
    "download_url = f'https://drive.google.com/uc?id={file_id}&export=download'\n",
    "\n",
    "# Specify the output file path\n",
    "output_file = 'true_labels.zip'\n",
    "\n",
    "# Download the file\n",
    "gdown.download(download_url, output_file, quiet=False)"
   ]
  },
  {
   "cell_type": "code",
   "execution_count": 13,
   "metadata": {
    "id": "03wA4VGpMZNS"
   },
   "outputs": [],
   "source": [
    "%%capture\n",
    "!unzip /content/true_labels.zip -d second_session_labels"
   ]
  },
  {
   "cell_type": "markdown",
   "metadata": {
    "id": "1iijTs3RMdCo"
   },
   "source": [
    "###Extracting datas of second session"
   ]
  },
  {
   "cell_type": "code",
   "execution_count": null,
   "metadata": {
    "colab": {
     "base_uri": "https://localhost:8080/"
    },
    "id": "GbOQB2gDMgOf",
    "outputId": "323909f4-addc-4880-c4ae-7a5dbf1172ed"
   },
   "outputs": [],
   "source": [
    "raw_data_folder = '/content/raw_data/'\n",
    "cleaned_data_folder = '/content/cleaned_data/second_session/'\n",
    "mat_folder = '/content/second_session_labels/'\n",
    "\n",
    "# Selecting files with suffix 'E.mat'\n",
    "mat_files = os.listdir(mat_folder)\n",
    "filtered_math_labels = [file for file in mat_files if file.endswith('E.mat')]\n",
    "\n",
    "# Selecting files with suffix 'E.gdf'\n",
    "files = os.listdir(raw_data_folder)\n",
    "filtered_files = [file for file in files if file.endswith('E.gdf')]\n",
    "\n",
    "raw_list = []\n",
    "second_session_labels = np.array([])\n",
    "# Iterating through filtered files\n",
    "for file in filtered_files:\n",
    "    file_path = os.path.join(raw_data_folder, file)\n",
    "\n",
    "    # Reading raw data\n",
    "    raw = mne.io.read_raw_gdf(file_path, eog=['EOG-left', 'EOG-central', 'EOG-right'], preload=True)\n",
    "    # Droping EOG channels\n",
    "    raw.drop_channels(['EOG-left', 'EOG-central', 'EOG-right'])\n",
    "\n",
    "    # High Pass Filtering 4-40 Hz\n",
    "    raw.filter(l_freq=4, h_freq=40, method='iir')\n",
    "\n",
    "    # Saving the modified raw data to a file with .fif suffix\n",
    "    new_file_path = os.path.join(cleaned_data_folder, file[:-4] + '.fif')\n",
    "    raw.save(new_file_path, overwrite=True)\n",
    "    # Appending data to t he list\n",
    "    raw_list.append(raw)\n",
    "\n",
    "    # Mat files for the labels\n",
    "    mat_file_name = file.replace('.gdf', '.mat')\n",
    "    mat_file_path = os.path.join(mat_folder, mat_file_name)\n",
    "    print(f\"data:{file}, label:{mat_file_name}\")\n",
    "\n",
    "    if os.path.exists(mat_file_path):\n",
    "        mat_data = scipy.io.loadmat(mat_file_path)\n",
    "        class_labels = mat_data.get('classlabel', [])\n",
    "\n",
    "        # Check if 'classlabel' key exists and is not empty\n",
    "        if class_labels.size > 0:\n",
    "             # Convert to a NumPy array and flatten\n",
    "            class_labels_array = np.array(class_labels, dtype=int).flatten()\n",
    "            # Concatenate with the existing test_labels array\n",
    "            second_session_labels = np.concatenate((second_session_labels, class_labels_array))\n",
    "        else:\n",
    "            print(f\"Warning: 'classlabel' not found or empty in {mat_file_name}.\")\n",
    "    else:\n",
    "        print(f\"Warning: {mat_file_name} not found.\")\n",
    "\n",
    "final_raw = mne.concatenate_raws(raw_list)\n",
    "new_file_path = os.path.join(cleaned_data_folder, 'Second_Session_Subjects.fif')\n",
    "final_raw.save(new_file_path, overwrite=True)"
   ]
  },
  {
   "cell_type": "markdown",
   "metadata": {
    "id": "kgSKXweNM87Q"
   },
   "source": [
    "**List of the events**  \n",
    "'1023': 1 Rejected trial  \n",
    "'1072': 2 Eye movements  \n",
    "'276': 3 Idling EEG (eyes open)  \n",
    "'277': 4 Idling EEG (eyes closed)  \n",
    "'32766': 5 Start of a new run  \n",
    "'768': 6 Start of a trial  \n",
    "'783': 7 Cue unknown"
   ]
  },
  {
   "cell_type": "code",
   "execution_count": 15,
   "metadata": {
    "colab": {
     "base_uri": "https://localhost:8080/"
    },
    "id": "KIuyfy9DNAvO",
    "outputId": "884cb7c0-7643-420e-ecee-05e0aecbf6fb"
   },
   "outputs": [
    {
     "name": "stdout",
     "output_type": "stream",
     "text": [
      "Used Annotations descriptions: ['1023', '1072', '276', '277', '32766', '768', '783']\n"
     ]
    },
    {
     "data": {
      "text/plain": [
       "{'1023': 1, '1072': 2, '276': 3, '277': 4, '32766': 5, '768': 6, '783': 7}"
      ]
     },
     "execution_count": 15,
     "metadata": {},
     "output_type": "execute_result"
    }
   ],
   "source": [
    "events = mne.events_from_annotations(final_raw)\n",
    "events[1]"
   ]
  },
  {
   "cell_type": "code",
   "execution_count": 16,
   "metadata": {
    "colab": {
     "base_uri": "https://localhost:8080/"
    },
    "id": "KGDah5f4NCBr",
    "outputId": "348a121b-d355-4239-9798-dcd0b10cd16a"
   },
   "outputs": [
    {
     "name": "stdout",
     "output_type": "stream",
     "text": [
      "Not setting metadata\n",
      "2592 matching events found\n",
      "No baseline correction applied\n",
      "0 projection items activated\n",
      "Using data from preloaded Raw for 2592 events and 1001 original time points ...\n",
      "0 bad epochs dropped\n"
     ]
    }
   ],
   "source": [
    "epochs = mne.Epochs(final_raw, events[0], event_id=7, tmin=0, tmax=4, reject=None, baseline=None, preload=None)\n",
    "second_session_data = epochs.get_data(copy=True)"
   ]
  },
  {
   "cell_type": "code",
   "execution_count": 17,
   "metadata": {
    "colab": {
     "base_uri": "https://localhost:8080/"
    },
    "id": "HFCG-UXrNRSZ",
    "outputId": "e5b4f6cc-c65f-460b-fc29-a0c0d7400658"
   },
   "outputs": [
    {
     "name": "stdout",
     "output_type": "stream",
     "text": [
      "Second Session Dataset shape: (2592, 22, 1001)\n"
     ]
    }
   ],
   "source": [
    "print(\"Second Session Dataset shape:\",second_session_data.shape)"
   ]
  },
  {
   "cell_type": "markdown",
   "metadata": {
    "id": "nA0Hr5BMPE5e"
   },
   "source": [
    "### Structuring Data"
   ]
  },
  {
   "cell_type": "code",
   "execution_count": 18,
   "metadata": {
    "colab": {
     "base_uri": "https://localhost:8080/"
    },
    "id": "D5dF6ZydC2PP",
    "outputId": "67fafc85-ff3d-48f3-f08a-3abc663df0b3"
   },
   "outputs": [
    {
     "name": "stdout",
     "output_type": "stream",
     "text": [
      "Size of X_train: torch.Size([4665, 1, 22, 1001])\n",
      "Size of X_test: torch.Size([519, 1, 22, 1001])\n",
      "Size of y_train: torch.Size([4665])\n",
      "Size of y_test: torch.Size([519])\n"
     ]
    }
   ],
   "source": [
    "# Choosing Device\n",
    "device = torch.device(\"cuda\" if torch.cuda.is_available() else \"cpu\")\n",
    "\n",
    "# Loss Function\n",
    "criterion = nn.CrossEntropyLoss()\n",
    "\n",
    "# Normalizing Labels to [0, 1, 2, 3]\n",
    "y_train = first_session_labels - np.min(first_session_labels)\n",
    "y_test = second_session_labels - np.min(second_session_labels)\n",
    "\n",
    "# Normalizing Input features: z-score(mean=0, std=1)\n",
    "X_first_session = (first_session_data - np.mean(first_session_data)) / np.std(first_session_data)\n",
    "X_second_session = (second_session_data - np.mean(second_session_data)) / np.std(second_session_data)\n",
    "\n",
    "X = np.concatenate((X_first_session, X_second_session))\n",
    "y = np.concatenate((y_train, y_test))\n",
    "\n",
    "# Spliting  Data: 90% for Train and 10% for Test\n",
    "X_train, X_test, y_train, y_test = train_test_split(X, y, test_size=0.1, random_state=42, stratify=y)\n",
    "\n",
    "# Converting to Tensor\n",
    "X_train = torch.Tensor(X_train).unsqueeze(1).to(device)\n",
    "X_test = torch.Tensor(X_test).unsqueeze(1).to(device)\n",
    "y_train = torch.LongTensor(y_train).to(device)\n",
    "y_test = torch.LongTensor(y_test).to(device)\n",
    "\n",
    "# Creating Tensor Dataset\n",
    "train_dataset = TensorDataset(X_train, y_train)\n",
    "test_dataset = TensorDataset(X_test, y_test)\n",
    "\n",
    "# Printing the sizes\n",
    "print(\"Size of X_train:\", X_train.size())\n",
    "print(\"Size of X_test:\", X_test.size())\n",
    "print(\"Size of y_train:\", y_train.size())\n",
    "print(\"Size of y_test:\", y_test.size())\n"
   ]
  },
  {
   "cell_type": "markdown",
   "metadata": {
    "id": "xyXDZiZ4E4a_"
   },
   "source": [
    "#Training Class"
   ]
  },
  {
   "cell_type": "code",
   "execution_count": 29,
   "metadata": {
    "id": "F3nUwuQHE8Hi"
   },
   "outputs": [],
   "source": [
    "class TrainModel():\n",
    "    def __init__(self,):\n",
    "        self.device = torch.device(\"cuda\" if torch.cuda.is_available() else \"cpu\")\n",
    "\n",
    "    def train_model(self, model, train_dataset, learning_rate=0.001, batch_size=64, epochs=500):\n",
    "        model = model.to(self.device)\n",
    "        criterion = nn.CrossEntropyLoss()\n",
    "        optimizer = optim.Adam(model.parameters(), lr=learning_rate)\n",
    "        train_loader = DataLoader(train_dataset, batch_size=batch_size, shuffle=True)\n",
    "        highest_train_accuracy = 0.0\n",
    "\n",
    "        for epoch in range(epochs):\n",
    "            model.train()\n",
    "            running_loss = 0.0\n",
    "            correct = 0\n",
    "            total = 0\n",
    "            for inputs, labels in train_loader:\n",
    "                inputs = inputs.to(self.device)\n",
    "                labels = labels.to(self.device)\n",
    "\n",
    "                optimizer.zero_grad()\n",
    "                outputs = model(inputs)\n",
    "                loss = criterion(outputs, labels)\n",
    "                loss.backward()\n",
    "                optimizer.step()\n",
    "\n",
    "                running_loss += loss.item() * inputs.size(0)\n",
    "                _, predicted = torch.max(outputs, 1)\n",
    "                total += labels.size(0)\n",
    "                correct += (predicted == labels).sum().item()\n",
    "\n",
    "            epoch_loss = running_loss / len(train_loader.dataset)\n",
    "            epoch_accuracy = correct / total\n",
    "            if epoch_accuracy > highest_train_accuracy:\n",
    "                highest_train_accuracy = epoch_accuracy\n",
    "            print(f\"Epoch {epoch+1}/{epochs}, Loss: {epoch_loss:.4f}, Accuracy: {(epoch_accuracy*100):.2f}%\")\n",
    "\n",
    "        average_loss = running_loss / len(train_loader.dataset)\n",
    "        print(\"Average Loss:\", average_loss)\n",
    "        print(\"Highest Train Accuracy:\", highest_train_accuracy)\n",
    "\n",
    "        # Saving model\n",
    "        torch.save(model.state_dict(), 'eegnet_model.pth')\n",
    "        return model\n"
   ]
  },
  {
   "cell_type": "markdown",
   "metadata": {
    "id": "ObMKFBTxFLBJ"
   },
   "source": [
    "#Evaluating Model"
   ]
  },
  {
   "cell_type": "code",
   "execution_count": 20,
   "metadata": {
    "id": "GxVYOQ_YFM4b"
   },
   "outputs": [],
   "source": [
    "class EvalModel():\n",
    "    def __init__(self, model):\n",
    "        self.model = model.to(device)\n",
    "        self.device = torch.device(\"cuda\" if torch.cuda.is_available() else \"cpu\")\n",
    "    def test_model(self, test_dataset):\n",
    "        self.model.eval()\n",
    "        correct = 0\n",
    "        total = 0\n",
    "        test_loader = DataLoader(test_dataset, batch_size=1, shuffle=False)\n",
    "\n",
    "        with torch.no_grad():\n",
    "            for inputs, labels in test_loader:\n",
    "                inputs = inputs.to(self.device)\n",
    "                labels = labels.to(self.device)\n",
    "                outputs = self.model(inputs)\n",
    "                _, predicted = torch.max(outputs.data, 1)\n",
    "                total += labels.size(0)\n",
    "                correct += (predicted == labels).sum().item()\n",
    "\n",
    "        accuracy = (correct / total) * 100\n",
    "        print(\"/------------------------------/\")\n",
    "        print(f\"Test Accuracy: {accuracy:.2f}%\")\n",
    "        print(\"/------------------------------/\")\n",
    "        return accuracy\n",
    "\n",
    "    def plot_confusion_matrix(self, test_dataset, classes):\n",
    "        self.model.eval()\n",
    "        y_pred = []\n",
    "        y_true = []\n",
    "        test_loader = DataLoader(test_dataset, batch_size=1, shuffle=False)\n",
    "\n",
    "        with torch.no_grad():\n",
    "            for inputs, labels in test_loader:\n",
    "                inputs = inputs.to(self.device)\n",
    "                labels = labels.to(self.device)\n",
    "                outputs = self.model(inputs)\n",
    "                _, predicted = torch.max(outputs.data, 1)\n",
    "                y_pred.append(predicted.item())\n",
    "                y_true.append(labels.item())\n",
    "\n",
    "        cf_matrix = confusion_matrix(y_true, y_pred)\n",
    "        cf_matrix = cf_matrix.astype('float') / cf_matrix.sum(axis=1)[:, np.newaxis]\n",
    "\n",
    "        df_cm = pd.DataFrame(cf_matrix, index=classes, columns=classes)\n",
    "\n",
    "        plt.figure(figsize=(10, 7))\n",
    "        sn.heatmap(df_cm, annot=True, cmap='Blues', fmt='.2f')\n",
    "        plt.xlabel('Predicted labels')\n",
    "        plt.ylabel('True labels')\n",
    "        plt.title('Confusion Matrix')\n",
    "        plt.savefig('confusion_matrix_model.png')\n",
    "        plt.show()\n"
   ]
  },
  {
   "cell_type": "markdown",
   "metadata": {
    "id": "vR2z57zqC5iS"
   },
   "source": [
    "#EEGNet Model"
   ]
  },
  {
   "cell_type": "code",
   "execution_count": null,
   "metadata": {
    "id": "SmFhrHzSC8BE"
   },
   "outputs": [],
   "source": [
    "class EEGNetModel(nn.Module): # EEGNET-8,2\n",
    "    def __init__(self, chans=22, classes=4, time_points=1001, temp_kernel=32,\n",
    "                 f1=16, f2=32, d=2, pk1=8, pk2=16, dropout_rate=0.5, max_norm1=1, max_norm2=0.25):\n",
    "        super(EEGNetModel, self).__init__()\n",
    "        # Calculating FC input features\n",
    "        linear_size = (time_points//(pk1*pk2))*f2\n",
    "\n",
    "        # Temporal Filters\n",
    "        self.block1 = nn.Sequential(\n",
    "            nn.Conv2d(1, f1, (1, temp_kernel), padding='same', bias=False),\n",
    "            nn.BatchNorm2d(f1),\n",
    "        )\n",
    "        # Spatial Filters\n",
    "        self.block2 = nn.Sequential(\n",
    "            nn.Conv2d(f1, d * f1, (chans, 1), groups=f1, bias=False), # Depthwise Conv\n",
    "            nn.BatchNorm2d(d * f1),\n",
    "            nn.ELU(),\n",
    "            nn.AvgPool2d((1, pk1)),\n",
    "            nn.Dropout(dropout_rate)\n",
    "        )\n",
    "        self.block3 = nn.Sequential(\n",
    "            nn.Conv2d(d * f1, f2, (1, 16),  groups=f2, bias=False, padding='same'), # Separable Conv\n",
    "            nn.Conv2d(f2, f2, kernel_size=1, bias=False), # Pointwise Conv\n",
    "            nn.BatchNorm2d(f2),\n",
    "            nn.ELU(),\n",
    "            nn.AvgPool2d((1, pk2)),\n",
    "            nn.Dropout(dropout_rate)\n",
    "        )\n",
    "        self.flatten = nn.Flatten()\n",
    "        self.fc = nn.Linear(linear_size, classes)\n",
    "\n",
    "        # Apply max_norm constraint to the depthwise layer in block2\n",
    "        self._apply_max_norm(self.block2[0], max_norm1)\n",
    "\n",
    "        # Apply max_norm constraint to the linear layer\n",
    "        self._apply_max_norm(self.fc, max_norm2)\n",
    "\n",
    "    def _apply_max_norm(self, layer, max_norm):\n",
    "        for name, param in layer.named_parameters():\n",
    "            if 'weight' in name:\n",
    "                param.data = torch.renorm(param.data, p=2, dim=0, maxnorm=max_norm)\n",
    "\n",
    "    def forward(self, x):\n",
    "        x = self.block1(x)\n",
    "        x = self.block2(x)\n",
    "        x = self.block3(x)\n",
    "        x = self.flatten(x)\n",
    "        x = self.fc(x)\n",
    "        return x\n"
   ]
  },
  {
   "cell_type": "markdown",
   "metadata": {
    "id": "M49ks2b8C_dP"
   },
   "source": [
    "##Model Summery"
   ]
  },
  {
   "cell_type": "code",
   "execution_count": null,
   "metadata": {
    "colab": {
     "base_uri": "https://localhost:8080/"
    },
    "id": "7NdOeIRtDAOn",
    "outputId": "35ec6ad5-7e2c-4f99-cae0-e83ffd549797"
   },
   "outputs": [],
   "source": [
    "input_size = (1, 22, 1001)\n",
    "eegnet_model = EEGNetModel().to(device)\n",
    "summary(eegnet_model, input_size)"
   ]
  },
  {
   "cell_type": "markdown",
   "metadata": {
    "id": "95r4EymoDCIv"
   },
   "source": [
    "##Training Model"
   ]
  },
  {
   "cell_type": "code",
   "execution_count": null,
   "metadata": {
    "colab": {
     "base_uri": "https://localhost:8080/"
    },
    "id": "TJzl6On9DFcp",
    "outputId": "7c7e7ca1-e094-478a-f7df-171e12388792"
   },
   "outputs": [],
   "source": [
    "eegnet_model = EEGNetModel().to(device)\n",
    "\n",
    "# Training Hyperparameters\n",
    "EPOCHS = 500\n",
    "BATCH_SIZE = 64\n",
    "LEARNING_RATE = 0.001\n",
    "trainer = TrainModel()\n",
    "trained_eegnet_model = trainer.train_model(eegnet_model, train_dataset, learning_rate=LEARNING_RATE,\n",
    "                                   batch_size=BATCH_SIZE, epochs=EPOCHS)\n",
    "torch.save(trained_eegnet_model.state_dict(), 'eegnet_model.pth')\n"
   ]
  },
  {
   "cell_type": "markdown",
   "metadata": {
    "id": "-3fKnNHxDKwn"
   },
   "source": [
    "##Evaluating Model"
   ]
  },
  {
   "cell_type": "code",
   "execution_count": 36,
   "metadata": {
    "colab": {
     "base_uri": "https://localhost:8080/",
     "height": 695
    },
    "id": "aHsstvZSDLb1",
    "outputId": "62367285-83e7-4ed4-db94-376f791fcfec"
   },
   "outputs": [
    {
     "name": "stdout",
     "output_type": "stream",
     "text": [
      "/------------------------------/\n",
      "Test Accuracy: 69.94%\n",
      "/------------------------------/\n"
     ]
    },
    {
     "data": {
      "image/png": "[encoded data removed]",
      "text/plain": [
       "<Figure size 1000x700 with 2 Axes>"
      ]
     },
     "metadata": {},
     "output_type": "display_data"
    }
   ],
   "source": [
    "classes_list = ['Left', 'Right', 'Foot', 'Tongue']\n",
    "eval_model = EvalModel(trained_eegnet_model)\n",
    "test_accuracy = eval_model.test_model(test_dataset)\n",
    "eval_model.plot_confusion_matrix(test_dataset, classes_list)\n"
   ]
  }
 ],
 "metadata": {
  "accelerator": "GPU",
  "colab": {
   "authorship_tag": "ABX9TyOuzENxctn49HNjNmnJOE11",
   "gpuType": "T4",
   "include_colab_link": true,
   "provenance": []
  },
  "kernelspec": {
   "display_name": "Python 3 (ipykernel)",
   "language": "python",
   "name": "python3"
  },
  "language_info": {
   "codemirror_mode": {
    "name": "ipython",
    "version": 3
   },
   "file_extension": ".py",
   "mimetype": "text/x-python",
   "name": "python",
   "nbconvert_exporter": "python",
   "pygments_lexer": "ipython3",
   "version": "3.12.9"
  }
 },
 "nbformat": 4,
 "nbformat_minor": 4
}
