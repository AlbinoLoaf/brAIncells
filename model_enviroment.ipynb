{
 "cells": [
  {
   "cell_type": "markdown",
   "id": "b654b384-ee4e-4223-a48f-ffffb7eb1d6e",
   "metadata": {},
   "source": [
    "### Imports and set up"
   ]
  },
  {
   "cell_type": "code",
   "execution_count": null,
   "id": "a23748e0-ee24-4a9b-8cab-90b0d02be953",
   "metadata": {},
   "outputs": [],
   "source": [
    "import os\n",
    "import numpy as np\n",
    "import pandas as pd\n",
    "import matplotlib.pyplot as plt\n",
    "\n",
    "#torch imports \n",
    "import torch\n",
    "import torch.nn as nn\n",
    "from torch.utils.data import DataLoader,TensorDataset\n",
    "from torcheeg.io.eeg_signal import EEGSignalIO\n",
    "from torcheeg.models import DGCNN\n",
    "from sklearn.model_selection import train_test_split\n",
    "from torcheeg import transforms\n",
    "from torcheeg.models.gnn.dgcnn import GraphConvolution\n",
    "# helper sctipts \n",
    "from training import TrainNN\n",
    "from cka import CKACalculator\n",
    "\n",
    "## Path constants\n",
    "data_path = \"../data/\"\n",
    "preprocessed_data_path = \"preprocessed_data.npy\"\n",
    "\n",
    "## Establish connection to datafile\n",
    "IO = EEGSignalIO(io_path=str(data_path), io_mode='lmdb')\n",
    "\n",
    "## Read metadata dataframeimports\n",
    "metadata = pd.read_csv(data_path + 'sample_metadata.tsv', sep='\\t')"
   ]
  },
  {
   "cell_type": "markdown",
   "id": "86803f9b",
   "metadata": {},
   "source": [
    "### Load data"
   ]
  },
  {
   "cell_type": "code",
   "execution_count": 2,
   "id": "52b99ce4-2205-4911-8f56-acb6dfde1e8e",
   "metadata": {},
   "outputs": [],
   "source": [
    "# Verifying connection to data\n",
    "idxs = np.arange(len(metadata))\n",
    "\n",
    "# Read features and labels as torch tensors\n",
    "X = torch.FloatTensor(np.array([IO.read_eeg(str(i)) for i in idxs]))\n",
    "y = torch.tensor(metadata[\"value\"].values, dtype=torch.long)"
   ]
  },
  {
   "cell_type": "code",
   "execution_count": 3,
   "id": "7110a704",
   "metadata": {},
   "outputs": [],
   "source": [
    "if os.path.exists(preprocessed_data_path):\n",
    "    \n",
    "    with open(preprocessed_data_path, \"rb\") as f:\n",
    "        X_bde = np.load(f)\n",
    "    \n",
    "else:\n",
    "    t = transforms.BandDifferentialEntropy(band_dict={\n",
    "                              \"delta\": [1, 4],\n",
    "                              \"theta\": [4, 8],\n",
    "                              \"alpha\": [8, 14],\n",
    "                              \"beta\": [14, 31],\n",
    "                              \"gamma\": [31, 49]\n",
    "                          })\n",
    "\n",
    "    X_bde = []\n",
    "    for i in range(X.shape[0]):\n",
    "\n",
    "        bde_tmp = t(eeg=X[i])\n",
    "        X_bde.append(bde_tmp)\n",
    "\n",
    "    X_bde = [x[\"eeg\"] for x in X_bde]\n",
    "\n",
    "    with open(preprocessed_data_path, \"wb\") as f:\n",
    "        np.save(f, X_bde)\n",
    "\n",
    "X_bde = torch.FloatTensor(X_bde)      "
   ]
  },
  {
   "cell_type": "markdown",
   "id": "3de837ee",
   "metadata": {},
   "source": [
    "### Split data into train, validation and test sets"
   ]
  },
  {
   "cell_type": "code",
   "execution_count": 4,
   "id": "585fda50",
   "metadata": {},
   "outputs": [],
   "source": [
    "X_train, X_test, y_train, y_test = train_test_split(X_bde, y, test_size=0.4, random_state=42, stratify=y)\n",
    "X_val, X_test, y_val, y_test = train_test_split(X_test, y_test, test_size=0.5, random_state=42)"
   ]
  },
  {
   "cell_type": "code",
   "execution_count": 5,
   "id": "e82f7414-d46e-4a28-a595-1c3b6a652833",
   "metadata": {},
   "outputs": [],
   "source": [
    "# get dimensions\n",
    "\n",
    "nsamples_train, nchannels_train, bands = X_train.shape\n",
    "nsamples_val, nchannels_val, bands = X_val.shape\n",
    "\n",
    "train_dataset = TensorDataset(X_train, y_train)\n",
    "val_dataset = TensorDataset(X_val, y_val)\n",
    "\n",
    "train_loader = DataLoader(train_dataset, batch_size=64, shuffle=True)\n",
    "val_loader = DataLoader(val_dataset, batch_size=64, shuffle=True)"
   ]
  },
  {
   "cell_type": "markdown",
   "id": "e594f2e4",
   "metadata": {},
   "source": [
    "### Training & model hyperparameters"
   ]
  },
  {
   "cell_type": "code",
   "execution_count": 6,
   "id": "fb3d89d4",
   "metadata": {},
   "outputs": [],
   "source": [
    "# Model parameters\n",
    "n_chans = 5\n",
    "n_electrodes = 22\n",
    "n_outputs = y.max().item() + 1\n",
    "n_layers = 2\n",
    "hid_chans = 32\n",
    "\n",
    "# Training parameters\n",
    "lr = 1e-4\n",
    "epochs = 40\n",
    "w_decay = 0\n",
    "\n",
    "#Models \n",
    "modruns = 10\n",
    "path=\"artifacts\"\n",
    "modelname=\"dgcnn_mod\"\n",
    "plot=False"
   ]
  },
  {
   "cell_type": "markdown",
   "id": "5a4a4274",
   "metadata": {},
   "source": [
    "## Train model"
   ]
  },
  {
   "cell_type": "markdown",
   "id": "72172e49",
   "metadata": {},
   "source": [
    "### Train 4 models and calculate CKA matrices for pairs of models"
   ]
  },
  {
   "cell_type": "code",
   "execution_count": 7,
   "id": "264f74e7",
   "metadata": {},
   "outputs": [],
   "source": [
    "mods = []\n",
    "\n",
    "def train_models(model,modeltrainer,num_models=1,new =False, prints=False):\n",
    "    \"\"\"\n",
    "    Training a model with random initialisation but consitent parameters. \n",
    "    \n",
    "    Hyper parameters should be set outside of this function \n",
    "    \n",
    "    path and model_names are both needed parameters that need to be defined outside of this function. \n",
    "    \n",
    "    Path is to where your artifacts are located and model_name is what the model is called \n",
    "    \n",
    "    ...\n",
    "    \n",
    "    Parameters\n",
    "    -----------\n",
    "    model : nn.modules\n",
    "        The model being trained\n",
    "    modeltrainer : training class\n",
    "        a class for training the model provided should return a trained model\n",
    "    num_models : int \n",
    "        Default 1, how many models it trains\n",
    "    new : bool\n",
    "        Weather it should attempt to use saved models\n",
    "    \"\"\"\n",
    "    for i in range(num_models):\n",
    "        \n",
    "        tmp_mod = model(in_channels=n_chans, num_electrodes=n_electrodes, \n",
    "                              hid_channels=hid_chans, num_layers=n_layers, num_classes=n_outputs)\n",
    "        pth=f\"{path}/{modelname}{i}.pth\"\n",
    "        \n",
    "        if new or not os.path.exists(pth):    \n",
    "            if not os.path.exists(pth) and not new:\n",
    "                print(f\"Could not resolve path: {pth}\")\n",
    "            trainer = modeltrainer()\n",
    "            mods.append(trainer.train_model(tmp_mod, train_loader, val_loader, learning_rate=lr,pth=path,name=modelname,\n",
    "                                            w_decay=w_decay,epochs=epochs, prints=prints, modrun=i))\n",
    "        else: \n",
    "            tmp_mod.load_state_dict(torch.load(pth))\n",
    "            tmp_mod.eval()\n",
    "            mods.append([tmp_mod,[]])\n",
    "            \n",
    "\n",
    "# Training 4 models \n",
    "train_models(DGCNN,TrainNN,num_models=modruns,prints=plot, new=False)"
   ]
  },
  {
   "cell_type": "code",
   "execution_count": 8,
   "id": "91086d19",
   "metadata": {},
   "outputs": [
    {
     "name": "stderr",
     "output_type": "stream",
     "text": [
      "Processing CKA: 100%|██████████| 49/49 [00:00<00:00, 370.14it/s]\n",
      "Processing CKA: 100%|██████████| 49/49 [00:00<00:00, 375.53it/s]\n",
      "Processing CKA: 100%|██████████| 49/49 [00:00<00:00, 342.99it/s]\n",
      "Processing CKA: 100%|██████████| 49/49 [00:00<00:00, 351.58it/s]\n",
      "Processing CKA: 100%|██████████| 49/49 [00:00<00:00, 766.11it/s]\n",
      "Processing CKA: 100%|██████████| 49/49 [00:00<00:00, 689.05it/s]\n",
      "Processing CKA: 100%|██████████| 49/49 [00:00<00:00, 729.99it/s]\n",
      "Processing CKA: 100%|██████████| 49/49 [00:00<00:00, 324.14it/s]\n",
      "Processing CKA: 100%|██████████| 49/49 [00:00<00:00, 431.03it/s]\n",
      "Processing CKA: 100%|██████████| 49/49 [00:00<00:00, 327.74it/s]\n",
      "Processing CKA: 100%|██████████| 49/49 [00:00<00:00, 337.31it/s]\n",
      "Processing CKA: 100%|██████████| 49/49 [00:00<00:00, 341.68it/s]\n",
      "Processing CKA: 100%|██████████| 49/49 [00:00<00:00, 342.99it/s]\n",
      "Processing CKA: 100%|██████████| 49/49 [00:00<00:00, 352.89it/s]\n",
      "Processing CKA: 100%|██████████| 49/49 [00:00<00:00, 329.00it/s]\n",
      "Processing CKA: 100%|██████████| 49/49 [00:00<00:00, 351.22it/s]\n",
      "Processing CKA: 100%|██████████| 49/49 [00:00<00:00, 337.10it/s]\n",
      "Processing CKA: 100%|██████████| 49/49 [00:00<00:00, 361.24it/s]\n",
      "Processing CKA: 100%|██████████| 49/49 [00:00<00:00, 387.21it/s]\n",
      "Processing CKA: 100%|██████████| 49/49 [00:00<00:00, 319.20it/s]\n",
      "Processing CKA: 100%|██████████| 49/49 [00:00<00:00, 349.92it/s]\n",
      "Processing CKA: 100%|██████████| 49/49 [00:00<00:00, 352.98it/s]\n",
      "Processing CKA: 100%|██████████| 49/49 [00:00<00:00, 339.64it/s]\n",
      "Processing CKA: 100%|██████████| 49/49 [00:00<00:00, 321.48it/s]\n",
      "Processing CKA: 100%|██████████| 49/49 [00:00<00:00, 395.17it/s]\n",
      "Processing CKA: 100%|██████████| 49/49 [00:00<00:00, 356.32it/s]\n",
      "Processing CKA: 100%|██████████| 49/49 [00:00<00:00, 364.92it/s]\n",
      "Processing CKA: 100%|██████████| 49/49 [00:00<00:00, 332.04it/s]\n",
      "Processing CKA: 100%|██████████| 49/49 [00:00<00:00, 339.51it/s]\n",
      "Processing CKA: 100%|██████████| 49/49 [00:00<00:00, 344.37it/s]\n",
      "Processing CKA: 100%|██████████| 49/49 [00:00<00:00, 333.58it/s]\n",
      "Processing CKA: 100%|██████████| 49/49 [00:00<00:00, 348.43it/s]\n",
      "Processing CKA: 100%|██████████| 49/49 [00:00<00:00, 332.80it/s]\n",
      "Processing CKA: 100%|██████████| 49/49 [00:00<00:00, 362.16it/s]\n",
      "Processing CKA: 100%|██████████| 49/49 [00:00<00:00, 340.57it/s]\n",
      "Processing CKA: 100%|██████████| 49/49 [00:00<00:00, 338.80it/s]\n",
      "Processing CKA: 100%|██████████| 49/49 [00:00<00:00, 332.54it/s]\n",
      "Processing CKA: 100%|██████████| 49/49 [00:00<00:00, 335.24it/s]\n",
      "Processing CKA: 100%|██████████| 49/49 [00:00<00:00, 320.38it/s]\n",
      "Processing CKA: 100%|██████████| 49/49 [00:00<00:00, 329.70it/s]\n",
      "Processing CKA: 100%|██████████| 49/49 [00:00<00:00, 366.69it/s]\n",
      "Processing CKA: 100%|██████████| 49/49 [00:00<00:00, 714.25it/s]\n",
      "Processing CKA: 100%|██████████| 49/49 [00:00<00:00, 685.63it/s]\n",
      "Processing CKA: 100%|██████████| 49/49 [00:00<00:00, 329.95it/s]\n",
      "Processing CKA: 100%|██████████| 49/49 [00:00<00:00, 331.46it/s]\n"
     ]
    }
   ],
   "source": [
    "cka_all = []  \n",
    "for i in range(modruns):\n",
    "    for j in range(i+1,modruns):\n",
    "        calculator = CKACalculator(model1=mods[i][0], model2=mods[j][0], dataloader=train_loader,\n",
    "                                layers_to_hook=(nn.Conv2d, nn.Linear, nn.AdaptiveAvgPool2d, GraphConvolution, nn.BatchNorm1d))\n",
    "        cka_output = calculator.calculate_cka_matrix()\n",
    "        cka_all.append(cka_output)\n",
    "        if plot:\n",
    "            #Plot the matrix\n",
    "            plt.figure(figsize=(7, 7))\n",
    "            plt.imshow(cka_output.cpu().numpy(), cmap='inferno')\n",
    "            plt.xticks(ticks=np.arange(len(calculator.module_names_X)), labels=calculator.module_names_X, ha=\"right\")\n",
    "            plt.yticks(ticks=np.arange(len(calculator.module_names_Y)), labels=calculator.module_names_Y)\n",
    "            plt.colorbar()\n",
    "            plt.title(f'CKA Matrix: Model {i} vs Model {j}')\n",
    "            plt.show()\n"
   ]
  },
  {
   "cell_type": "code",
   "execution_count": null,
   "id": "f8abe573",
   "metadata": {},
   "outputs": [
    {
     "name": "stdout",
     "output_type": "stream",
     "text": [
      "tensor([[0.9994, 0.9515, 0.9377, 0.7802, 0.1769],\n",
      "        [0.9810, 0.9654, 0.9287, 0.8023, 0.1839],\n",
      "        [0.9492, 0.9037, 0.8344, 0.7000, 0.1714],\n",
      "        [0.7791, 0.8431, 0.7300, 0.9271, 0.5645],\n",
      "        [0.4321, 0.4903, 0.4434, 0.7808, 0.7520]])\n"
     ]
    },
    {
     "data": {
      "image/png": "[encoded data removed]",
      "text/plain": [
       "<Figure size 700x700 with 2 Axes>"
      ]
     },
     "metadata": {},
     "output_type": "display_data"
    },
    {
     "data": {
      "image/png": "[encoded data removed]",
      "text/plain": [
       "<Figure size 700x700 with 2 Axes>"
      ]
     },
     "metadata": {},
     "output_type": "display_data"
    }
   ],
   "source": [
    "cka_stack = torch.stack(cka_all) \n",
    "average_cka_matrix = cka_stack.mean(dim=0)\n",
    "delta_matrices = []\n",
    "\n",
    "for i in range(len(cka_stack)):\n",
    "    for j in range(i+1,len(cka_stack)):\n",
    "        delta_matrices.append(torch.abs(cka_stack[i] - cka_stack[j])) \n",
    "        \n",
    "delta_matrices = torch.stack(delta_matrices)  \n",
    "average_delta_cka_matrix =1- delta_matrices.mean(dim=0)  \n",
    "\n",
    "\n",
    "plt.figure(figsize=(7, 7))\n",
    "plt.imshow(average_cka_matrix.cpu().numpy(), cmap='inferno')\n",
    "plt.xticks(ticks=np.arange(len(calculator.module_names_X)), labels=calculator.module_names_X, ha=\"right\")\n",
    "plt.yticks(ticks=np.arange(len(calculator.module_names_Y)), labels=calculator.module_names_Y)\n",
    "plt.colorbar()\n",
    "plt.title(\"Averaged CKA Matrix\")\n",
    "plt.show()\n",
    "\n",
    "\n",
    "plt.figure(figsize=(7, 7))\n",
    "plt.imshow(average_delta_cka_matrix.cpu().numpy(), cmap='inferno')\n",
    "plt.xticks(ticks=np.arange(len(calculator.module_names_X)), labels=calculator.module_names_X, ha=\"right\")\n",
    "plt.yticks(ticks=np.arange(len(calculator.module_names_Y)), labels=calculator.module_names_Y)\n",
    "plt.colorbar()\n",
    "plt.title(\"Averaged Delta CKA Matrix\")\n",
    "plt.show()\n"
   ]
  },
  {
   "cell_type": "code",
   "execution_count": 10,
   "id": "8e81fef8",
   "metadata": {},
   "outputs": [
    {
     "ename": "IndexError",
     "evalue": "list index out of range",
     "output_type": "error",
     "traceback": [
      "\u001b[0;31m---------------------------------------------------------------------------\u001b[0m",
      "\u001b[0;31mIndexError\u001b[0m                                Traceback (most recent call last)",
      "Cell \u001b[0;32mIn[10], line 2\u001b[0m\n\u001b[1;32m      1\u001b[0m \u001b[38;5;28;01mfor\u001b[39;00m i  \u001b[38;5;129;01min\u001b[39;00m \u001b[38;5;28mrange\u001b[39m (\u001b[38;5;28mlen\u001b[39m(mods)):\n\u001b[0;32m----> 2\u001b[0m     plt\u001b[38;5;241m.\u001b[39mplot(\u001b[43mmods\u001b[49m\u001b[43m[\u001b[49m\u001b[38;5;241;43m0\u001b[39;49m\u001b[43m]\u001b[49m\u001b[43m[\u001b[49m\u001b[38;5;241;43m1\u001b[39;49m\u001b[43m]\u001b[49m\u001b[43m[\u001b[49m\u001b[38;5;241;43m0\u001b[39;49m\u001b[43m]\u001b[49m)\n\u001b[1;32m      3\u001b[0m     plt\u001b[38;5;241m.\u001b[39mplot(mods[\u001b[38;5;241m0\u001b[39m][\u001b[38;5;241m1\u001b[39m][\u001b[38;5;241m1\u001b[39m])\n\u001b[1;32m      4\u001b[0m     plt\u001b[38;5;241m.\u001b[39mxlabel(\u001b[38;5;124m\"\u001b[39m\u001b[38;5;124mEpochs\u001b[39m\u001b[38;5;124m\"\u001b[39m)\n",
      "\u001b[0;31mIndexError\u001b[0m: list index out of range"
     ]
    }
   ],
   "source": [
    "for i  in range (len(mods)):\n",
    "    plt.plot(mods[0][1][0])\n",
    "    plt.plot(mods[0][1][1])\n",
    "    plt.xlabel(\"Epochs\")\n",
    "    plt.ylabel(\"Loss\")\n",
    "    plt.legend([\"training loss\",\"validation loss\"])\n",
    "    plt.title(f\"Model{i} Training vs validation loss\")\n",
    "    plt.show()  "
   ]
  },
  {
   "cell_type": "code",
   "execution_count": null,
   "id": "0b100243",
   "metadata": {},
   "outputs": [],
   "source": []
  }
 ],
 "metadata": {
  "kernelspec": {
   "display_name": "src_bachelor",
   "language": "python",
   "name": "python3"
  },
  "language_info": {
   "codemirror_mode": {
    "name": "ipython",
    "version": 3
   },
   "file_extension": ".py",
   "mimetype": "text/x-python",
   "name": "python",
   "nbconvert_exporter": "python",
   "pygments_lexer": "ipython3",
   "version": "3.10.16"
  }
 },
 "nbformat": 4,
 "nbformat_minor": 5
}
