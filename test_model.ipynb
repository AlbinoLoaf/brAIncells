{
 "cells": [
  {
   "cell_type": "markdown",
   "id": "b654b384-ee4e-4223-a48f-ffffb7eb1d6e",
   "metadata": {},
   "source": [
    "### Imports"
   ]
  },
  {
   "cell_type": "code",
   "execution_count": 1,
   "id": "a23748e0-ee24-4a9b-8cab-90b0d02be953",
   "metadata": {},
   "outputs": [],
   "source": [
    "# Imports and set up\n",
    "import numpy as np\n",
    "import pandas as pd\n",
    "import torch\n",
    "import torch.nn as nn\n",
    "import torch.optim as optim\n",
    "import torch.nn.functional as F\n",
    "from torch.utils.data import DataLoader,TensorDataset\n",
    "import matplotlib.pyplot as plt\n",
    "from torcheeg.io.eeg_signal import EEGSignalIO\n",
    "from sklearn.model_selection import train_test_split\n",
    "from einops import rearrange\n",
    "\n",
    "## Path to dir with data (remember the last '/')\n",
    "path = \"../data/\"\n",
    "\n",
    "## Establish connection to datafile\n",
    "IO = EEGSignalIO(io_path=str(path), io_mode='lmdb')\n",
    "## Read metadata dataframeimports\n",
    "metadata = pd.read_csv(path + 'sample_metadata.tsv', sep='\\t')"
   ]
  },
  {
   "cell_type": "markdown",
   "id": "86803f9b",
   "metadata": {},
   "source": [
    "### Load data"
   ]
  },
  {
   "cell_type": "code",
   "execution_count": 3,
   "id": "52b99ce4-2205-4911-8f56-acb6dfde1e8e",
   "metadata": {},
   "outputs": [
    {
     "name": "stdout",
     "output_type": "stream",
     "text": [
      "nsamples: 5184  -  nchannels: 22  -  t: 800\n"
     ]
    }
   ],
   "source": [
    "# Verifying connextion to data\n",
    "idxs = np.arange(len(metadata))\n",
    "\n",
    "X = torch.FloatTensor(np.array([IO.read_eeg(str(i)) for i in idxs]))\n",
    "print(f\"nsamples: {X.shape[0]}  -  nchannels: {X.shape[1]}  -  t: {X.shape[2]}\")\n",
    "\n",
    "y = torch.tensor(metadata[\"value\"].values, dtype=torch.long)"
   ]
  },
  {
   "cell_type": "markdown",
   "id": "3de837ee",
   "metadata": {},
   "source": [
    "### Split data into train, validation and test sets"
   ]
  },
  {
   "cell_type": "code",
   "execution_count": 4,
   "id": "585fda50",
   "metadata": {},
   "outputs": [
    {
     "name": "stdout",
     "output_type": "stream",
     "text": [
      "shape of X train: torch.Size([3110, 22, 800])\n",
      "shape of X val: torch.Size([1037, 22, 800])\n",
      "shape of X test: torch.Size([1037, 22, 800])\n",
      "shape of y train: torch.Size([3110])\n",
      "shape of y val: torch.Size([1037])\n",
      "shape of y test: torch.Size([1037])\n"
     ]
    }
   ],
   "source": [
    "X_train, X_test, y_train, y_test = train_test_split(X, y, test_size=0.4, random_state=42, stratify=y)\n",
    "X_val, X_test, y_val, y_test = train_test_split(X_test, y_test, test_size=0.5, random_state=42)\n",
    "\n",
    "print(f\"shape of X train: {X_train.shape}\")\n",
    "print(f\"shape of X val: {X_val.shape}\")\n",
    "print(f\"shape of X test: {X_test.shape}\")\n",
    "\n",
    "print(f\"shape of y train: {y_train.shape}\")\n",
    "print(f\"shape of y val: {y_val.shape}\")\n",
    "print(f\"shape of y test: {y_test.shape}\")"
   ]
  },
  {
   "cell_type": "code",
   "execution_count": 5,
   "id": "e82f7414-d46e-4a28-a595-1c3b6a652833",
   "metadata": {},
   "outputs": [],
   "source": [
    "#set up of matrixies \n",
    "#number of samples, channels, and timesteps\n",
    "nsamples_train, nchannels_train, t = X_train.shape\n",
    "nsamples_val, nchannels_val, t = X_val.shape\n",
    "\n",
    "train_dataset = TensorDataset(X_train, y_train)\n",
    "val_dataset = TensorDataset(X_val, y_val)\n",
    "\n",
    "train_loader = DataLoader(train_dataset, batch_size=64, shuffle=True)\n",
    "val_loader = DataLoader(val_dataset, batch_size=64, shuffle=True)\n",
    "\n",
    "adj_matrix_train = torch.eye(nchannels_train)\n",
    "adj_matrix_val = torch.eye(nchannels_val)"
   ]
  },
  {
   "cell_type": "code",
   "execution_count": 6,
   "id": "1e20f2ba-732c-4d19-9e0e-0fd4848cbda6",
   "metadata": {},
   "outputs": [
    {
     "name": "stdout",
     "output_type": "stream",
     "text": [
      "torch.Size([22, 22])\n",
      "<class 'torch.Tensor'>\n",
      "3110\n",
      "torch.Size([22, 22])\n",
      "<class 'torch.Tensor'>\n",
      "1037\n"
     ]
    }
   ],
   "source": [
    "print(adj_matrix_train.shape)\n",
    "print(type(adj_matrix_train))\n",
    "print(nsamples_train)\n",
    "\n",
    "print(adj_matrix_val.shape)\n",
    "print(type(adj_matrix_val))\n",
    "print(nsamples_val)"
   ]
  },
  {
   "cell_type": "markdown",
   "id": "e00b2d33",
   "metadata": {},
   "source": [
    "### Model training definition"
   ]
  },
  {
   "cell_type": "code",
   "execution_count": 7,
   "id": "842058ae",
   "metadata": {},
   "outputs": [],
   "source": [
    "class TrainNN():\n",
    "    def __init__(self):\n",
    "        self.device = torch.device(\"cuda\" if torch.cuda.is_available() else \"cpu\")\n",
    "\n",
    "    def train_model(self, model, train_loader, val_loader, learning_rate, epochs=100, prints=True):\n",
    "        model = model.to(self.device)\n",
    "\n",
    "        criterion = nn.CrossEntropyLoss()\n",
    "        optimizer = optim.Adam(model.parameters(), lr=learning_rate)\n",
    "\n",
    "        highest_train_accuracy = 0.0\n",
    "        \n",
    "        losses_train = []; losses_val = []\n",
    "\n",
    "        for epoch in range(epochs):\n",
    "            model.train()\n",
    "            running_loss = 0.0; running_loss_val = 0.0\n",
    "            correct = 0; correct_val = 0\n",
    "            total = 0; total_val = 0\n",
    "            \n",
    "            for inputs, labels in train_loader:\n",
    "                inputs = inputs.to(self.device)\n",
    "                labels = labels.to(self.device)\n",
    "\n",
    "                optimizer.zero_grad()\n",
    "                outputs = model(inputs)  # Forward pass\n",
    "                loss = criterion(outputs, labels)\n",
    "                loss.backward()\n",
    "                optimizer.step()\n",
    "\n",
    "                running_loss += loss.item() * inputs.size(0)\n",
    "                _, predicted = torch.max(outputs, 1)\n",
    "                total += labels.size(0)\n",
    "                correct += (predicted == labels).sum().item()\n",
    "\n",
    "            epoch_loss = running_loss / len(train_loader.dataset)\n",
    "            epoch_accuracy = correct/total\n",
    "            losses_train.append(epoch_loss)\n",
    "            \n",
    "            for inputs, labels in val_loader:\n",
    "                outputs = model(inputs)\n",
    "                loss = criterion(outputs, labels)\n",
    "                \n",
    "                running_loss_val += loss.item() * inputs.size(0)\n",
    "                _, predicted = torch.max(outputs, 1)\n",
    "                total_val += labels.size(0)\n",
    "                correct_val += (predicted == labels).sum().item()\n",
    "                \n",
    "            epoch_loss_val = running_loss_val / len(val_loader.dataset)\n",
    "            epoch_accuracy_val = correct_val/total_val\n",
    "            losses_val.append(epoch_loss_val)\n",
    "                \n",
    "            if epoch_accuracy > highest_train_accuracy:\n",
    "                highest_train_accuracy = epoch_accuracy\n",
    "\n",
    "            if prints:\n",
    "                print(f\"Epoch {epoch+1}/{epochs}, Train loss: {epoch_loss:.4f}, Train acc: {(epoch_accuracy*100):.2f}%\" +\n",
    "                     f\"| Val loss: {epoch_loss_val:.4f}, Val acc: {(epoch_accuracy_val*100):.2f}%\")\n",
    "\n",
    "        print(f\"Highest Train Accuracy {(highest_train_accuracy*100):.2f}\")\n",
    "        torch.save(model.state_dict(), 'eeg_gnn.pth')\n",
    "        \n",
    "        losses = [losses_train, losses_val]\n",
    "\n",
    "        return model, losses"
   ]
  },
  {
   "cell_type": "markdown",
   "id": "88434cd4",
   "metadata": {},
   "source": [
    "### Model architecture"
   ]
  },
  {
   "cell_type": "code",
   "execution_count": 8,
   "id": "1bd83d4c",
   "metadata": {},
   "outputs": [],
   "source": [
    "class CollapsedShallowNet(nn.Module):\n",
    "    \"\"\"\n",
    "    A version of the ShallowFBCSPNet model with a combined spatiotemporal convolution instead of separate temporal and spatial convolutions\n",
    "\n",
    "    Args:\n",
    "        n_chans (int): Number of input channels.\n",
    "        n_outputs (int): Number of output classes.\n",
    "        n_times (int, optional): Number of timepoints in the input.\n",
    "        dropout (float, optional): Dropout probability. Defaults to 0.5.\n",
    "        num_kernels (int, optional): Number of kernels in the spatiotemporal convolution. Defaults to 40.\n",
    "        kernel_size (int, optional): Size of the kernel in the spatiotemporal convolution. Defaults to 25.\n",
    "        pool_size (int, optional): Size of the pooling window in the spatiotemporal convolution. Default is 100.\n",
    "    \"\"\"\n",
    "\n",
    "    def __init__(self, n_chans, n_outputs, n_times=1001, dropout=0.5, num_kernels=40, kernel_size=25, pool_size=100):\n",
    "        super(CollapsedShallowNet, self).__init__()\n",
    "        self.spatio_temporal = nn.Conv2d(\n",
    "            n_chans, num_kernels, (1, kernel_size))\n",
    "        self.pool = nn.AvgPool2d((1, pool_size))\n",
    "        self.batch_norm = nn.BatchNorm2d(num_kernels)\n",
    "        self.dropout = nn.Dropout(dropout)\n",
    "        self.fc = nn.LazyLinear(n_outputs)\n",
    "\n",
    "    def forward(self, x):\n",
    "        x = torch.unsqueeze(x, dim=2)\n",
    "        x = self.spatio_temporal(x)\n",
    "        x = F.elu(x)\n",
    "        x = self.batch_norm(x)\n",
    "        x = self.pool(x)\n",
    "        x = x.view(x.size(0), -1)\n",
    "        x = self.dropout(x)\n",
    "        x = self.fc(x)\n",
    "        return x\n"
   ]
  },
  {
   "cell_type": "markdown",
   "id": "e594f2e4",
   "metadata": {},
   "source": [
    "### Training & model hyperparameters"
   ]
  },
  {
   "cell_type": "code",
   "execution_count": 17,
   "id": "fb3d89d4",
   "metadata": {},
   "outputs": [],
   "source": [
    "# Model parameters\n",
    "n_chans = 22\n",
    "n_outputs = y.max().item() + 1\n",
    "n_times = 800\n",
    "dropout = 0.6\n",
    "n_kernels = 40\n",
    "kernel_size = 25\n",
    "pool_size = 100\n",
    "\n",
    "# Training parameters\n",
    "lr = 1e-3\n",
    "epochs = 60"
   ]
  },
  {
   "cell_type": "markdown",
   "id": "72172e49",
   "metadata": {},
   "source": [
    "### Training"
   ]
  },
  {
   "cell_type": "code",
   "execution_count": 18,
   "id": "264f74e7",
   "metadata": {},
   "outputs": [
    {
     "name": "stdout",
     "output_type": "stream",
     "text": [
      "Epoch 1/60, Train loss: 1.5374, Train acc: 31.09%| Val loss: 1.4589, Val acc: 34.23%\n",
      "Epoch 2/60, Train loss: 1.3773, Train acc: 38.26%| Val loss: 1.3297, Val acc: 37.13%\n",
      "Epoch 3/60, Train loss: 1.2830, Train acc: 41.54%| Val loss: 1.2691, Val acc: 41.66%\n",
      "Epoch 4/60, Train loss: 1.2394, Train acc: 43.73%| Val loss: 1.2492, Val acc: 42.43%\n",
      "Epoch 5/60, Train loss: 1.2096, Train acc: 46.37%| Val loss: 1.2114, Val acc: 44.94%\n",
      "Epoch 6/60, Train loss: 1.1784, Train acc: 47.56%| Val loss: 1.1966, Val acc: 44.17%\n",
      "Epoch 7/60, Train loss: 1.1534, Train acc: 49.68%| Val loss: 1.1795, Val acc: 47.44%\n",
      "Epoch 8/60, Train loss: 1.1355, Train acc: 49.23%| Val loss: 1.1734, Val acc: 47.35%\n",
      "Epoch 9/60, Train loss: 1.1130, Train acc: 51.03%| Val loss: 1.1589, Val acc: 47.35%\n",
      "Epoch 10/60, Train loss: 1.0958, Train acc: 51.80%| Val loss: 1.1584, Val acc: 46.38%\n",
      "Epoch 11/60, Train loss: 1.0914, Train acc: 51.41%| Val loss: 1.1378, Val acc: 48.70%\n",
      "Epoch 12/60, Train loss: 1.0766, Train acc: 53.79%| Val loss: 1.1573, Val acc: 48.51%\n",
      "Epoch 13/60, Train loss: 1.0709, Train acc: 53.38%| Val loss: 1.1360, Val acc: 46.67%\n",
      "Epoch 14/60, Train loss: 1.0620, Train acc: 53.95%| Val loss: 1.1231, Val acc: 49.37%\n",
      "Epoch 15/60, Train loss: 1.0480, Train acc: 54.73%| Val loss: 1.1259, Val acc: 50.63%\n",
      "Epoch 16/60, Train loss: 1.0493, Train acc: 54.69%| Val loss: 1.1205, Val acc: 49.28%\n",
      "Epoch 17/60, Train loss: 1.0318, Train acc: 55.85%| Val loss: 1.1223, Val acc: 47.93%\n",
      "Epoch 18/60, Train loss: 1.0403, Train acc: 55.56%| Val loss: 1.1268, Val acc: 49.37%\n",
      "Epoch 19/60, Train loss: 1.0276, Train acc: 56.14%| Val loss: 1.1164, Val acc: 49.86%\n",
      "Epoch 20/60, Train loss: 1.0210, Train acc: 55.98%| Val loss: 1.1216, Val acc: 51.11%\n",
      "Epoch 21/60, Train loss: 1.0166, Train acc: 55.98%| Val loss: 1.1289, Val acc: 51.40%\n",
      "Epoch 22/60, Train loss: 1.0032, Train acc: 55.88%| Val loss: 1.1069, Val acc: 51.98%\n",
      "Epoch 23/60, Train loss: 1.0050, Train acc: 57.01%| Val loss: 1.0872, Val acc: 51.69%\n",
      "Epoch 24/60, Train loss: 0.9977, Train acc: 57.68%| Val loss: 1.0952, Val acc: 52.36%\n",
      "Epoch 25/60, Train loss: 0.9899, Train acc: 57.23%| Val loss: 1.1010, Val acc: 52.36%\n",
      "Epoch 26/60, Train loss: 0.9812, Train acc: 57.88%| Val loss: 1.0891, Val acc: 52.56%\n",
      "Epoch 27/60, Train loss: 0.9702, Train acc: 59.04%| Val loss: 1.0978, Val acc: 52.46%\n",
      "Epoch 28/60, Train loss: 0.9875, Train acc: 58.30%| Val loss: 1.0885, Val acc: 51.88%\n",
      "Epoch 29/60, Train loss: 0.9712, Train acc: 58.65%| Val loss: 1.0644, Val acc: 54.48%\n",
      "Epoch 30/60, Train loss: 0.9653, Train acc: 60.06%| Val loss: 1.1092, Val acc: 51.11%\n",
      "Epoch 31/60, Train loss: 0.9722, Train acc: 58.97%| Val loss: 1.1061, Val acc: 51.01%\n",
      "Epoch 32/60, Train loss: 0.9609, Train acc: 59.74%| Val loss: 1.1080, Val acc: 52.17%\n",
      "Epoch 33/60, Train loss: 0.9529, Train acc: 59.77%| Val loss: 1.0991, Val acc: 54.58%\n",
      "Epoch 34/60, Train loss: 0.9645, Train acc: 59.07%| Val loss: 1.0731, Val acc: 53.04%\n",
      "Epoch 35/60, Train loss: 0.9609, Train acc: 59.71%| Val loss: 1.0581, Val acc: 55.93%\n",
      "Epoch 36/60, Train loss: 0.9601, Train acc: 59.65%| Val loss: 1.0952, Val acc: 53.13%\n",
      "Epoch 37/60, Train loss: 0.9517, Train acc: 59.81%| Val loss: 1.0657, Val acc: 54.39%\n",
      "Epoch 38/60, Train loss: 0.9469, Train acc: 59.97%| Val loss: 1.0827, Val acc: 52.75%\n",
      "Epoch 39/60, Train loss: 0.9466, Train acc: 60.29%| Val loss: 1.0761, Val acc: 52.94%\n",
      "Epoch 40/60, Train loss: 0.9502, Train acc: 60.58%| Val loss: 1.0766, Val acc: 53.81%\n",
      "Epoch 41/60, Train loss: 0.9368, Train acc: 60.16%| Val loss: 1.0936, Val acc: 53.13%\n",
      "Epoch 42/60, Train loss: 0.9550, Train acc: 59.77%| Val loss: 1.0910, Val acc: 54.00%\n",
      "Epoch 43/60, Train loss: 0.9449, Train acc: 60.26%| Val loss: 1.1100, Val acc: 53.13%\n",
      "Epoch 44/60, Train loss: 0.9278, Train acc: 61.19%| Val loss: 1.0769, Val acc: 52.46%\n",
      "Epoch 45/60, Train loss: 0.9249, Train acc: 63.05%| Val loss: 1.0320, Val acc: 58.24%\n",
      "Epoch 46/60, Train loss: 0.9208, Train acc: 61.61%| Val loss: 1.0639, Val acc: 54.29%\n",
      "Epoch 47/60, Train loss: 0.9235, Train acc: 62.06%| Val loss: 1.0971, Val acc: 52.75%\n",
      "Epoch 48/60, Train loss: 0.9189, Train acc: 61.32%| Val loss: 1.0911, Val acc: 54.58%\n",
      "Epoch 49/60, Train loss: 0.9167, Train acc: 62.15%| Val loss: 1.0956, Val acc: 52.84%\n",
      "Epoch 50/60, Train loss: 0.9068, Train acc: 61.67%| Val loss: 1.0606, Val acc: 54.00%\n",
      "Epoch 51/60, Train loss: 0.9197, Train acc: 61.19%| Val loss: 1.0751, Val acc: 54.19%\n",
      "Epoch 52/60, Train loss: 0.9335, Train acc: 62.15%| Val loss: 1.0830, Val acc: 52.36%\n",
      "Epoch 53/60, Train loss: 0.9178, Train acc: 61.61%| Val loss: 1.0931, Val acc: 53.33%\n",
      "Epoch 54/60, Train loss: 0.9009, Train acc: 61.19%| Val loss: 1.0610, Val acc: 55.26%\n",
      "Epoch 55/60, Train loss: 0.9075, Train acc: 61.58%| Val loss: 1.0840, Val acc: 53.71%\n",
      "Epoch 56/60, Train loss: 0.8999, Train acc: 62.73%| Val loss: 1.0701, Val acc: 54.68%\n",
      "Epoch 57/60, Train loss: 0.9176, Train acc: 61.22%| Val loss: 1.0744, Val acc: 54.48%\n",
      "Epoch 58/60, Train loss: 0.9045, Train acc: 61.86%| Val loss: 1.0716, Val acc: 54.29%\n",
      "Epoch 59/60, Train loss: 0.8921, Train acc: 63.63%| Val loss: 1.0824, Val acc: 54.48%\n",
      "Epoch 60/60, Train loss: 0.9056, Train acc: 61.74%| Val loss: 1.0935, Val acc: 53.52%\n",
      "Highest Train Accuracy 63.63\n"
     ]
    }
   ],
   "source": [
    "nclasses = y.max().item() + 1 \n",
    "model = CollapsedShallowNet(n_chans, n_outputs, n_times=n_times, dropout=dropout, num_kernels=n_kernels,\n",
    "                           kernel_size=kernel_size, pool_size=pool_size)\n",
    "\n",
    "trainer = TrainNN()\n",
    "trained_model, losses = trainer.train_model(model, train_loader, val_loader, learning_rate=lr, epochs=epochs, prints=True)"
   ]
  },
  {
   "cell_type": "code",
   "execution_count": 14,
   "id": "8e81fef8",
   "metadata": {},
   "outputs": [
    {
     "data": {
      "image/png": "[encoded data removed]",
      "text/plain": [
       "<Figure size 640x480 with 1 Axes>"
      ]
     },
     "metadata": {},
     "output_type": "display_data"
    }
   ],
   "source": [
    "plt.plot(losses[0])\n",
    "plt.plot(losses[1])\n",
    "plt.xlabel(\"Epochs\")\n",
    "plt.ylabel(\"Loss\")\n",
    "plt.legend([\"training loss\",\"validation loss\"])\n",
    "plt.title(\"Training vs validation loss\");"
   ]
  }
 ],
 "metadata": {
  "kernelspec": {
   "display_name": "thesis",
   "language": "python",
   "name": "thesis"
  },
  "language_info": {
   "codemirror_mode": {
    "name": "ipython",
    "version": 3
   },
   "file_extension": ".py",
   "mimetype": "text/x-python",
   "name": "python",
   "nbconvert_exporter": "python",
   "pygments_lexer": "ipython3",
   "version": "3.12.9"
  }
 },
 "nbformat": 4,
 "nbformat_minor": 5
}
