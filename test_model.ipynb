{
 "cells": [
  {
   "cell_type": "markdown",
   "id": "b654b384-ee4e-4223-a48f-ffffb7eb1d6e",
   "metadata": {},
   "source": [
    "### Imports"
   ]
  },
  {
   "cell_type": "code",
   "execution_count": 12,
   "id": "a23748e0-ee24-4a9b-8cab-90b0d02be953",
   "metadata": {},
   "outputs": [],
   "source": [
    "# Imports and set up\n",
    "import numpy as np\n",
    "import pandas as pd\n",
    "import torch\n",
    "import torch.nn as nn\n",
    "import torch.optim as optim\n",
    "import torch.nn.functional as F\n",
    "from torch.utils.data import DataLoader,TensorDataset\n",
    "import matplotlib.pyplot as plt\n",
    "from torcheeg.io.eeg_signal import EEGSignalIO\n",
    "from sklearn.model_selection import train_test_split\n",
    "from einops import rearrange\n",
    "\n",
    "## CKA stuff\n",
    "from tqdm.autonotebook import tqdm\n",
    "from cka import CKACalculator\n",
    "\n",
    "\n",
    "## Path to dir with data (remember the last '/')\n",
    "path = \"../data/\"\n",
    "\n",
    "## Establish connection to datafile\n",
    "IO = EEGSignalIO(io_path=str(path), io_mode='lmdb')\n",
    "## Read metadata dataframeimports\n",
    "metadata = pd.read_csv(path + 'sample_metadata.tsv', sep='\\t')"
   ]
  },
  {
   "cell_type": "markdown",
   "id": "86803f9b",
   "metadata": {},
   "source": [
    "### Load data"
   ]
  },
  {
   "cell_type": "code",
   "execution_count": 13,
   "id": "52b99ce4-2205-4911-8f56-acb6dfde1e8e",
   "metadata": {},
   "outputs": [
    {
     "name": "stdout",
     "output_type": "stream",
     "text": [
      "nsamples: 5184  -  nchannels: 22  -  t: 800\n"
     ]
    }
   ],
   "source": [
    "# Verifying connextion to data\n",
    "idxs = np.arange(len(metadata))\n",
    "\n",
    "X = torch.FloatTensor(np.array([IO.read_eeg(str(i)) for i in idxs]))\n",
    "print(f\"nsamples: {X.shape[0]}  -  nchannels: {X.shape[1]}  -  t: {X.shape[2]}\")\n",
    "\n",
    "y = torch.tensor(metadata[\"value\"].values, dtype=torch.long)"
   ]
  },
  {
   "cell_type": "markdown",
   "id": "3de837ee",
   "metadata": {},
   "source": [
    "### Split data into train, validation and test sets"
   ]
  },
  {
   "cell_type": "code",
   "execution_count": 14,
   "id": "585fda50",
   "metadata": {},
   "outputs": [
    {
     "name": "stdout",
     "output_type": "stream",
     "text": [
      "shape of X train: torch.Size([3110, 22, 800])\n",
      "shape of X val: torch.Size([1037, 22, 800])\n",
      "shape of X test: torch.Size([1037, 22, 800])\n",
      "shape of y train: torch.Size([3110])\n",
      "shape of y val: torch.Size([1037])\n",
      "shape of y test: torch.Size([1037])\n"
     ]
    }
   ],
   "source": [
    "X_train, X_test, y_train, y_test = train_test_split(X, y, test_size=0.4, random_state=42, stratify=y)\n",
    "X_val, X_test, y_val, y_test = train_test_split(X_test, y_test, test_size=0.5, random_state=42)\n",
    "\n",
    "print(f\"shape of X train: {X_train.shape}\")\n",
    "print(f\"shape of X val: {X_val.shape}\")\n",
    "print(f\"shape of X test: {X_test.shape}\")\n",
    "\n",
    "print(f\"shape of y train: {y_train.shape}\")\n",
    "print(f\"shape of y val: {y_val.shape}\")\n",
    "print(f\"shape of y test: {y_test.shape}\")"
   ]
  },
  {
   "cell_type": "code",
   "execution_count": 15,
   "id": "e82f7414-d46e-4a28-a595-1c3b6a652833",
   "metadata": {},
   "outputs": [],
   "source": [
    "#set up of matrixies \n",
    "#number of samples, channels, and timesteps\n",
    "nsamples_train, nchannels_train, t = X_train.shape\n",
    "nsamples_val, nchannels_val, t = X_val.shape\n",
    "\n",
    "train_dataset = TensorDataset(X_train, y_train)\n",
    "val_dataset = TensorDataset(X_val, y_val)\n",
    "\n",
    "train_loader = DataLoader(train_dataset, batch_size=64, shuffle=True)\n",
    "val_loader = DataLoader(val_dataset, batch_size=64, shuffle=True)\n",
    "\n",
    "adj_matrix_train = torch.eye(nchannels_train)\n",
    "adj_matrix_val = torch.eye(nchannels_val)"
   ]
  },
  {
   "cell_type": "code",
   "execution_count": 16,
   "id": "1e20f2ba-732c-4d19-9e0e-0fd4848cbda6",
   "metadata": {},
   "outputs": [
    {
     "name": "stdout",
     "output_type": "stream",
     "text": [
      "torch.Size([22, 22])\n",
      "<class 'torch.Tensor'>\n",
      "3110\n",
      "torch.Size([22, 22])\n",
      "<class 'torch.Tensor'>\n",
      "1037\n"
     ]
    }
   ],
   "source": [
    "print(adj_matrix_train.shape)\n",
    "print(type(adj_matrix_train))\n",
    "print(nsamples_train)\n",
    "\n",
    "print(adj_matrix_val.shape)\n",
    "print(type(adj_matrix_val))\n",
    "print(nsamples_val)"
   ]
  },
  {
   "cell_type": "markdown",
   "id": "e00b2d33",
   "metadata": {},
   "source": [
    "### Model training definition"
   ]
  },
  {
   "cell_type": "code",
   "execution_count": 17,
   "id": "842058ae",
   "metadata": {},
   "outputs": [],
   "source": [
    "class TrainNN():\n",
    "    def __init__(self):\n",
    "        self.device = torch.device(\"cuda\" if torch.cuda.is_available() else \"cpu\")\n",
    "\n",
    "    def train_model(self, model, train_loader, val_loader, learning_rate, epochs=100, prints=True):\n",
    "        model = model.to(self.device)\n",
    "\n",
    "        criterion = nn.CrossEntropyLoss()\n",
    "        optimizer = optim.Adam(model.parameters(), lr=learning_rate)\n",
    "\n",
    "        highest_train_accuracy = 0.0\n",
    "        \n",
    "        losses_train = []; losses_val = []\n",
    "\n",
    "        for epoch in range(epochs):\n",
    "            model.train()\n",
    "            running_loss = 0.0; running_loss_val = 0.0\n",
    "            correct = 0; correct_val = 0\n",
    "            total = 0; total_val = 0\n",
    "            \n",
    "            for inputs, labels in train_loader:\n",
    "                inputs = inputs.to(self.device)\n",
    "                labels = labels.to(self.device)\n",
    "\n",
    "                optimizer.zero_grad()\n",
    "                outputs = model(inputs)  # Forward pass\n",
    "                loss = criterion(outputs, labels)\n",
    "                loss.backward()\n",
    "                optimizer.step()\n",
    "\n",
    "                running_loss += loss.item() * inputs.size(0)\n",
    "                _, predicted = torch.max(outputs, 1)\n",
    "                total += labels.size(0)\n",
    "                correct += (predicted == labels).sum().item()\n",
    "\n",
    "            epoch_loss = running_loss / len(train_loader.dataset)\n",
    "            epoch_accuracy = correct/total\n",
    "            losses_train.append(epoch_loss)\n",
    "            \n",
    "            for inputs, labels in val_loader:\n",
    "                outputs = model(inputs)\n",
    "                loss = criterion(outputs, labels)\n",
    "                \n",
    "                running_loss_val += loss.item() * inputs.size(0)\n",
    "                _, predicted = torch.max(outputs, 1)\n",
    "                total_val += labels.size(0)\n",
    "                correct_val += (predicted == labels).sum().item()\n",
    "                \n",
    "            epoch_loss_val = running_loss_val / len(val_loader.dataset)\n",
    "            epoch_accuracy_val = correct_val/total_val\n",
    "            losses_val.append(epoch_loss_val)\n",
    "                \n",
    "            if epoch_accuracy > highest_train_accuracy:\n",
    "                highest_train_accuracy = epoch_accuracy\n",
    "\n",
    "            if prints:\n",
    "                print(f\"Epoch {epoch+1}/{epochs}, Train loss: {epoch_loss:.4f}, Train acc: {(epoch_accuracy*100):.2f}%\" +\n",
    "                     f\"| Val loss: {epoch_loss_val:.4f}, Val acc: {(epoch_accuracy_val*100):.2f}%\")\n",
    "\n",
    "        print(f\"Highest Train Accuracy {(highest_train_accuracy*100):.2f}\")\n",
    "        torch.save(model.state_dict(), 'eeg_gnn.pth')\n",
    "        \n",
    "        losses = [losses_train, losses_val]\n",
    "\n",
    "        return model, losses"
   ]
  },
  {
   "cell_type": "markdown",
   "id": "88434cd4",
   "metadata": {},
   "source": [
    "### Model architecture"
   ]
  },
  {
   "cell_type": "code",
   "execution_count": 18,
   "id": "1bd83d4c",
   "metadata": {},
   "outputs": [],
   "source": [
    "class CollapsedShallowNet(nn.Module):\n",
    "    \"\"\"\n",
    "    A version of the ShallowFBCSPNet model with a combined spatiotemporal convolution instead of separate temporal and spatial convolutions\n",
    "\n",
    "    Args:\n",
    "        n_chans (int): Number of input channels.\n",
    "        n_outputs (int): Number of output classes.\n",
    "        n_times (int, optional): Number of timepoints in the input.\n",
    "        dropout (float, optional): Dropout probability. Defaults to 0.5.\n",
    "        num_kernels (int, optional): Number of kernels in the spatiotemporal convolution. Defaults to 40.\n",
    "        kernel_size (int, optional): Size of the kernel in the spatiotemporal convolution. Defaults to 25.\n",
    "        pool_size (int, optional): Size of the pooling window in the spatiotemporal convolution. Default is 100.\n",
    "    \"\"\"\n",
    "\n",
    "    def __init__(self, n_chans, n_outputs, n_times=1001, dropout=0.5, num_kernels=40, kernel_size=25, pool_size=100):\n",
    "        super(CollapsedShallowNet, self).__init__()\n",
    "        self.spatio_temporal = nn.Conv2d(\n",
    "            n_chans, num_kernels, (1, kernel_size))\n",
    "        self.pool = nn.AvgPool2d((1, pool_size))\n",
    "        self.batch_norm = nn.BatchNorm2d(num_kernels)\n",
    "        self.dropout = nn.Dropout(dropout)\n",
    "        self.fc = nn.LazyLinear(n_outputs)\n",
    "\n",
    "    def forward(self, x):\n",
    "        x = torch.unsqueeze(x, dim=2)\n",
    "        x = self.spatio_temporal(x)\n",
    "        x = F.elu(x)\n",
    "        x = self.batch_norm(x)\n",
    "        x = self.pool(x)\n",
    "        x = x.view(x.size(0), -1)\n",
    "        x = self.dropout(x)\n",
    "        x = self.fc(x)\n",
    "        return x\n"
   ]
  },
  {
   "cell_type": "markdown",
   "id": "e594f2e4",
   "metadata": {},
   "source": [
    "### Training & model hyperparameters"
   ]
  },
  {
   "cell_type": "code",
   "execution_count": 8,
   "id": "fb3d89d4",
   "metadata": {},
   "outputs": [],
   "source": [
    "# Model parameters\n",
    "n_chans = 22\n",
    "n_outputs = y.max().item() + 1\n",
    "n_times = 800\n",
    "dropout = 0.6\n",
    "n_kernels = 40\n",
    "kernel_size = 25\n",
    "pool_size = 100\n",
    "\n",
    "# Training parameters\n",
    "lr = 1e-3\n",
    "epochs = 60"
   ]
  },
  {
   "cell_type": "markdown",
   "id": "72172e49",
   "metadata": {},
   "source": [
    "### Training"
   ]
  },
  {
   "cell_type": "code",
   "execution_count": 9,
   "id": "264f74e7",
   "metadata": {},
   "outputs": [
    {
     "name": "stdout",
     "output_type": "stream",
     "text": [
      "Epoch 1/60, Train loss: 1.5466, Train acc: 29.71%| Val loss: 1.4736, Val acc: 33.17%\n",
      "Epoch 2/60, Train loss: 1.3789, Train acc: 36.88%| Val loss: 1.3392, Val acc: 36.74%\n",
      "Epoch 3/60, Train loss: 1.2900, Train acc: 41.22%| Val loss: 1.2898, Val acc: 40.02%\n",
      "Epoch 4/60, Train loss: 1.2397, Train acc: 44.24%| Val loss: 1.2514, Val acc: 41.56%\n",
      "Epoch 5/60, Train loss: 1.2116, Train acc: 45.85%| Val loss: 1.2318, Val acc: 44.07%\n",
      "Epoch 6/60, Train loss: 1.1869, Train acc: 47.85%| Val loss: 1.2010, Val acc: 43.97%\n",
      "Epoch 7/60, Train loss: 1.1640, Train acc: 48.71%| Val loss: 1.1848, Val acc: 46.38%\n",
      "Epoch 8/60, Train loss: 1.1354, Train acc: 49.84%| Val loss: 1.1614, Val acc: 46.29%\n",
      "Epoch 9/60, Train loss: 1.1214, Train acc: 52.09%| Val loss: 1.1431, Val acc: 48.60%\n",
      "Epoch 10/60, Train loss: 1.1006, Train acc: 51.74%| Val loss: 1.1410, Val acc: 48.41%\n",
      "Epoch 11/60, Train loss: 1.0888, Train acc: 51.70%| Val loss: 1.1304, Val acc: 48.31%\n",
      "Epoch 12/60, Train loss: 1.0779, Train acc: 53.28%| Val loss: 1.1358, Val acc: 49.86%\n",
      "Epoch 13/60, Train loss: 1.0831, Train acc: 52.60%| Val loss: 1.1434, Val acc: 48.60%\n",
      "Epoch 14/60, Train loss: 1.0746, Train acc: 53.50%| Val loss: 1.1164, Val acc: 49.08%\n",
      "Epoch 15/60, Train loss: 1.0619, Train acc: 53.92%| Val loss: 1.1174, Val acc: 50.72%\n",
      "Epoch 16/60, Train loss: 1.0510, Train acc: 55.08%| Val loss: 1.1139, Val acc: 51.21%\n",
      "Epoch 17/60, Train loss: 1.0399, Train acc: 54.86%| Val loss: 1.1220, Val acc: 49.57%\n",
      "Epoch 18/60, Train loss: 1.0433, Train acc: 54.50%| Val loss: 1.1153, Val acc: 51.30%\n",
      "Epoch 19/60, Train loss: 1.0337, Train acc: 55.43%| Val loss: 1.1206, Val acc: 49.08%\n",
      "Epoch 20/60, Train loss: 1.0244, Train acc: 55.79%| Val loss: 1.1278, Val acc: 51.30%\n",
      "Epoch 21/60, Train loss: 1.0336, Train acc: 55.14%| Val loss: 1.0960, Val acc: 51.40%\n",
      "Epoch 22/60, Train loss: 1.0200, Train acc: 55.69%| Val loss: 1.1154, Val acc: 51.30%\n",
      "Epoch 23/60, Train loss: 0.9990, Train acc: 57.56%| Val loss: 1.1040, Val acc: 49.57%\n",
      "Epoch 24/60, Train loss: 1.0012, Train acc: 58.94%| Val loss: 1.1182, Val acc: 50.53%\n",
      "Epoch 25/60, Train loss: 1.0116, Train acc: 57.01%| Val loss: 1.1016, Val acc: 53.04%\n",
      "Epoch 26/60, Train loss: 0.9974, Train acc: 57.43%| Val loss: 1.0893, Val acc: 53.42%\n",
      "Epoch 27/60, Train loss: 0.9823, Train acc: 58.71%| Val loss: 1.1134, Val acc: 49.95%\n",
      "Epoch 28/60, Train loss: 0.9980, Train acc: 58.10%| Val loss: 1.1023, Val acc: 51.98%\n",
      "Epoch 29/60, Train loss: 0.9759, Train acc: 58.94%| Val loss: 1.0962, Val acc: 53.13%\n",
      "Epoch 30/60, Train loss: 0.9760, Train acc: 59.04%| Val loss: 1.0975, Val acc: 52.17%\n",
      "Epoch 31/60, Train loss: 0.9782, Train acc: 59.04%| Val loss: 1.1088, Val acc: 51.88%\n",
      "Epoch 32/60, Train loss: 0.9650, Train acc: 59.55%| Val loss: 1.0718, Val acc: 52.36%\n",
      "Epoch 33/60, Train loss: 0.9674, Train acc: 59.55%| Val loss: 1.0873, Val acc: 52.17%\n",
      "Epoch 34/60, Train loss: 0.9676, Train acc: 59.32%| Val loss: 1.0881, Val acc: 53.33%\n",
      "Epoch 35/60, Train loss: 0.9539, Train acc: 60.13%| Val loss: 1.0582, Val acc: 53.81%\n",
      "Epoch 36/60, Train loss: 0.9541, Train acc: 60.48%| Val loss: 1.0966, Val acc: 53.23%\n",
      "Epoch 37/60, Train loss: 0.9610, Train acc: 59.65%| Val loss: 1.0796, Val acc: 53.81%\n",
      "Epoch 38/60, Train loss: 0.9502, Train acc: 59.90%| Val loss: 1.0824, Val acc: 53.33%\n",
      "Epoch 39/60, Train loss: 0.9425, Train acc: 60.64%| Val loss: 1.0689, Val acc: 53.23%\n",
      "Epoch 40/60, Train loss: 0.9417, Train acc: 60.23%| Val loss: 1.0799, Val acc: 51.49%\n",
      "Epoch 41/60, Train loss: 0.9443, Train acc: 61.06%| Val loss: 1.0608, Val acc: 54.00%\n",
      "Epoch 42/60, Train loss: 0.9384, Train acc: 60.87%| Val loss: 1.0875, Val acc: 52.84%\n",
      "Epoch 43/60, Train loss: 0.9458, Train acc: 59.29%| Val loss: 1.0816, Val acc: 54.10%\n",
      "Epoch 44/60, Train loss: 0.9440, Train acc: 60.93%| Val loss: 1.0998, Val acc: 54.10%\n",
      "Epoch 45/60, Train loss: 0.9350, Train acc: 61.03%| Val loss: 1.1014, Val acc: 52.56%\n",
      "Epoch 46/60, Train loss: 0.9328, Train acc: 61.25%| Val loss: 1.0910, Val acc: 54.10%\n",
      "Epoch 47/60, Train loss: 0.9355, Train acc: 61.09%| Val loss: 1.0708, Val acc: 52.46%\n",
      "Epoch 48/60, Train loss: 0.9283, Train acc: 61.96%| Val loss: 1.0928, Val acc: 50.43%\n",
      "Epoch 49/60, Train loss: 0.9274, Train acc: 61.16%| Val loss: 1.0950, Val acc: 53.91%\n",
      "Epoch 50/60, Train loss: 0.9222, Train acc: 62.54%| Val loss: 1.0456, Val acc: 54.77%\n",
      "Epoch 51/60, Train loss: 0.9330, Train acc: 61.67%| Val loss: 1.0763, Val acc: 54.10%\n",
      "Epoch 52/60, Train loss: 0.9062, Train acc: 62.38%| Val loss: 1.0862, Val acc: 52.56%\n",
      "Epoch 53/60, Train loss: 0.9040, Train acc: 62.25%| Val loss: 1.0427, Val acc: 54.58%\n",
      "Epoch 54/60, Train loss: 0.9286, Train acc: 61.61%| Val loss: 1.0568, Val acc: 54.48%\n",
      "Epoch 55/60, Train loss: 0.8988, Train acc: 63.38%| Val loss: 1.0626, Val acc: 52.94%\n",
      "Epoch 56/60, Train loss: 0.9136, Train acc: 61.51%| Val loss: 1.0753, Val acc: 55.06%\n",
      "Epoch 57/60, Train loss: 0.8987, Train acc: 62.54%| Val loss: 1.1001, Val acc: 50.34%\n",
      "Epoch 58/60, Train loss: 0.9056, Train acc: 62.54%| Val loss: 1.0660, Val acc: 55.45%\n",
      "Epoch 59/60, Train loss: 0.9079, Train acc: 61.93%| Val loss: 1.0861, Val acc: 53.33%\n",
      "Epoch 60/60, Train loss: 0.9058, Train acc: 61.86%| Val loss: 1.1101, Val acc: 52.94%\n",
      "Highest Train Accuracy 63.38\n",
      "Epoch 1/60, Train loss: 1.5454, Train acc: 30.64%| Val loss: 1.4707, Val acc: 32.69%\n",
      "Epoch 2/60, Train loss: 1.3832, Train acc: 36.50%| Val loss: 1.3325, Val acc: 36.93%\n",
      "Epoch 3/60, Train loss: 1.2891, Train acc: 40.80%| Val loss: 1.2856, Val acc: 39.92%\n",
      "Epoch 4/60, Train loss: 1.2462, Train acc: 42.83%| Val loss: 1.2353, Val acc: 41.08%\n",
      "Epoch 5/60, Train loss: 1.2102, Train acc: 46.43%| Val loss: 1.2147, Val acc: 44.74%\n",
      "Epoch 6/60, Train loss: 1.1764, Train acc: 47.36%| Val loss: 1.1915, Val acc: 45.32%\n",
      "Epoch 7/60, Train loss: 1.1515, Train acc: 49.55%| Val loss: 1.1775, Val acc: 45.61%\n",
      "Epoch 8/60, Train loss: 1.1222, Train acc: 49.81%| Val loss: 1.1697, Val acc: 45.90%\n",
      "Epoch 9/60, Train loss: 1.1175, Train acc: 50.96%| Val loss: 1.1528, Val acc: 47.25%\n",
      "Epoch 10/60, Train loss: 1.0952, Train acc: 52.51%| Val loss: 1.1563, Val acc: 46.67%\n",
      "Epoch 11/60, Train loss: 1.0979, Train acc: 51.67%| Val loss: 1.1378, Val acc: 49.28%\n",
      "Epoch 12/60, Train loss: 1.0741, Train acc: 53.41%| Val loss: 1.1544, Val acc: 46.96%\n",
      "Epoch 13/60, Train loss: 1.0663, Train acc: 53.92%| Val loss: 1.1230, Val acc: 49.28%\n",
      "Epoch 14/60, Train loss: 1.0565, Train acc: 53.70%| Val loss: 1.1378, Val acc: 50.34%\n",
      "Epoch 15/60, Train loss: 1.0556, Train acc: 54.21%| Val loss: 1.1270, Val acc: 50.14%\n",
      "Epoch 16/60, Train loss: 1.0447, Train acc: 55.05%| Val loss: 1.1121, Val acc: 50.34%\n",
      "Epoch 17/60, Train loss: 1.0490, Train acc: 55.21%| Val loss: 1.1163, Val acc: 51.69%\n",
      "Epoch 18/60, Train loss: 1.0429, Train acc: 54.89%| Val loss: 1.1036, Val acc: 50.53%\n",
      "Epoch 19/60, Train loss: 1.0228, Train acc: 55.88%| Val loss: 1.1177, Val acc: 50.34%\n",
      "Epoch 20/60, Train loss: 1.0291, Train acc: 55.31%| Val loss: 1.1110, Val acc: 51.49%\n",
      "Epoch 21/60, Train loss: 1.0085, Train acc: 56.56%| Val loss: 1.1092, Val acc: 49.86%\n",
      "Epoch 22/60, Train loss: 1.0101, Train acc: 57.11%| Val loss: 1.1225, Val acc: 49.47%\n",
      "Epoch 23/60, Train loss: 1.0092, Train acc: 56.88%| Val loss: 1.0984, Val acc: 52.46%\n",
      "Epoch 24/60, Train loss: 1.0018, Train acc: 57.11%| Val loss: 1.1099, Val acc: 49.95%\n",
      "Epoch 25/60, Train loss: 0.9955, Train acc: 57.81%| Val loss: 1.1010, Val acc: 51.11%\n",
      "Epoch 26/60, Train loss: 1.0043, Train acc: 56.43%| Val loss: 1.0934, Val acc: 52.75%\n",
      "Epoch 27/60, Train loss: 0.9930, Train acc: 57.33%| Val loss: 1.1039, Val acc: 52.75%\n",
      "Epoch 28/60, Train loss: 0.9904, Train acc: 57.91%| Val loss: 1.0981, Val acc: 49.95%\n",
      "Epoch 29/60, Train loss: 0.9893, Train acc: 56.72%| Val loss: 1.0860, Val acc: 52.65%\n",
      "Epoch 30/60, Train loss: 0.9713, Train acc: 59.13%| Val loss: 1.0840, Val acc: 50.53%\n",
      "Epoch 31/60, Train loss: 0.9768, Train acc: 58.91%| Val loss: 1.0910, Val acc: 51.78%\n",
      "Epoch 32/60, Train loss: 0.9703, Train acc: 59.23%| Val loss: 1.0850, Val acc: 50.72%\n",
      "Epoch 33/60, Train loss: 0.9699, Train acc: 59.65%| Val loss: 1.0716, Val acc: 53.33%\n",
      "Epoch 34/60, Train loss: 0.9617, Train acc: 59.97%| Val loss: 1.0732, Val acc: 52.36%\n",
      "Epoch 35/60, Train loss: 0.9596, Train acc: 58.81%| Val loss: 1.0957, Val acc: 51.11%\n",
      "Epoch 36/60, Train loss: 0.9599, Train acc: 59.74%| Val loss: 1.1004, Val acc: 51.98%\n",
      "Epoch 37/60, Train loss: 0.9493, Train acc: 60.03%| Val loss: 1.0740, Val acc: 53.33%\n",
      "Epoch 38/60, Train loss: 0.9502, Train acc: 60.51%| Val loss: 1.0843, Val acc: 52.94%\n",
      "Epoch 39/60, Train loss: 0.9429, Train acc: 60.45%| Val loss: 1.0706, Val acc: 55.16%\n",
      "Epoch 40/60, Train loss: 0.9473, Train acc: 59.26%| Val loss: 1.0742, Val acc: 54.00%\n",
      "Epoch 41/60, Train loss: 0.9489, Train acc: 60.39%| Val loss: 1.0835, Val acc: 52.65%\n",
      "Epoch 42/60, Train loss: 0.9533, Train acc: 60.35%| Val loss: 1.0728, Val acc: 54.48%\n",
      "Epoch 43/60, Train loss: 0.9412, Train acc: 59.68%| Val loss: 1.0856, Val acc: 50.72%\n",
      "Epoch 44/60, Train loss: 0.9284, Train acc: 60.93%| Val loss: 1.0810, Val acc: 54.87%\n",
      "Epoch 45/60, Train loss: 0.9230, Train acc: 61.19%| Val loss: 1.0576, Val acc: 54.00%\n",
      "Epoch 46/60, Train loss: 0.9285, Train acc: 61.51%| Val loss: 1.0597, Val acc: 54.97%\n",
      "Epoch 47/60, Train loss: 0.9380, Train acc: 60.77%| Val loss: 1.0570, Val acc: 53.04%\n",
      "Epoch 48/60, Train loss: 0.9327, Train acc: 60.87%| Val loss: 1.0754, Val acc: 52.65%\n",
      "Epoch 49/60, Train loss: 0.9303, Train acc: 60.87%| Val loss: 1.0936, Val acc: 52.27%\n",
      "Epoch 50/60, Train loss: 0.9124, Train acc: 62.64%| Val loss: 1.0871, Val acc: 53.13%\n",
      "Epoch 51/60, Train loss: 0.9271, Train acc: 61.80%| Val loss: 1.0944, Val acc: 52.94%\n",
      "Epoch 52/60, Train loss: 0.9122, Train acc: 62.12%| Val loss: 1.0780, Val acc: 53.71%\n",
      "Epoch 53/60, Train loss: 0.9117, Train acc: 61.74%| Val loss: 1.0880, Val acc: 53.62%\n",
      "Epoch 54/60, Train loss: 0.9120, Train acc: 62.19%| Val loss: 1.1249, Val acc: 53.81%\n",
      "Epoch 55/60, Train loss: 0.9129, Train acc: 62.60%| Val loss: 1.0776, Val acc: 53.04%\n",
      "Epoch 56/60, Train loss: 0.9140, Train acc: 60.71%| Val loss: 1.0923, Val acc: 53.23%\n",
      "Epoch 57/60, Train loss: 0.9095, Train acc: 62.28%| Val loss: 1.0580, Val acc: 53.42%\n",
      "Epoch 58/60, Train loss: 0.9226, Train acc: 60.71%| Val loss: 1.0857, Val acc: 52.84%\n",
      "Epoch 59/60, Train loss: 0.9045, Train acc: 62.70%| Val loss: 1.0734, Val acc: 55.83%\n",
      "Epoch 60/60, Train loss: 0.8978, Train acc: 62.99%| Val loss: 1.0510, Val acc: 55.16%\n",
      "Highest Train Accuracy 62.99\n"
     ]
    }
   ],
   "source": [
    "nclasses = y.max().item() + 1 \n",
    "model1 = CollapsedShallowNet(n_chans, n_outputs, n_times=n_times, dropout=dropout, num_kernels=n_kernels,\n",
    "                           kernel_size=kernel_size, pool_size=pool_size)\n",
    "\n",
    "model2 = CollapsedShallowNet(n_chans, n_outputs, n_times=n_times, dropout=dropout, num_kernels=n_kernels,\n",
    "                           kernel_size=kernel_size, pool_size=pool_size)\n",
    "\n",
    "\n",
    "trainer = TrainNN()\n",
    "trained_model1, losses = trainer.train_model(model1, train_loader, val_loader, learning_rate=lr, epochs=epochs, prints=True)\n",
    "trained_model2, losses = trainer.train_model(model2, train_loader, val_loader, learning_rate=lr, epochs=epochs, prints=True)\n"
   ]
  },
  {
   "cell_type": "code",
   "execution_count": 19,
   "id": "a1def07c",
   "metadata": {},
   "outputs": [
    {
     "name": "stdout",
     "output_type": "stream",
     "text": [
      "No hook function provided. Using flatten_hook_fn.\n",
      "2 Hooks registered. Total hooks: 2\n",
      "No hook function provided. Using flatten_hook_fn.\n",
      "2 Hooks registered. Total hooks: 2\n"
     ]
    }
   ],
   "source": [
    "calculator = CKACalculator(model1=trained_model1, model2=trained_model2, dataloader=train_loader)"
   ]
  },
  {
   "cell_type": "code",
   "execution_count": 20,
   "id": "53da2414",
   "metadata": {},
   "outputs": [
    {
     "data": {
      "application/vnd.jupyter.widget-view+json": {
       "model_id": "ed955d466545418595ae6a6d3555e537",
       "version_major": 2,
       "version_minor": 0
      },
      "text/plain": [
       "Epoch 0:   0%|          | 0/49 [00:00<?, ?it/s]"
      ]
     },
     "metadata": {},
     "output_type": "display_data"
    },
    {
     "ename": "NameError",
     "evalue": "name 'device' is not defined",
     "output_type": "error",
     "traceback": [
      "\u001b[0;31m---------------------------------------------------------------------------\u001b[0m",
      "\u001b[0;31mNameError\u001b[0m                                 Traceback (most recent call last)",
      "Cell \u001b[0;32mIn[20], line 1\u001b[0m\n\u001b[0;32m----> 1\u001b[0m cka_output \u001b[38;5;241m=\u001b[39m calculator\u001b[38;5;241m.\u001b[39mcalculate_cka_matrix()\n\u001b[1;32m      2\u001b[0m \u001b[38;5;28mprint\u001b[39m(\u001b[38;5;124mf\u001b[39m\u001b[38;5;124m\"\u001b[39m\u001b[38;5;124mCKA output size: \u001b[39m\u001b[38;5;132;01m{\u001b[39;00mcka_output\u001b[38;5;241m.\u001b[39msize()\u001b[38;5;132;01m}\u001b[39;00m\u001b[38;5;124m\"\u001b[39m)\n",
      "File \u001b[0;32m~/miniconda3/envs/src_bachelor/lib/python3.12/site-packages/torch/utils/_contextlib.py:116\u001b[0m, in \u001b[0;36mcontext_decorator.<locals>.decorate_context\u001b[0;34m(*args, **kwargs)\u001b[0m\n\u001b[1;32m    113\u001b[0m \u001b[38;5;129m@functools\u001b[39m\u001b[38;5;241m.\u001b[39mwraps(func)\n\u001b[1;32m    114\u001b[0m \u001b[38;5;28;01mdef\u001b[39;00m \u001b[38;5;21mdecorate_context\u001b[39m(\u001b[38;5;241m*\u001b[39margs, \u001b[38;5;241m*\u001b[39m\u001b[38;5;241m*\u001b[39mkwargs):\n\u001b[1;32m    115\u001b[0m     \u001b[38;5;28;01mwith\u001b[39;00m ctx_factory():\n\u001b[0;32m--> 116\u001b[0m         \u001b[38;5;28;01mreturn\u001b[39;00m func(\u001b[38;5;241m*\u001b[39margs, \u001b[38;5;241m*\u001b[39m\u001b[38;5;241m*\u001b[39mkwargs)\n",
      "File \u001b[0;32m~/Documents/ITU/bachelor/src/cka.py:74\u001b[0m, in \u001b[0;36mCKACalculator.calculate_cka_matrix\u001b[0;34m(self)\u001b[0m\n\u001b[1;32m     72\u001b[0m loader \u001b[38;5;241m=\u001b[39m tqdm(\u001b[38;5;28mself\u001b[39m\u001b[38;5;241m.\u001b[39mdataloader, desc\u001b[38;5;241m=\u001b[39m\u001b[38;5;124mf\u001b[39m\u001b[38;5;124m\"\u001b[39m\u001b[38;5;124mEpoch \u001b[39m\u001b[38;5;132;01m{\u001b[39;00mepoch\u001b[38;5;132;01m}\u001b[39;00m\u001b[38;5;124m\"\u001b[39m, disable\u001b[38;5;241m=\u001b[39m\u001b[38;5;129;01mnot\u001b[39;00m \u001b[38;5;28mself\u001b[39m\u001b[38;5;241m.\u001b[39mis_main_process)\n\u001b[1;32m     73\u001b[0m \u001b[38;5;28;01mfor\u001b[39;00m it, (imgs, \u001b[38;5;241m*\u001b[39m_) \u001b[38;5;129;01min\u001b[39;00m \u001b[38;5;28menumerate\u001b[39m(loader):\n\u001b[0;32m---> 74\u001b[0m     imgs \u001b[38;5;241m=\u001b[39m imgs\u001b[38;5;241m.\u001b[39mto(device, non_blocking\u001b[38;5;241m=\u001b[39m\u001b[38;5;28;01mTrue\u001b[39;00m)\n\u001b[1;32m     75\u001b[0m     \u001b[38;5;28mself\u001b[39m\u001b[38;5;241m.\u001b[39mmodel1(imgs)\n\u001b[1;32m     76\u001b[0m     \u001b[38;5;28mself\u001b[39m\u001b[38;5;241m.\u001b[39mmodel2(imgs)\n",
      "\u001b[0;31mNameError\u001b[0m: name 'device' is not defined"
     ]
    }
   ],
   "source": [
    "cka_output = calculator.calculate_cka_matrix()\n",
    "print(f\"CKA output size: {cka_output.size()}\")"
   ]
  },
  {
   "cell_type": "code",
   "execution_count": null,
   "id": "3e83c81d",
   "metadata": {},
   "outputs": [
    {
     "ename": "NameError",
     "evalue": "name 'cka_output' is not defined",
     "output_type": "error",
     "traceback": [
      "\u001b[0;31m---------------------------------------------------------------------------\u001b[0m",
      "\u001b[0;31mNameError\u001b[0m                                 Traceback (most recent call last)",
      "Cell \u001b[0;32mIn[2], line 2\u001b[0m\n\u001b[1;32m      1\u001b[0m plt\u001b[38;5;241m.\u001b[39mrcParams[\u001b[38;5;124m'\u001b[39m\u001b[38;5;124mfigure.figsize\u001b[39m\u001b[38;5;124m'\u001b[39m] \u001b[38;5;241m=\u001b[39m (\u001b[38;5;241m7\u001b[39m, \u001b[38;5;241m7\u001b[39m)\n\u001b[0;32m----> 2\u001b[0m plt\u001b[38;5;241m.\u001b[39mimshow(cka_output\u001b[38;5;241m.\u001b[39mcpu()\u001b[38;5;241m.\u001b[39mnumpy(), cmap\u001b[38;5;241m=\u001b[39m\u001b[38;5;124m'\u001b[39m\u001b[38;5;124minferno\u001b[39m\u001b[38;5;124m'\u001b[39m)\n",
      "\u001b[0;31mNameError\u001b[0m: name 'cka_output' is not defined"
     ]
    }
   ],
   "source": [
    "plt.rcParams['figure.figsize'] = (7, 7)\n",
    "plt.imshow(cka_output.cpu().numpy(), cmap='inferno')"
   ]
  },
  {
   "cell_type": "code",
   "execution_count": null,
   "id": "8e81fef8",
   "metadata": {},
   "outputs": [
    {
     "data": {
      "image/png": "[encoded data removed]",
      "text/plain": [
       "<Figure size 640x480 with 1 Axes>"
      ]
     },
     "metadata": {},
     "output_type": "display_data"
    }
   ],
   "source": [
    "plt.plot(losses[0])\n",
    "plt.plot(losses[1])\n",
    "plt.xlabel(\"Epochs\")\n",
    "plt.ylabel(\"Loss\")\n",
    "plt.legend([\"training loss\",\"validation loss\"])\n",
    "plt.title(\"Training vs validation loss\");"
   ]
  }
 ],
 "metadata": {
  "kernelspec": {
   "display_name": "src_bachelor",
   "language": "python",
   "name": "python3"
  },
  "language_info": {
   "codemirror_mode": {
    "name": "ipython",
    "version": 3
   },
   "file_extension": ".py",
   "mimetype": "text/x-python",
   "name": "python",
   "nbconvert_exporter": "python",
   "pygments_lexer": "ipython3",
   "version": "3.12.9"
  }
 },
 "nbformat": 4,
 "nbformat_minor": 5
}
