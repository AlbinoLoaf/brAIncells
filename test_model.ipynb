{
 "cells": [
  {
   "cell_type": "markdown",
   "id": "b654b384-ee4e-4223-a48f-ffffb7eb1d6e",
   "metadata": {},
   "source": [
    "## Initial notebook for project "
   ]
  },
  {
   "cell_type": "code",
   "execution_count": 1,
   "id": "a23748e0-ee24-4a9b-8cab-90b0d02be953",
   "metadata": {},
   "outputs": [],
   "source": [
    "# Imports and set up\n",
    "import numpy as np\n",
    "import pandas as pd\n",
    "import torch\n",
    "import torch.nn as nn\n",
    "import torch.optim as optim\n",
    "import torch.nn.functional as F\n",
    "from torch.utils.data import DataLoader,TensorDataset\n",
    "import matplotlib.pyplot as plt\n",
    "from torcheeg.io.eeg_signal import EEGSignalIO\n",
    "from sklearn.model_selection import train_test_split\n",
    "from einops import rearrange\n",
    "\n",
    "## Path to dir with data (remember the last '/')\n",
    "path = \"../data/\"\n",
    "\n",
    "## Establish connection to datafile\n",
    "IO = EEGSignalIO(io_path=str(path), io_mode='lmdb')\n",
    "## Read metadata dataframeimports\n",
    "metadata = pd.read_csv(path + 'sample_metadata.tsv', sep='\\t')"
   ]
  },
  {
   "cell_type": "code",
   "execution_count": 2,
   "id": "b9bbe649",
   "metadata": {},
   "outputs": [],
   "source": [
    "from torch_geometric.nn import GCNConv"
   ]
  },
  {
   "cell_type": "code",
   "execution_count": 3,
   "id": "52b99ce4-2205-4911-8f56-acb6dfde1e8e",
   "metadata": {},
   "outputs": [
    {
     "name": "stdout",
     "output_type": "stream",
     "text": [
      "nsamples: 5184  -  nchannels: 22  -  t: 800\n"
     ]
    }
   ],
   "source": [
    "# Verifying connextion to data\n",
    "idxs = np.arange(len(metadata))\n",
    "\n",
    "X = torch.FloatTensor(np.array([IO.read_eeg(str(i)) for i in idxs]))\n",
    "print(f\"nsamples: {X.shape[0]}  -  nchannels: {X.shape[1]}  -  t: {X.shape[2]}\")\n",
    "\n",
    "y = torch.tensor(metadata[\"value\"].values, dtype=torch.long)"
   ]
  },
  {
   "cell_type": "code",
   "execution_count": 4,
   "id": "585fda50",
   "metadata": {},
   "outputs": [
    {
     "name": "stdout",
     "output_type": "stream",
     "text": [
      "shape of X train: torch.Size([3110, 22, 800])\n",
      "shape of X val: torch.Size([1037, 22, 800])\n",
      "shape of X test: torch.Size([1037, 22, 800])\n",
      "shape of y train: torch.Size([3110])\n",
      "shape of y val: torch.Size([1037])\n",
      "shape of y test: torch.Size([1037])\n"
     ]
    }
   ],
   "source": [
    "X_train, X_test, y_train, y_test = train_test_split(X, y, test_size=0.4, random_state=42, stratify=y)\n",
    "X_val, X_test, y_val, y_test = train_test_split(X_test, y_test, test_size=0.5, random_state=42)\n",
    "\n",
    "print(f\"shape of X train: {X_train.shape}\")\n",
    "print(f\"shape of X val: {X_val.shape}\")\n",
    "print(f\"shape of X test: {X_test.shape}\")\n",
    "\n",
    "print(f\"shape of y train: {y_train.shape}\")\n",
    "print(f\"shape of y val: {y_val.shape}\")\n",
    "print(f\"shape of y test: {y_test.shape}\")"
   ]
  },
  {
   "cell_type": "code",
   "execution_count": 5,
   "id": "e82f7414-d46e-4a28-a595-1c3b6a652833",
   "metadata": {},
   "outputs": [],
   "source": [
    "#set up of matrixies \n",
    "#number of samples, channels, and timesteps\n",
    "nsamples_train, nchannels_train, t = X_train.shape\n",
    "nsamples_val, nchannels_val, t = X_val.shape\n",
    "\n",
    "train_dataset = TensorDataset(X_train, y_train)\n",
    "val_dataset = TensorDataset(X_val, y_val)\n",
    "\n",
    "train_loader = DataLoader(train_dataset, batch_size=64, shuffle=True)\n",
    "val_loader = DataLoader(val_dataset, batch_size=64, shuffle=True)\n",
    "\n",
    "adj_matrix_train = torch.eye(nchannels_train)\n",
    "adj_matrix_val = torch.eye(nchannels_val)"
   ]
  },
  {
   "cell_type": "code",
   "execution_count": 6,
   "id": "1e20f2ba-732c-4d19-9e0e-0fd4848cbda6",
   "metadata": {},
   "outputs": [
    {
     "name": "stdout",
     "output_type": "stream",
     "text": [
      "torch.Size([22, 22])\n",
      "<class 'torch.Tensor'>\n",
      "3110\n",
      "torch.Size([22, 22])\n",
      "<class 'torch.Tensor'>\n",
      "1037\n"
     ]
    }
   ],
   "source": [
    "print(adj_matrix_train.shape)\n",
    "print(type(adj_matrix_train))\n",
    "print(nsamples_train)\n",
    "\n",
    "print(adj_matrix_val.shape)\n",
    "print(type(adj_matrix_val))\n",
    "print(nsamples_val)"
   ]
  },
  {
   "cell_type": "code",
   "execution_count": 8,
   "id": "842058ae",
   "metadata": {},
   "outputs": [],
   "source": [
    "class TrainNN():\n",
    "    def __init__(self):\n",
    "        self.device = torch.device(\"cuda\" if torch.cuda.is_available() else \"cpu\")\n",
    "\n",
    "    def train_model(self, model, train_loader, val_loader, learning_rate, epochs=100, prints=True):\n",
    "        model = model.to(self.device)\n",
    "\n",
    "        criterion = nn.CrossEntropyLoss()\n",
    "        optimizer = optim.Adam(model.parameters(), lr=learning_rate)\n",
    "\n",
    "        highest_train_accuracy = 0.0\n",
    "        \n",
    "        losses_train = []; losses_val = []\n",
    "\n",
    "        for epoch in range(epochs):\n",
    "            model.train()\n",
    "            running_loss = 0.0; running_loss_val = 0.0\n",
    "            correct = 0; correct_val = 0\n",
    "            total = 0; total_val = 0\n",
    "            \n",
    "            for inputs, labels in train_loader:\n",
    "                inputs = inputs.to(self.device)\n",
    "                labels = labels.to(self.device)\n",
    "\n",
    "                optimizer.zero_grad()\n",
    "                outputs = model(inputs)  # Forward pass\n",
    "                loss = criterion(outputs, labels)\n",
    "                loss.backward()\n",
    "                optimizer.step()\n",
    "\n",
    "                running_loss += loss.item() * inputs.size(0)\n",
    "                _, predicted = torch.max(outputs, 1)\n",
    "                total += labels.size(0)\n",
    "                correct += (predicted == labels).sum().item()\n",
    "\n",
    "            epoch_loss = running_loss / len(train_loader.dataset)\n",
    "            epoch_accuracy = correct/total\n",
    "            losses_train.append(epoch_loss)\n",
    "            \n",
    "            for inputs, labels in val_loader:\n",
    "                outputs = model(inputs)\n",
    "                loss = criterion(outputs, labels)\n",
    "                \n",
    "                running_loss_val += loss.item() * inputs.size(0)\n",
    "                _, predicted = torch.max(outputs, 1)\n",
    "                total_val += labels.size(0)\n",
    "                correct_val += (predicted == labels).sum().item()\n",
    "                \n",
    "            epoch_loss_val = running_loss_val / len(val_loader.dataset)\n",
    "            epoch_accuracy_val = correct_val/total_val\n",
    "            losses_val.append(epoch_loss_val)\n",
    "                \n",
    "            if epoch_accuracy > highest_train_accuracy:\n",
    "                highest_train_accuracy = epoch_accuracy\n",
    "\n",
    "            if prints:\n",
    "                print(f\"Epoch {epoch+1}/{epochs}, Train loss: {epoch_loss:.4f}, Train acc: {(epoch_accuracy*100):.2f}%\" +\n",
    "                     f\"| Val loss: {epoch_loss_val:.4f}, Val acc: {(epoch_accuracy_val*100):.2f}%\")\n",
    "\n",
    "        print(f\"Highest Train Accuracy {(highest_train_accuracy*100):.2f}\")\n",
    "        torch.save(model.state_dict(), 'eeg_gnn.pth')\n",
    "        \n",
    "        losses = [losses_train, losses_val]\n",
    "\n",
    "        return model, losses"
   ]
  },
  {
   "cell_type": "code",
   "execution_count": 9,
   "id": "1bd83d4c",
   "metadata": {},
   "outputs": [],
   "source": [
    "class CollapsedShallowNet(nn.Module):\n",
    "    \"\"\"\n",
    "    A version of the ShallowFBCSPNet model with a combined spatiotemporal convolution instead of separate temporal and spatial convolutions\n",
    "\n",
    "    Args:\n",
    "        n_chans (int): Number of input channels.\n",
    "        n_outputs (int): Number of output classes.\n",
    "        n_times (int, optional): Number of timepoints in the input.\n",
    "        dropout (float, optional): Dropout probability. Defaults to 0.5.\n",
    "        num_kernels (int, optional): Number of kernels in the spatiotemporal convolution. Defaults to 40.\n",
    "        kernel_size (int, optional): Size of the kernel in the spatiotemporal convolution. Defaults to 25.\n",
    "        pool_size (int, optional): Size of the pooling window in the spatiotemporal convolution. Default is 100.\n",
    "    \"\"\"\n",
    "\n",
    "    def __init__(self, n_chans, n_outputs, n_times=1001, dropout=0.5, num_kernels=40, kernel_size=25, pool_size=100):\n",
    "        super(CollapsedShallowNet, self).__init__()\n",
    "        self.spatio_temporal = nn.Conv2d(\n",
    "            n_chans, num_kernels, (1, kernel_size))\n",
    "        self.pool = nn.AvgPool2d((1, pool_size))\n",
    "        self.batch_norm = nn.BatchNorm2d(num_kernels)\n",
    "        self.dropout = nn.Dropout(dropout)\n",
    "        self.fc = nn.LazyLinear(n_outputs)\n",
    "\n",
    "    def forward(self, x):\n",
    "        x = torch.unsqueeze(x, dim=2)\n",
    "        x = self.spatio_temporal(x)\n",
    "        x = F.elu(x)\n",
    "        x = self.batch_norm(x)\n",
    "        x = self.pool(x)\n",
    "        x = x.view(x.size(0), -1)\n",
    "        x = self.dropout(x)\n",
    "        x = self.fc(x)\n",
    "        return x\n"
   ]
  },
  {
   "cell_type": "code",
   "execution_count": 16,
   "id": "264f74e7",
   "metadata": {},
   "outputs": [
    {
     "name": "stdout",
     "output_type": "stream",
     "text": [
      "Epoch 1/40, Train loss: 1.5939, Train acc: 24.63%| Val loss: 1.5774, Val acc: 28.83%\n",
      "Epoch 2/40, Train loss: 1.5409, Train acc: 34.53%| Val loss: 1.5255, Val acc: 31.63%\n",
      "Epoch 3/40, Train loss: 1.4744, Train acc: 36.53%| Val loss: 1.4539, Val acc: 33.75%\n",
      "Epoch 4/40, Train loss: 1.4031, Train acc: 37.97%| Val loss: 1.3987, Val acc: 34.91%\n",
      "Epoch 5/40, Train loss: 1.3464, Train acc: 41.06%| Val loss: 1.3488, Val acc: 37.42%\n",
      "Epoch 6/40, Train loss: 1.3103, Train acc: 42.32%| Val loss: 1.3157, Val acc: 38.09%\n",
      "Epoch 7/40, Train loss: 1.2741, Train acc: 44.12%| Val loss: 1.2876, Val acc: 39.34%\n",
      "Epoch 8/40, Train loss: 1.2527, Train acc: 44.57%| Val loss: 1.2659, Val acc: 41.08%\n",
      "Epoch 9/40, Train loss: 1.2302, Train acc: 46.59%| Val loss: 1.2484, Val acc: 42.33%\n",
      "Epoch 10/40, Train loss: 1.2185, Train acc: 46.43%| Val loss: 1.2312, Val acc: 42.82%\n",
      "Epoch 11/40, Train loss: 1.2053, Train acc: 48.10%| Val loss: 1.2195, Val acc: 45.42%\n",
      "Epoch 12/40, Train loss: 1.1895, Train acc: 49.58%| Val loss: 1.2032, Val acc: 45.61%\n",
      "Epoch 13/40, Train loss: 1.1768, Train acc: 48.49%| Val loss: 1.1977, Val acc: 44.55%\n",
      "Epoch 14/40, Train loss: 1.1660, Train acc: 48.84%| Val loss: 1.1906, Val acc: 46.09%\n",
      "Epoch 15/40, Train loss: 1.1532, Train acc: 49.97%| Val loss: 1.1768, Val acc: 47.83%\n",
      "Epoch 16/40, Train loss: 1.1408, Train acc: 49.94%| Val loss: 1.1742, Val acc: 44.74%\n",
      "Epoch 17/40, Train loss: 1.1247, Train acc: 51.61%| Val loss: 1.1532, Val acc: 49.76%\n",
      "Epoch 18/40, Train loss: 1.1157, Train acc: 52.32%| Val loss: 1.1497, Val acc: 48.70%\n",
      "Epoch 19/40, Train loss: 1.1070, Train acc: 52.57%| Val loss: 1.1539, Val acc: 45.71%\n",
      "Epoch 20/40, Train loss: 1.0979, Train acc: 53.05%| Val loss: 1.1450, Val acc: 48.22%\n",
      "Epoch 21/40, Train loss: 1.0963, Train acc: 52.96%| Val loss: 1.1264, Val acc: 50.14%\n",
      "Epoch 22/40, Train loss: 1.0903, Train acc: 52.54%| Val loss: 1.1403, Val acc: 48.02%\n",
      "Epoch 23/40, Train loss: 1.0785, Train acc: 53.89%| Val loss: 1.1280, Val acc: 50.72%\n",
      "Epoch 24/40, Train loss: 1.0677, Train acc: 54.79%| Val loss: 1.1162, Val acc: 53.42%\n",
      "Epoch 25/40, Train loss: 1.0645, Train acc: 54.31%| Val loss: 1.1246, Val acc: 47.16%\n",
      "Epoch 26/40, Train loss: 1.0594, Train acc: 54.53%| Val loss: 1.1168, Val acc: 50.05%\n",
      "Epoch 27/40, Train loss: 1.0500, Train acc: 55.31%| Val loss: 1.1148, Val acc: 50.82%\n",
      "Epoch 28/40, Train loss: 1.0460, Train acc: 56.14%| Val loss: 1.1144, Val acc: 49.18%\n",
      "Epoch 29/40, Train loss: 1.0542, Train acc: 55.05%| Val loss: 1.1125, Val acc: 49.95%\n",
      "Epoch 30/40, Train loss: 1.0444, Train acc: 55.92%| Val loss: 1.1118, Val acc: 50.24%\n",
      "Epoch 31/40, Train loss: 1.0426, Train acc: 56.66%| Val loss: 1.1014, Val acc: 50.34%\n",
      "Epoch 32/40, Train loss: 1.0340, Train acc: 56.37%| Val loss: 1.1181, Val acc: 51.78%\n",
      "Epoch 33/40, Train loss: 1.0175, Train acc: 57.43%| Val loss: 1.0990, Val acc: 52.36%\n",
      "Epoch 34/40, Train loss: 1.0231, Train acc: 55.34%| Val loss: 1.1057, Val acc: 50.43%\n",
      "Epoch 35/40, Train loss: 1.0247, Train acc: 56.08%| Val loss: 1.1038, Val acc: 51.88%\n",
      "Epoch 36/40, Train loss: 1.0198, Train acc: 56.75%| Val loss: 1.1028, Val acc: 51.11%\n",
      "Epoch 37/40, Train loss: 1.0164, Train acc: 57.65%| Val loss: 1.0925, Val acc: 51.69%\n",
      "Epoch 38/40, Train loss: 1.0086, Train acc: 58.30%| Val loss: 1.0875, Val acc: 51.59%\n",
      "Epoch 39/40, Train loss: 1.0067, Train acc: 57.14%| Val loss: 1.0922, Val acc: 50.72%\n",
      "Epoch 40/40, Train loss: 1.0111, Train acc: 57.46%| Val loss: 1.1080, Val acc: 51.59%\n",
      "Highest Train Accuracy 58.30\n"
     ]
    }
   ],
   "source": [
    "nclasses = y.max().item() + 1 \n",
    "model = CollapsedShallowNet(22, nclasses)\n",
    "\n",
    "trainer = TrainNN()\n",
    "trained_model, losses = trainer.train_model(model, train_loader, val_loader, learning_rate=1e-4 * 3, epochs=40, prints=True)"
   ]
  },
  {
   "cell_type": "code",
   "execution_count": 17,
   "id": "8e81fef8",
   "metadata": {},
   "outputs": [
    {
     "data": {
      "image/png": "[encoded data removed]",
      "text/plain": [
       "<Figure size 640x480 with 1 Axes>"
      ]
     },
     "metadata": {},
     "output_type": "display_data"
    }
   ],
   "source": [
    "plt.plot(losses[0])\n",
    "plt.plot(losses[1])\n",
    "plt.xlabel(\"Epochs\")\n",
    "plt.ylabel(\"Loss\")\n",
    "plt.legend([\"training loss\",\"validation loss\"])\n",
    "plt.title(\"Training vs validation loss\");"
   ]
  }
 ],
 "metadata": {
  "kernelspec": {
   "display_name": "thesis",
   "language": "python",
   "name": "thesis"
  },
  "language_info": {
   "codemirror_mode": {
    "name": "ipython",
    "version": 3
   },
   "file_extension": ".py",
   "mimetype": "text/x-python",
   "name": "python",
   "nbconvert_exporter": "python",
   "pygments_lexer": "ipython3",
   "version": "3.12.9"
  }
 },
 "nbformat": 4,
 "nbformat_minor": 5
}
