{
 "cells": [
  {
   "cell_type": "markdown",
   "id": "b654b384-ee4e-4223-a48f-ffffb7eb1d6e",
   "metadata": {},
   "source": [
    "### Imports"
   ]
  },
  {
   "cell_type": "code",
   "execution_count": 1,
   "id": "a23748e0-ee24-4a9b-8cab-90b0d02be953",
   "metadata": {},
   "outputs": [
    {
     "name": "stderr",
     "output_type": "stream",
     "text": [
      "/tmp/ipykernel_25540/2214194335.py:15: TqdmExperimentalWarning: Using `tqdm.autonotebook.tqdm` in notebook mode. Use `tqdm.tqdm` instead to force console mode (e.g. in jupyter console)\n",
      "  from tqdm.autonotebook import tqdm\n"
     ]
    }
   ],
   "source": [
    "# Imports and set up\n",
    "import numpy as np\n",
    "import pandas as pd\n",
    "import torch\n",
    "import torch.nn as nn\n",
    "import torch.optim as optim\n",
    "import torch.nn.functional as F\n",
    "from torch.utils.data import DataLoader,TensorDataset\n",
    "import matplotlib.pyplot as plt\n",
    "from torcheeg.io.eeg_signal import EEGSignalIO\n",
    "from sklearn.model_selection import train_test_split\n",
    "from einops import rearrange\n",
    "\n",
    "## CKA stuff\n",
    "from tqdm.autonotebook import tqdm\n",
    "from cka import CKACalculator\n",
    "\n",
    "\n",
    "## Path to dir with data (remember the last '/')\n",
    "path = \"../data/\"\n",
    "\n",
    "## Establish connection to datafile\n",
    "IO = EEGSignalIO(io_path=str(path), io_mode='lmdb')\n",
    "## Read metadata dataframeimports\n",
    "metadata = pd.read_csv(path + 'sample_metadata.tsv', sep='\\t')"
   ]
  },
  {
   "cell_type": "markdown",
   "id": "86803f9b",
   "metadata": {},
   "source": [
    "### Load data"
   ]
  },
  {
   "cell_type": "code",
   "execution_count": 2,
   "id": "52b99ce4-2205-4911-8f56-acb6dfde1e8e",
   "metadata": {},
   "outputs": [
    {
     "name": "stdout",
     "output_type": "stream",
     "text": [
      "nsamples: 5184  -  nchannels: 22  -  t: 800\n"
     ]
    }
   ],
   "source": [
    "# Verifying connextion to data\n",
    "idxs = np.arange(len(metadata))\n",
    "\n",
    "X = torch.FloatTensor(np.array([IO.read_eeg(str(i)) for i in idxs]))\n",
    "print(f\"nsamples: {X.shape[0]}  -  nchannels: {X.shape[1]}  -  t: {X.shape[2]}\")\n",
    "\n",
    "y = torch.tensor(metadata[\"value\"].values, dtype=torch.long)"
   ]
  },
  {
   "cell_type": "markdown",
   "id": "3de837ee",
   "metadata": {},
   "source": [
    "### Split data into train, validation and test sets"
   ]
  },
  {
   "cell_type": "code",
   "execution_count": 3,
   "id": "585fda50",
   "metadata": {},
   "outputs": [
    {
     "name": "stdout",
     "output_type": "stream",
     "text": [
      "shape of X train: torch.Size([3110, 22, 800])\n",
      "shape of X val: torch.Size([1037, 22, 800])\n",
      "shape of X test: torch.Size([1037, 22, 800])\n",
      "shape of y train: torch.Size([3110])\n",
      "shape of y val: torch.Size([1037])\n",
      "shape of y test: torch.Size([1037])\n"
     ]
    }
   ],
   "source": [
    "X_train, X_test, y_train, y_test = train_test_split(X, y, test_size=0.4, random_state=42, stratify=y)\n",
    "X_val, X_test, y_val, y_test = train_test_split(X_test, y_test, test_size=0.5, random_state=42)\n",
    "\n",
    "print(f\"shape of X train: {X_train.shape}\")\n",
    "print(f\"shape of X val: {X_val.shape}\")\n",
    "print(f\"shape of X test: {X_test.shape}\")\n",
    "\n",
    "print(f\"shape of y train: {y_train.shape}\")\n",
    "print(f\"shape of y val: {y_val.shape}\")\n",
    "print(f\"shape of y test: {y_test.shape}\")"
   ]
  },
  {
   "cell_type": "code",
   "execution_count": 4,
   "id": "e82f7414-d46e-4a28-a595-1c3b6a652833",
   "metadata": {},
   "outputs": [],
   "source": [
    "#set up of matrixies \n",
    "#number of samples, channels, and timesteps\n",
    "nsamples_train, nchannels_train, t = X_train.shape\n",
    "nsamples_val, nchannels_val, t = X_val.shape\n",
    "\n",
    "train_dataset = TensorDataset(X_train, y_train)\n",
    "val_dataset = TensorDataset(X_val, y_val)\n",
    "\n",
    "train_loader = DataLoader(train_dataset, batch_size=64, shuffle=True)\n",
    "val_loader = DataLoader(val_dataset, batch_size=64, shuffle=True)\n",
    "\n",
    "adj_matrix_train = torch.eye(nchannels_train)\n",
    "adj_matrix_val = torch.eye(nchannels_val)"
   ]
  },
  {
   "cell_type": "code",
   "execution_count": 5,
   "id": "1e20f2ba-732c-4d19-9e0e-0fd4848cbda6",
   "metadata": {},
   "outputs": [
    {
     "name": "stdout",
     "output_type": "stream",
     "text": [
      "torch.Size([22, 22])\n",
      "<class 'torch.Tensor'>\n",
      "3110\n",
      "torch.Size([22, 22])\n",
      "<class 'torch.Tensor'>\n",
      "1037\n"
     ]
    }
   ],
   "source": [
    "print(adj_matrix_train.shape)\n",
    "print(type(adj_matrix_train))\n",
    "print(nsamples_train)\n",
    "\n",
    "print(adj_matrix_val.shape)\n",
    "print(type(adj_matrix_val))\n",
    "print(nsamples_val)"
   ]
  },
  {
   "cell_type": "markdown",
   "id": "e00b2d33",
   "metadata": {},
   "source": [
    "### Model training definition"
   ]
  },
  {
   "cell_type": "code",
   "execution_count": 6,
   "id": "842058ae",
   "metadata": {},
   "outputs": [],
   "source": [
    "class TrainNN():\n",
    "    def __init__(self):\n",
    "        self.device = torch.device(\"cuda\" if torch.cuda.is_available() else \"cpu\")\n",
    "\n",
    "    def train_model(self, model, train_loader, val_loader, learning_rate, epochs=100, prints=True):\n",
    "        model = model.to(self.device)\n",
    "\n",
    "        criterion = nn.CrossEntropyLoss()\n",
    "        optimizer = optim.Adam(model.parameters(), lr=learning_rate)\n",
    "\n",
    "        highest_train_accuracy = 0.0\n",
    "        \n",
    "        losses_train = []; losses_val = []\n",
    "\n",
    "        for epoch in range(epochs):\n",
    "            model.train()\n",
    "            running_loss = 0.0; running_loss_val = 0.0\n",
    "            correct = 0; correct_val = 0\n",
    "            total = 0; total_val = 0\n",
    "            \n",
    "            for inputs, labels in train_loader:\n",
    "                inputs = inputs.to(self.device)\n",
    "                labels = labels.to(self.device)\n",
    "\n",
    "                optimizer.zero_grad()\n",
    "                outputs = model(inputs)  # Forward pass\n",
    "                loss = criterion(outputs, labels)\n",
    "                loss.backward()\n",
    "                optimizer.step()\n",
    "\n",
    "                running_loss += loss.item() * inputs.size(0)\n",
    "                _, predicted = torch.max(outputs, 1)\n",
    "                total += labels.size(0)\n",
    "                correct += (predicted == labels).sum().item()\n",
    "\n",
    "            epoch_loss = running_loss / len(train_loader.dataset)\n",
    "            epoch_accuracy = correct/total\n",
    "            losses_train.append(epoch_loss)\n",
    "            \n",
    "            for inputs, labels in val_loader:\n",
    "                outputs = model(inputs)\n",
    "                loss = criterion(outputs, labels)\n",
    "                \n",
    "                running_loss_val += loss.item() * inputs.size(0)\n",
    "                _, predicted = torch.max(outputs, 1)\n",
    "                total_val += labels.size(0)\n",
    "                correct_val += (predicted == labels).sum().item()\n",
    "                \n",
    "            epoch_loss_val = running_loss_val / len(val_loader.dataset)\n",
    "            epoch_accuracy_val = correct_val/total_val\n",
    "            losses_val.append(epoch_loss_val)\n",
    "                \n",
    "            if epoch_accuracy > highest_train_accuracy:\n",
    "                highest_train_accuracy = epoch_accuracy\n",
    "\n",
    "            if prints:\n",
    "                print(f\"Epoch {epoch+1}/{epochs}, Train loss: {epoch_loss:.4f}, Train acc: {(epoch_accuracy*100):.2f}%\" +\n",
    "                     f\"| Val loss: {epoch_loss_val:.4f}, Val acc: {(epoch_accuracy_val*100):.2f}%\")\n",
    "\n",
    "        print(f\"Highest Train Accuracy {(highest_train_accuracy*100):.2f}\")\n",
    "        torch.save(model.state_dict(), 'eeg_gnn.pth')\n",
    "        \n",
    "        losses = [losses_train, losses_val]\n",
    "\n",
    "        return model, losses"
   ]
  },
  {
   "cell_type": "markdown",
   "id": "88434cd4",
   "metadata": {},
   "source": [
    "### Model architecture"
   ]
  },
  {
   "cell_type": "code",
   "execution_count": 7,
   "id": "1bd83d4c",
   "metadata": {},
   "outputs": [],
   "source": [
    "class CollapsedShallowNet(nn.Module):\n",
    "    \"\"\"\n",
    "    A version of the ShallowFBCSPNet model with a combined spatiotemporal convolution instead of separate temporal and spatial convolutions\n",
    "\n",
    "    Args:\n",
    "        n_chans (int): Number of input channels.\n",
    "        n_outputs (int): Number of output classes.\n",
    "        n_times (int, optional): Number of timepoints in the input.\n",
    "        dropout (float, optional): Dropout probability. Defaults to 0.5.\n",
    "        num_kernels (int, optional): Number of kernels in the spatiotemporal convolution. Defaults to 40.\n",
    "        kernel_size (int, optional): Size of the kernel in the spatiotemporal convolution. Defaults to 25.\n",
    "        pool_size (int, optional): Size of the pooling window in the spatiotemporal convolution. Default is 100.\n",
    "    \"\"\"\n",
    "\n",
    "    def __init__(self, n_chans, n_outputs, n_times=1001, dropout=0.5, num_kernels=40, kernel_size=25, pool_size=100):\n",
    "        super(CollapsedShallowNet, self).__init__()\n",
    "        self.spatio_temporal = nn.Conv2d(\n",
    "            n_chans, num_kernels, (1, kernel_size))\n",
    "        self.pool = nn.AvgPool2d((1, pool_size))\n",
    "        self.batch_norm = nn.BatchNorm2d(num_kernels)\n",
    "        self.dropout = nn.Dropout(dropout)\n",
    "        self.fc = nn.LazyLinear(n_outputs)\n",
    "\n",
    "    def forward(self, x):\n",
    "        x = torch.unsqueeze(x, dim=2)\n",
    "        x = self.spatio_temporal(x)\n",
    "        x = F.elu(x)\n",
    "        x = self.batch_norm(x)\n",
    "        x = self.pool(x)\n",
    "        x = x.view(x.size(0), -1)\n",
    "        x = self.dropout(x)\n",
    "        x = self.fc(x)\n",
    "        return x\n"
   ]
  },
  {
   "cell_type": "markdown",
   "id": "e594f2e4",
   "metadata": {},
   "source": [
    "### Training & model hyperparameters"
   ]
  },
  {
   "cell_type": "code",
   "execution_count": 8,
   "id": "fb3d89d4",
   "metadata": {},
   "outputs": [],
   "source": [
    "# Model parameters\n",
    "n_chans = 22\n",
    "n_outputs = y.max().item() + 1\n",
    "n_times = 800\n",
    "dropout = 0.6\n",
    "n_kernels = 40\n",
    "kernel_size = 25\n",
    "pool_size = 100\n",
    "\n",
    "# Training parameters\n",
    "lr = 1e-3\n",
    "epochs = 60"
   ]
  },
  {
   "cell_type": "markdown",
   "id": "72172e49",
   "metadata": {},
   "source": [
    "### Training"
   ]
  },
  {
   "cell_type": "code",
   "execution_count": 9,
   "id": "264f74e7",
   "metadata": {},
   "outputs": [
    {
     "name": "stdout",
     "output_type": "stream",
     "text": [
      "Epoch 1/60, Train loss: 1.5596, Train acc: 27.78%| Val loss: 1.4824, Val acc: 35.29%\n",
      "Epoch 2/60, Train loss: 1.3864, Train acc: 37.40%| Val loss: 1.3347, Val acc: 36.64%\n",
      "Epoch 3/60, Train loss: 1.2856, Train acc: 40.32%| Val loss: 1.2758, Val acc: 39.05%\n",
      "Epoch 4/60, Train loss: 1.2377, Train acc: 44.05%| Val loss: 1.2438, Val acc: 41.95%\n",
      "Epoch 5/60, Train loss: 1.2056, Train acc: 45.24%| Val loss: 1.2176, Val acc: 44.94%\n",
      "Epoch 6/60, Train loss: 1.1788, Train acc: 47.11%| Val loss: 1.2019, Val acc: 43.39%\n",
      "Epoch 7/60, Train loss: 1.1666, Train acc: 47.78%| Val loss: 1.1752, Val acc: 45.71%\n",
      "Epoch 8/60, Train loss: 1.1317, Train acc: 50.03%| Val loss: 1.1876, Val acc: 44.74%\n",
      "Epoch 9/60, Train loss: 1.1213, Train acc: 50.13%| Val loss: 1.1511, Val acc: 46.87%\n",
      "Epoch 10/60, Train loss: 1.1142, Train acc: 51.90%| Val loss: 1.1514, Val acc: 46.87%\n",
      "Epoch 11/60, Train loss: 1.0937, Train acc: 51.93%| Val loss: 1.1497, Val acc: 47.44%\n",
      "Epoch 12/60, Train loss: 1.0794, Train acc: 52.93%| Val loss: 1.1411, Val acc: 49.08%\n",
      "Epoch 13/60, Train loss: 1.0714, Train acc: 53.54%| Val loss: 1.1382, Val acc: 48.12%\n",
      "Epoch 14/60, Train loss: 1.0687, Train acc: 52.83%| Val loss: 1.1492, Val acc: 48.51%\n",
      "Epoch 15/60, Train loss: 1.0619, Train acc: 53.70%| Val loss: 1.1335, Val acc: 50.82%\n",
      "Epoch 16/60, Train loss: 1.0480, Train acc: 54.05%| Val loss: 1.1034, Val acc: 49.37%\n",
      "Epoch 17/60, Train loss: 1.0503, Train acc: 54.02%| Val loss: 1.1333, Val acc: 49.37%\n",
      "Epoch 18/60, Train loss: 1.0331, Train acc: 55.08%| Val loss: 1.1138, Val acc: 49.66%\n",
      "Epoch 19/60, Train loss: 1.0289, Train acc: 56.01%| Val loss: 1.1129, Val acc: 49.95%\n",
      "Epoch 20/60, Train loss: 1.0305, Train acc: 55.69%| Val loss: 1.1063, Val acc: 51.30%\n",
      "Epoch 21/60, Train loss: 1.0276, Train acc: 56.05%| Val loss: 1.1233, Val acc: 50.82%\n",
      "Epoch 22/60, Train loss: 1.0015, Train acc: 57.81%| Val loss: 1.0880, Val acc: 54.10%\n",
      "Epoch 23/60, Train loss: 1.0056, Train acc: 57.46%| Val loss: 1.1108, Val acc: 50.34%\n",
      "Epoch 24/60, Train loss: 0.9998, Train acc: 57.81%| Val loss: 1.1042, Val acc: 50.53%\n",
      "Epoch 25/60, Train loss: 0.9975, Train acc: 57.30%| Val loss: 1.0989, Val acc: 51.69%\n",
      "Epoch 26/60, Train loss: 0.9933, Train acc: 58.14%| Val loss: 1.1059, Val acc: 51.11%\n",
      "Epoch 27/60, Train loss: 1.0007, Train acc: 56.40%| Val loss: 1.1189, Val acc: 49.37%\n",
      "Epoch 28/60, Train loss: 1.0010, Train acc: 56.53%| Val loss: 1.0866, Val acc: 53.81%\n",
      "Epoch 29/60, Train loss: 0.9729, Train acc: 58.84%| Val loss: 1.1089, Val acc: 50.53%\n",
      "Epoch 30/60, Train loss: 0.9775, Train acc: 59.26%| Val loss: 1.1317, Val acc: 51.11%\n",
      "Epoch 31/60, Train loss: 0.9723, Train acc: 58.81%| Val loss: 1.0910, Val acc: 52.07%\n",
      "Epoch 32/60, Train loss: 0.9718, Train acc: 58.75%| Val loss: 1.0965, Val acc: 50.43%\n",
      "Epoch 33/60, Train loss: 0.9726, Train acc: 58.59%| Val loss: 1.1120, Val acc: 52.27%\n",
      "Epoch 34/60, Train loss: 0.9572, Train acc: 60.19%| Val loss: 1.1180, Val acc: 51.49%\n",
      "Epoch 35/60, Train loss: 0.9765, Train acc: 58.75%| Val loss: 1.0902, Val acc: 52.36%\n",
      "Epoch 36/60, Train loss: 0.9624, Train acc: 60.19%| Val loss: 1.0827, Val acc: 53.33%\n",
      "Epoch 37/60, Train loss: 0.9523, Train acc: 60.00%| Val loss: 1.0597, Val acc: 53.42%\n",
      "Epoch 38/60, Train loss: 0.9660, Train acc: 58.26%| Val loss: 1.0893, Val acc: 53.04%\n",
      "Epoch 39/60, Train loss: 0.9612, Train acc: 59.16%| Val loss: 1.0934, Val acc: 52.07%\n",
      "Epoch 40/60, Train loss: 0.9470, Train acc: 59.61%| Val loss: 1.0766, Val acc: 53.71%\n",
      "Epoch 41/60, Train loss: 0.9479, Train acc: 60.87%| Val loss: 1.0846, Val acc: 53.13%\n",
      "Epoch 42/60, Train loss: 0.9528, Train acc: 61.16%| Val loss: 1.0687, Val acc: 53.33%\n",
      "Epoch 43/60, Train loss: 0.9482, Train acc: 59.45%| Val loss: 1.0674, Val acc: 53.91%\n",
      "Epoch 44/60, Train loss: 0.9332, Train acc: 60.48%| Val loss: 1.0576, Val acc: 55.35%\n",
      "Epoch 45/60, Train loss: 0.9369, Train acc: 61.13%| Val loss: 1.0769, Val acc: 53.52%\n",
      "Epoch 46/60, Train loss: 0.9361, Train acc: 60.61%| Val loss: 1.1032, Val acc: 51.30%\n",
      "Epoch 47/60, Train loss: 0.9408, Train acc: 60.96%| Val loss: 1.0876, Val acc: 52.56%\n",
      "Epoch 48/60, Train loss: 0.9284, Train acc: 61.54%| Val loss: 1.0564, Val acc: 54.48%\n",
      "Epoch 49/60, Train loss: 0.9220, Train acc: 61.80%| Val loss: 1.0901, Val acc: 51.69%\n",
      "Epoch 50/60, Train loss: 0.9428, Train acc: 61.86%| Val loss: 1.0646, Val acc: 55.45%\n",
      "Epoch 51/60, Train loss: 0.9180, Train acc: 61.61%| Val loss: 1.0887, Val acc: 53.23%\n",
      "Epoch 52/60, Train loss: 0.9225, Train acc: 62.12%| Val loss: 1.0726, Val acc: 51.59%\n",
      "Epoch 53/60, Train loss: 0.9250, Train acc: 60.39%| Val loss: 1.0576, Val acc: 54.00%\n",
      "Epoch 54/60, Train loss: 0.9207, Train acc: 60.64%| Val loss: 1.0805, Val acc: 54.39%\n",
      "Epoch 55/60, Train loss: 0.9205, Train acc: 62.96%| Val loss: 1.0776, Val acc: 52.07%\n",
      "Epoch 56/60, Train loss: 0.9113, Train acc: 62.51%| Val loss: 1.0609, Val acc: 53.52%\n",
      "Epoch 57/60, Train loss: 0.9121, Train acc: 62.41%| Val loss: 1.0553, Val acc: 53.91%\n",
      "Epoch 58/60, Train loss: 0.9092, Train acc: 61.77%| Val loss: 1.0622, Val acc: 55.16%\n",
      "Epoch 59/60, Train loss: 0.9074, Train acc: 61.90%| Val loss: 1.0740, Val acc: 55.35%\n",
      "Epoch 60/60, Train loss: 0.9042, Train acc: 63.47%| Val loss: 1.0837, Val acc: 54.87%\n",
      "Highest Train Accuracy 63.47\n",
      "Epoch 1/60, Train loss: 1.5472, Train acc: 30.74%| Val loss: 1.4747, Val acc: 31.92%\n",
      "Epoch 2/60, Train loss: 1.3865, Train acc: 37.91%| Val loss: 1.3378, Val acc: 36.35%\n",
      "Epoch 3/60, Train loss: 1.2908, Train acc: 41.03%| Val loss: 1.2700, Val acc: 42.04%\n",
      "Epoch 4/60, Train loss: 1.2402, Train acc: 44.15%| Val loss: 1.2379, Val acc: 41.47%\n",
      "Epoch 5/60, Train loss: 1.2022, Train acc: 46.69%| Val loss: 1.2125, Val acc: 42.91%\n",
      "Epoch 6/60, Train loss: 1.1753, Train acc: 47.88%| Val loss: 1.1869, Val acc: 46.77%\n",
      "Epoch 7/60, Train loss: 1.1525, Train acc: 49.32%| Val loss: 1.1680, Val acc: 46.77%\n",
      "Epoch 8/60, Train loss: 1.1372, Train acc: 50.42%| Val loss: 1.1498, Val acc: 48.31%\n",
      "Epoch 9/60, Train loss: 1.1116, Train acc: 51.19%| Val loss: 1.1499, Val acc: 47.73%\n",
      "Epoch 10/60, Train loss: 1.1029, Train acc: 52.48%| Val loss: 1.1622, Val acc: 47.83%\n",
      "Epoch 11/60, Train loss: 1.0894, Train acc: 52.12%| Val loss: 1.1409, Val acc: 49.66%\n",
      "Epoch 12/60, Train loss: 1.0863, Train acc: 52.70%| Val loss: 1.1389, Val acc: 49.08%\n",
      "Epoch 13/60, Train loss: 1.0626, Train acc: 52.93%| Val loss: 1.1508, Val acc: 49.57%\n",
      "Epoch 14/60, Train loss: 1.0666, Train acc: 53.60%| Val loss: 1.1144, Val acc: 50.43%\n",
      "Epoch 15/60, Train loss: 1.0551, Train acc: 54.21%| Val loss: 1.1275, Val acc: 49.28%\n",
      "Epoch 16/60, Train loss: 1.0409, Train acc: 55.76%| Val loss: 1.1192, Val acc: 49.66%\n",
      "Epoch 17/60, Train loss: 1.0461, Train acc: 54.73%| Val loss: 1.1264, Val acc: 49.28%\n",
      "Epoch 18/60, Train loss: 1.0343, Train acc: 55.79%| Val loss: 1.1385, Val acc: 47.25%\n",
      "Epoch 19/60, Train loss: 1.0262, Train acc: 55.08%| Val loss: 1.1171, Val acc: 49.47%\n",
      "Epoch 20/60, Train loss: 1.0191, Train acc: 57.11%| Val loss: 1.1172, Val acc: 50.34%\n",
      "Epoch 21/60, Train loss: 1.0260, Train acc: 56.66%| Val loss: 1.1076, Val acc: 50.82%\n",
      "Epoch 22/60, Train loss: 1.0211, Train acc: 56.56%| Val loss: 1.1146, Val acc: 51.98%\n",
      "Epoch 23/60, Train loss: 0.9973, Train acc: 57.85%| Val loss: 1.1024, Val acc: 50.92%\n",
      "Epoch 24/60, Train loss: 0.9998, Train acc: 57.14%| Val loss: 1.1096, Val acc: 51.21%\n",
      "Epoch 25/60, Train loss: 0.9976, Train acc: 57.30%| Val loss: 1.0910, Val acc: 53.23%\n",
      "Epoch 26/60, Train loss: 0.9933, Train acc: 57.36%| Val loss: 1.0891, Val acc: 52.07%\n",
      "Epoch 27/60, Train loss: 0.9849, Train acc: 58.87%| Val loss: 1.0764, Val acc: 53.13%\n",
      "Epoch 28/60, Train loss: 0.9875, Train acc: 57.94%| Val loss: 1.1229, Val acc: 51.49%\n",
      "Epoch 29/60, Train loss: 0.9782, Train acc: 57.49%| Val loss: 1.0975, Val acc: 51.69%\n",
      "Epoch 30/60, Train loss: 0.9849, Train acc: 58.17%| Val loss: 1.1104, Val acc: 51.11%\n",
      "Epoch 31/60, Train loss: 0.9756, Train acc: 58.36%| Val loss: 1.0794, Val acc: 53.52%\n",
      "Epoch 32/60, Train loss: 0.9617, Train acc: 59.29%| Val loss: 1.0863, Val acc: 53.52%\n",
      "Epoch 33/60, Train loss: 0.9715, Train acc: 59.16%| Val loss: 1.1019, Val acc: 53.71%\n",
      "Epoch 34/60, Train loss: 0.9525, Train acc: 60.16%| Val loss: 1.1046, Val acc: 52.75%\n",
      "Epoch 35/60, Train loss: 0.9762, Train acc: 59.04%| Val loss: 1.0764, Val acc: 53.62%\n",
      "Epoch 36/60, Train loss: 0.9743, Train acc: 58.55%| Val loss: 1.1194, Val acc: 52.65%\n",
      "Epoch 37/60, Train loss: 0.9603, Train acc: 60.87%| Val loss: 1.0763, Val acc: 52.75%\n",
      "Epoch 38/60, Train loss: 0.9584, Train acc: 59.04%| Val loss: 1.0862, Val acc: 53.33%\n",
      "Epoch 39/60, Train loss: 0.9491, Train acc: 59.55%| Val loss: 1.0703, Val acc: 53.81%\n",
      "Epoch 40/60, Train loss: 0.9410, Train acc: 61.06%| Val loss: 1.1075, Val acc: 51.78%\n",
      "Epoch 41/60, Train loss: 0.9439, Train acc: 61.54%| Val loss: 1.0816, Val acc: 51.40%\n",
      "Epoch 42/60, Train loss: 0.9517, Train acc: 60.16%| Val loss: 1.0808, Val acc: 54.68%\n",
      "Epoch 43/60, Train loss: 0.9295, Train acc: 61.48%| Val loss: 1.0819, Val acc: 53.13%\n",
      "Epoch 44/60, Train loss: 0.9452, Train acc: 60.00%| Val loss: 1.1032, Val acc: 51.88%\n",
      "Epoch 45/60, Train loss: 0.9377, Train acc: 61.22%| Val loss: 1.0855, Val acc: 51.88%\n",
      "Epoch 46/60, Train loss: 0.9390, Train acc: 60.61%| Val loss: 1.0793, Val acc: 52.46%\n",
      "Epoch 47/60, Train loss: 0.9425, Train acc: 60.55%| Val loss: 1.0842, Val acc: 54.58%\n",
      "Epoch 48/60, Train loss: 0.9309, Train acc: 61.77%| Val loss: 1.0520, Val acc: 55.16%\n",
      "Epoch 49/60, Train loss: 0.9163, Train acc: 61.67%| Val loss: 1.0823, Val acc: 54.00%\n",
      "Epoch 50/60, Train loss: 0.9245, Train acc: 61.83%| Val loss: 1.0570, Val acc: 53.91%\n",
      "Epoch 51/60, Train loss: 0.9032, Train acc: 62.83%| Val loss: 1.0665, Val acc: 54.00%\n",
      "Epoch 52/60, Train loss: 0.9261, Train acc: 61.29%| Val loss: 1.0851, Val acc: 53.71%\n",
      "Epoch 53/60, Train loss: 0.9146, Train acc: 61.64%| Val loss: 1.0472, Val acc: 55.06%\n",
      "Epoch 54/60, Train loss: 0.9131, Train acc: 62.41%| Val loss: 1.0806, Val acc: 52.84%\n",
      "Epoch 55/60, Train loss: 0.9085, Train acc: 62.25%| Val loss: 1.0740, Val acc: 54.00%\n",
      "Epoch 56/60, Train loss: 0.9013, Train acc: 62.41%| Val loss: 1.1041, Val acc: 53.62%\n",
      "Epoch 57/60, Train loss: 0.9057, Train acc: 62.22%| Val loss: 1.0777, Val acc: 53.52%\n",
      "Epoch 58/60, Train loss: 0.8994, Train acc: 62.80%| Val loss: 1.0713, Val acc: 54.29%\n",
      "Epoch 59/60, Train loss: 0.9188, Train acc: 61.51%| Val loss: 1.0657, Val acc: 54.97%\n",
      "Epoch 60/60, Train loss: 0.9179, Train acc: 61.00%| Val loss: 1.0615, Val acc: 54.77%\n",
      "Highest Train Accuracy 62.83\n"
     ]
    }
   ],
   "source": [
    "nclasses = y.max().item() + 1 \n",
    "model1 = CollapsedShallowNet(n_chans, n_outputs, n_times=n_times, dropout=dropout, num_kernels=n_kernels,\n",
    "                           kernel_size=kernel_size, pool_size=pool_size)\n",
    "\n",
    "model2 = CollapsedShallowNet(n_chans, n_outputs, n_times=n_times, dropout=dropout, num_kernels=n_kernels,\n",
    "                           kernel_size=kernel_size, pool_size=pool_size)\n",
    "\n",
    "\n",
    "trainer = TrainNN()\n",
    "trained_model1, losses = trainer.train_model(model1, train_loader, val_loader, learning_rate=lr, epochs=epochs, prints=True)\n",
    "trained_model2, losses = trainer.train_model(model2, train_loader, val_loader, learning_rate=lr, epochs=epochs, prints=True)\n"
   ]
  },
  {
   "cell_type": "code",
   "execution_count": 10,
   "id": "a1def07c",
   "metadata": {},
   "outputs": [
    {
     "name": "stdout",
     "output_type": "stream",
     "text": [
      "No hook function provided. Using flatten_hook_fn.\n",
      "2 Hooks registered. Total hooks: 2\n",
      "No hook function provided. Using flatten_hook_fn.\n",
      "2 Hooks registered. Total hooks: 2\n"
     ]
    }
   ],
   "source": [
    "calculator = CKACalculator(model1=trained_model1, model2=trained_model2, dataloader=train_loader)"
   ]
  },
  {
   "cell_type": "code",
   "execution_count": 11,
   "id": "53da2414",
   "metadata": {},
   "outputs": [
    {
     "data": {
      "application/vnd.jupyter.widget-view+json": {
       "model_id": "4c1fba81ce2d49b5897e91608706f1d7",
       "version_major": 2,
       "version_minor": 0
      },
      "text/plain": [
       "Epoch 0:   0%|          | 0/49 [00:00<?, ?it/s]"
      ]
     },
     "metadata": {},
     "output_type": "display_data"
    },
    {
     "data": {
      "application/vnd.jupyter.widget-view+json": {
       "model_id": "0eba84690dcb491090a97cdb78c7d5d2",
       "version_major": 2,
       "version_minor": 0
      },
      "text/plain": [
       "Epoch 1:   0%|          | 0/49 [00:00<?, ?it/s]"
      ]
     },
     "metadata": {},
     "output_type": "display_data"
    },
    {
     "data": {
      "application/vnd.jupyter.widget-view+json": {
       "model_id": "818018d5a7634a529c721d38cc67cd51",
       "version_major": 2,
       "version_minor": 0
      },
      "text/plain": [
       "Epoch 2:   0%|          | 0/49 [00:00<?, ?it/s]"
      ]
     },
     "metadata": {},
     "output_type": "display_data"
    },
    {
     "data": {
      "application/vnd.jupyter.widget-view+json": {
       "model_id": "886c1f1946cf470c89970a626320ca82",
       "version_major": 2,
       "version_minor": 0
      },
      "text/plain": [
       "Epoch 3:   0%|          | 0/49 [00:00<?, ?it/s]"
      ]
     },
     "metadata": {},
     "output_type": "display_data"
    },
    {
     "data": {
      "application/vnd.jupyter.widget-view+json": {
       "model_id": "2f241bd2eb444837a570b2a4622c525f",
       "version_major": 2,
       "version_minor": 0
      },
      "text/plain": [
       "Epoch 4:   0%|          | 0/49 [00:00<?, ?it/s]"
      ]
     },
     "metadata": {},
     "output_type": "display_data"
    },
    {
     "data": {
      "application/vnd.jupyter.widget-view+json": {
       "model_id": "c680d4a886f9487193b5fe84ee17ca91",
       "version_major": 2,
       "version_minor": 0
      },
      "text/plain": [
       "Epoch 5:   0%|          | 0/49 [00:00<?, ?it/s]"
      ]
     },
     "metadata": {},
     "output_type": "display_data"
    },
    {
     "data": {
      "application/vnd.jupyter.widget-view+json": {
       "model_id": "8670fe47612b4a24b7ce53c97e7dd8db",
       "version_major": 2,
       "version_minor": 0
      },
      "text/plain": [
       "Epoch 6:   0%|          | 0/49 [00:00<?, ?it/s]"
      ]
     },
     "metadata": {},
     "output_type": "display_data"
    },
    {
     "data": {
      "application/vnd.jupyter.widget-view+json": {
       "model_id": "e3aa723fa866469a8c654714d6ef4486",
       "version_major": 2,
       "version_minor": 0
      },
      "text/plain": [
       "Epoch 7:   0%|          | 0/49 [00:00<?, ?it/s]"
      ]
     },
     "metadata": {},
     "output_type": "display_data"
    },
    {
     "data": {
      "application/vnd.jupyter.widget-view+json": {
       "model_id": "857f722b78ae4f38afbd79d8332301ac",
       "version_major": 2,
       "version_minor": 0
      },
      "text/plain": [
       "Epoch 8:   0%|          | 0/49 [00:00<?, ?it/s]"
      ]
     },
     "metadata": {},
     "output_type": "display_data"
    },
    {
     "data": {
      "application/vnd.jupyter.widget-view+json": {
       "model_id": "ae2569fe19134362aedb99c95a33802e",
       "version_major": 2,
       "version_minor": 0
      },
      "text/plain": [
       "Epoch 9:   0%|          | 0/49 [00:00<?, ?it/s]"
      ]
     },
     "metadata": {},
     "output_type": "display_data"
    },
    {
     "name": "stdout",
     "output_type": "stream",
     "text": [
      "CKA output size: torch.Size([2, 2])\n"
     ]
    }
   ],
   "source": [
    "cka_output = calculator.calculate_cka_matrix()\n",
    "print(f\"CKA output size: {cka_output.size()}\")"
   ]
  },
  {
   "cell_type": "code",
   "execution_count": 12,
   "id": "3e83c81d",
   "metadata": {},
   "outputs": [
    {
     "data": {
      "text/plain": [
       "<matplotlib.image.AxesImage at 0x791ec3aa3ce0>"
      ]
     },
     "execution_count": 12,
     "metadata": {},
     "output_type": "execute_result"
    },
    {
     "data": {
      "image/png": "[encoded data removed]",
      "text/plain": [
       "<Figure size 700x700 with 1 Axes>"
      ]
     },
     "metadata": {},
     "output_type": "display_data"
    }
   ],
   "source": [
    "plt.rcParams['figure.figsize'] = (7, 7)\n",
    "plt.imshow(cka_output.cpu().numpy(), cmap='inferno')"
   ]
  },
  {
   "cell_type": "code",
   "execution_count": 14,
   "id": "865d816b",
   "metadata": {},
   "outputs": [
    {
     "name": "stdout",
     "output_type": "stream",
     "text": [
      "Layer 0: \tspatio_temporal\n",
      "Layer 1: \tbatch_norm\n"
     ]
    }
   ],
   "source": [
    "for i, name in enumerate(calculator.module_names_X):\n",
    "    print(f\"Layer {i}: \\t{name}\")"
   ]
  },
  {
   "cell_type": "code",
   "execution_count": 13,
   "id": "8e81fef8",
   "metadata": {},
   "outputs": [
    {
     "data": {
      "image/png": "[encoded data removed]",
      "text/plain": [
       "<Figure size 700x700 with 1 Axes>"
      ]
     },
     "metadata": {},
     "output_type": "display_data"
    }
   ],
   "source": [
    "plt.plot(losses[0])\n",
    "plt.plot(losses[1])\n",
    "plt.xlabel(\"Epochs\")\n",
    "plt.ylabel(\"Loss\")\n",
    "plt.legend([\"training loss\",\"validation loss\"])\n",
    "plt.title(\"Training vs validation loss\");"
   ]
  }
 ],
 "metadata": {
  "kernelspec": {
   "display_name": "src_bachelor",
   "language": "python",
   "name": "python3"
  },
  "language_info": {
   "codemirror_mode": {
    "name": "ipython",
    "version": 3
   },
   "file_extension": ".py",
   "mimetype": "text/x-python",
   "name": "python",
   "nbconvert_exporter": "python",
   "pygments_lexer": "ipython3",
   "version": "3.12.9"
  }
 },
 "nbformat": 4,
 "nbformat_minor": 5
}
