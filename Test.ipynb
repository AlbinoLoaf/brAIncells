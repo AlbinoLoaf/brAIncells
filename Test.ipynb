{
 "cells": [
  {
   "cell_type": "markdown",
   "id": "b654b384-ee4e-4223-a48f-ffffb7eb1d6e",
   "metadata": {},
   "source": [
    "## Initial notebook for project "
   ]
  },
  {
   "cell_type": "code",
   "execution_count": 1,
   "id": "a23748e0-ee24-4a9b-8cab-90b0d02be953",
   "metadata": {},
   "outputs": [],
   "source": [
    "# Imports and set up\n",
    "import numpy as np\n",
    "import pandas as pd\n",
    "import torch\n",
    "\n",
    "from torcheeg.io.eeg_signal import EEGSignalIO\n",
    "\n",
    "## Path to dir with data (remember the last '/')\n",
    "path = \"../data/\"\n",
    "\n",
    "## Establish connection to datafile\n",
    "IO = EEGSignalIO(io_path=str(path), io_mode='lmdb')\n",
    "## Read metadata dataframeimports\n",
    "metadata = pd.read_csv(path + 'sample_metadata.tsv', sep='\\t')"
   ]
  },
  {
   "cell_type": "code",
   "execution_count": 2,
   "id": "52b99ce4-2205-4911-8f56-acb6dfde1e8e",
   "metadata": {},
   "outputs": [
    {
     "name": "stdout",
     "output_type": "stream",
     "text": [
      "nsamples: 5184  -  nchannels: 22  -  t: 800\n"
     ]
    }
   ],
   "source": [
    "# Verifying connextion to data\n",
    "idxs = np.arange(len(metadata))\n",
    "\n",
    "eeg = torch.FloatTensor(np.array([IO.read_eeg(str(i)) for i in idxs]))\n",
    "print(f\"nsamples: {eeg.shape[0]}  -  nchannels: {eeg.shape[1]}  -  t: {eeg.shape[2]}\")"
   ]
  },
  {
   "cell_type": "markdown",
   "id": "ff40bef5-0a6f-4feb-a855-cc177e7632b4",
   "metadata": {},
   "source": [
    "Imports we might need cuz eeg ref code."
   ]
  },
  {
   "cell_type": "code",
   "execution_count": 3,
   "id": "373c39c1-123b-4ebf-8970-5087c5003bcd",
   "metadata": {},
   "outputs": [],
   "source": [
    "\n",
    "# Torch\n",
    "import torch\n",
    "import torch.nn as nn\n",
    "import torch.optim as optim\n",
    "import torch.nn.functional as F\n",
    "#from torchsummary import summary\n",
    "#from torch.autograd import Variable\n",
    "from torch.utils.data import DataLoader,TensorDataset\n"
   ]
  },
  {
   "cell_type": "code",
   "execution_count": 4,
   "id": "e82f7414-d46e-4a28-a595-1c3b6a652833",
   "metadata": {},
   "outputs": [],
   "source": [
    "#set up of matrixies \n",
    "#number of samples, channels, and timesteps\n",
    "nsamples, nchannels, t = eeg.shape  \n",
    "\n",
    "labels = torch.tensor(metadata[\"value\"].values, dtype=torch.long)\n",
    "\n",
    "train_dataset = TensorDataset(eeg, labels)\n",
    "\n",
    "train_loader = DataLoader(train_dataset, batch_size=64, shuffle=True)\n",
    "\n",
    "adj_matrix = torch.eye(eeg.shape[1])  #place holder change later FIX\n",
    "\n"
   ]
  },
  {
   "cell_type": "code",
   "execution_count": 5,
   "id": "8934a349-39a6-444a-bdab-fcc24bdc9d2d",
   "metadata": {},
   "outputs": [],
   "source": [
    "class GraphConv(nn.Module):\n",
    "    def __init__(self, in_features, out_features):\n",
    "        super(GraphConv, self).__init__()\n",
    "        self.weight = nn.Parameter(torch.randn(in_features, out_features))\n",
    "        self.bias = nn.Parameter(torch.zeros(out_features))\n",
    "\n",
    "    def forward(self, x, adj):\n",
    "        x = torch.matmul(adj, x)  # Apply adjacency matrix\n",
    "        x = torch.matmul(x, self.weight) + self.bias  # Linear transformation\n",
    "        return torch.relu(x)\n",
    "\n",
    "class EEG_GNN(nn.Module):\n",
    "    def __init__(self, in_features, hidden_dim, nclasses):\n",
    "        super(EEG_GNN, self).__init__()\n",
    "        self.conv1 = GraphConv(in_features, hidden_dim)\n",
    "        self.conv2 = GraphConv(hidden_dim, nclasses) \n",
    "\n",
    "    def forward(self, x, adj):\n",
    "        x = self.conv1(x, adj)\n",
    "        x = self.conv2(x, adj)  \n",
    "        x = x.mean(dim=1) \n",
    "        return x \n"
   ]
  },
  {
   "cell_type": "code",
   "execution_count": 6,
   "id": "2b977703-f5cb-4439-9e4b-9577f6eaccee",
   "metadata": {},
   "outputs": [],
   "source": [
    "class TrainGNN():\n",
    "    def __init__(self):\n",
    "        self.device = torch.device(\"cuda\" if torch.cuda.is_available() else \"cpu\")\n",
    "\n",
    "    def train_model(self, model, train_loader, adjacency_matrix, learning_rate=0.001, epochs=500):\n",
    "        model = model.to(self.device)\n",
    "        adjacency_matrix = adjacency_matrix.to(self.device)  # Move adjacency to GPU if available\n",
    "\n",
    "        criterion = nn.CrossEntropyLoss()\n",
    "        optimizer = optim.Adam(model.parameters(), lr=learning_rate)\n",
    "\n",
    "        highest_train_accuracy = 0.0\n",
    "\n",
    "        for epoch in range(epochs):\n",
    "            model.train()\n",
    "            running_loss = 0.0\n",
    "            correct = 0\n",
    "            total = 0\n",
    "            for inputs, labels in train_loader:\n",
    "                inputs = inputs.to(self.device)\n",
    "                labels = labels.to(self.device)\n",
    "\n",
    "                optimizer.zero_grad()\n",
    "                outputs = model(inputs, adjacency_matrix)  # Forward pass\n",
    "                loss = criterion(outputs, labels)\n",
    "                loss.backward()\n",
    "                optimizer.step()\n",
    "\n",
    "                running_loss += loss.item() * inputs.size(0)\n",
    "                _, predicted = torch.max(outputs, 1)\n",
    "                total += labels.size(0)\n",
    "                correct += (predicted == labels).sum().item()\n",
    "\n",
    "            epoch_loss = running_loss / len(train_loader.dataset)\n",
    "            epoch_accuracy = correct / total\n",
    "            if epoch_accuracy > highest_train_accuracy:\n",
    "                highest_train_accuracy = epoch_accuracy\n",
    "\n",
    "            print(f\"Epoch {epoch+1}/{epochs}, Loss: {epoch_loss:.4f}, Accuracy: {(epoch_accuracy*100):.2f}%\")\n",
    "\n",
    "        print(\"Highest Train Accuracy:\", highest_train_accuracy)\n",
    "        torch.save(model.state_dict(), 'eeg_gnn.pth')\n",
    "\n",
    "        return model\n"
   ]
  },
  {
   "cell_type": "code",
   "execution_count": 7,
   "id": "b0709704-ed1f-4584-9402-4fe82c4ad250",
   "metadata": {},
   "outputs": [
    {
     "name": "stdout",
     "output_type": "stream",
     "text": [
      "Epoch 1/50, Loss: 24.4152, Accuracy: 21.10%\n",
      "Epoch 2/50, Loss: 13.7715, Accuracy: 21.24%\n",
      "Epoch 3/50, Loss: 7.8328, Accuracy: 19.44%\n",
      "Epoch 4/50, Loss: 4.9659, Accuracy: 17.26%\n",
      "Epoch 5/50, Loss: 3.5758, Accuracy: 15.32%\n",
      "Epoch 6/50, Loss: 2.8595, Accuracy: 13.19%\n",
      "Epoch 7/50, Loss: 2.4513, Accuracy: 11.86%\n",
      "Epoch 8/50, Loss: 2.1968, Accuracy: 10.69%\n",
      "Epoch 9/50, Loss: 2.0304, Accuracy: 9.88%\n",
      "Epoch 10/50, Loss: 1.9165, Accuracy: 9.07%\n",
      "Epoch 11/50, Loss: 1.8380, Accuracy: 8.24%\n",
      "Epoch 12/50, Loss: 1.7807, Accuracy: 7.62%\n",
      "Epoch 13/50, Loss: 1.7393, Accuracy: 7.27%\n",
      "Epoch 14/50, Loss: 1.7067, Accuracy: 6.98%\n",
      "Epoch 15/50, Loss: 1.6811, Accuracy: 6.85%\n",
      "Epoch 16/50, Loss: 1.6605, Accuracy: 6.75%\n",
      "Epoch 17/50, Loss: 1.6441, Accuracy: 6.66%\n",
      "Epoch 18/50, Loss: 1.6314, Accuracy: 6.50%\n",
      "Epoch 19/50, Loss: 1.6210, Accuracy: 6.46%\n",
      "Epoch 20/50, Loss: 1.6122, Accuracy: 6.44%\n",
      "Epoch 21/50, Loss: 1.6046, Accuracy: 6.39%\n",
      "Epoch 22/50, Loss: 1.5984, Accuracy: 6.39%\n",
      "Epoch 23/50, Loss: 1.5930, Accuracy: 6.39%\n",
      "Epoch 24/50, Loss: 1.5882, Accuracy: 6.40%\n",
      "Epoch 25/50, Loss: 1.5839, Accuracy: 6.39%\n",
      "Epoch 26/50, Loss: 1.5801, Accuracy: 6.42%\n",
      "Epoch 27/50, Loss: 1.5766, Accuracy: 6.42%\n",
      "Epoch 28/50, Loss: 1.5735, Accuracy: 6.42%\n",
      "Epoch 29/50, Loss: 1.5705, Accuracy: 6.46%\n",
      "Epoch 30/50, Loss: 1.5678, Accuracy: 6.54%\n",
      "Epoch 31/50, Loss: 1.5653, Accuracy: 6.58%\n",
      "Epoch 32/50, Loss: 1.5629, Accuracy: 6.62%\n",
      "Epoch 33/50, Loss: 1.5608, Accuracy: 6.67%\n",
      "Epoch 34/50, Loss: 1.5587, Accuracy: 6.67%\n",
      "Epoch 35/50, Loss: 1.5567, Accuracy: 6.67%\n",
      "Epoch 36/50, Loss: 1.5548, Accuracy: 6.69%\n",
      "Epoch 37/50, Loss: 1.5529, Accuracy: 6.75%\n",
      "Epoch 38/50, Loss: 1.5511, Accuracy: 6.75%\n",
      "Epoch 39/50, Loss: 1.5493, Accuracy: 6.77%\n",
      "Epoch 40/50, Loss: 1.5476, Accuracy: 6.79%\n",
      "Epoch 41/50, Loss: 1.5458, Accuracy: 6.81%\n",
      "Epoch 42/50, Loss: 1.5441, Accuracy: 6.83%\n",
      "Epoch 43/50, Loss: 1.5424, Accuracy: 6.87%\n",
      "Epoch 44/50, Loss: 1.5406, Accuracy: 6.94%\n",
      "Epoch 45/50, Loss: 1.5389, Accuracy: 6.98%\n",
      "Epoch 46/50, Loss: 1.5373, Accuracy: 7.00%\n",
      "Epoch 47/50, Loss: 1.5357, Accuracy: 7.04%\n",
      "Epoch 48/50, Loss: 1.5341, Accuracy: 7.10%\n",
      "Epoch 49/50, Loss: 1.5325, Accuracy: 7.12%\n",
      "Epoch 50/50, Loss: 1.5310, Accuracy: 7.16%\n",
      "Highest Train Accuracy: 0.21238425925925927\n"
     ]
    }
   ],
   "source": [
    "# Define GNN model\n",
    "nclasses = labels.max().item() + 1 \n",
    "model = EEG_GNN(in_features=t, hidden_dim=32, nclasses=nclasses)\n",
    "\n",
    "trainer = TrainGNN()\n",
    "trained_model = trainer.train_model(model, train_loader, adj_matrix,epochs=50)"
   ]
  }
 ],
 "metadata": {
  "kernelspec": {
   "display_name": "src_bachelor",
   "language": "python",
   "name": "src_bachelor"
  },
  "language_info": {
   "codemirror_mode": {
    "name": "ipython",
    "version": 3
   },
   "file_extension": ".py",
   "mimetype": "text/x-python",
   "name": "python",
   "nbconvert_exporter": "python",
   "pygments_lexer": "ipython3",
   "version": "3.12.8"
  }
 },
 "nbformat": 4,
 "nbformat_minor": 5
}
