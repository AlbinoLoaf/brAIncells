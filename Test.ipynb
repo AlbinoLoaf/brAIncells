{
 "cells": [
  {
   "cell_type": "markdown",
   "id": "b654b384-ee4e-4223-a48f-ffffb7eb1d6e",
   "metadata": {},
   "source": [
    "## Initial notebook for project "
   ]
  },
  {
   "cell_type": "code",
   "execution_count": 1,
   "id": "a23748e0-ee24-4a9b-8cab-90b0d02be953",
   "metadata": {},
   "outputs": [],
   "source": [
    "# Imports and set up\n",
    "import numpy as np\n",
    "import pandas as pd\n",
    "import torch\n",
    "import torch.nn as nn\n",
    "import torch.optim as optim\n",
    "\n",
    "from torch.utils.data import DataLoader,TensorDataset\n",
    "\n",
    "from torcheeg.io.eeg_signal import EEGSignalIO\n",
    "\n",
    "## Path to dir with data (remember the last '/')\n",
    "path = \"../data/\"\n",
    "\n",
    "## Establish connection to datafile\n",
    "IO = EEGSignalIO(io_path=str(path), io_mode='lmdb')\n",
    "## Read metadata dataframeimports\n",
    "metadata = pd.read_csv(path + 'sample_metadata.tsv', sep='\\t')"
   ]
  },
  {
   "cell_type": "code",
   "execution_count": 2,
   "id": "52b99ce4-2205-4911-8f56-acb6dfde1e8e",
   "metadata": {},
   "outputs": [
    {
     "name": "stdout",
     "output_type": "stream",
     "text": [
      "nsamples: 5184  -  nchannels: 22  -  t: 800\n"
     ]
    }
   ],
   "source": [
    "# Verifying connextion to data\n",
    "idxs = np.arange(len(metadata))\n",
    "\n",
    "eeg = torch.FloatTensor(np.array([IO.read_eeg(str(i)) for i in idxs]))\n",
    "print(f\"nsamples: {eeg.shape[0]}  -  nchannels: {eeg.shape[1]}  -  t: {eeg.shape[2]}\")"
   ]
  },
  {
   "cell_type": "markdown",
   "id": "ff40bef5-0a6f-4feb-a855-cc177e7632b4",
   "metadata": {},
   "source": [
    "Imports we might need cuz eeg ref code."
   ]
  },
  {
   "cell_type": "code",
   "execution_count": 3,
   "id": "e82f7414-d46e-4a28-a595-1c3b6a652833",
   "metadata": {},
   "outputs": [],
   "source": [
    "#set up of matrixies \n",
    "#number of samples, channels, and timesteps\n",
    "nsamples, nchannels, t = eeg.shape  \n",
    "\n",
    "labels = torch.tensor(metadata[\"value\"].values, dtype=torch.long)\n",
    "\n",
    "train_dataset = TensorDataset(eeg, labels)\n",
    "\n",
    "train_loader = DataLoader(train_dataset, batch_size=64, shuffle=True)\n",
    "\n",
    "adj_matrix = torch.eye(eeg.shape[1])  #place holder change later FIX"
   ]
  },
  {
   "cell_type": "code",
   "execution_count": 4,
   "id": "8934a349-39a6-444a-bdab-fcc24bdc9d2d",
   "metadata": {},
   "outputs": [],
   "source": [
    "class GraphConv(nn.Module):\n",
    "    def __init__(self, in_features, out_features):\n",
    "        super(GraphConv, self).__init__()\n",
    "        self.weight = nn.Parameter(torch.randn(in_features, out_features))\n",
    "        self.bias = nn.Parameter(torch.zeros(out_features))\n",
    "\n",
    "    def forward(self, x, adj):\n",
    "        x = torch.matmul(adj, x)  # Apply adjacency matrix\n",
    "        x = torch.matmul(x, self.weight) + self.bias  # Linear transformation\n",
    "        return torch.relu(x)\n",
    "\n",
    "class EEG_GNN(nn.Module):\n",
    "    def __init__(self, in_features, hidden_dim, nclasses):\n",
    "        super(EEG_GNN, self).__init__()\n",
    "        self.conv1 = GraphConv(in_features, hidden_dim)\n",
    "        self.conv2 = GraphConv(hidden_dim, nclasses) \n",
    "\n",
    "    def forward(self, x, adj):\n",
    "        x = self.conv1(x, adj)\n",
    "        x = self.conv2(x, adj)  \n",
    "        x = x.mean(dim=1) \n",
    "        return x \n"
   ]
  },
  {
   "cell_type": "code",
   "execution_count": 5,
   "id": "2b977703-f5cb-4439-9e4b-9577f6eaccee",
   "metadata": {},
   "outputs": [],
   "source": [
    "class TrainGNN():\n",
    "    def __init__(self):\n",
    "        self.device = torch.device(\"cuda\" if torch.cuda.is_available() else \"cpu\")\n",
    "\n",
    "    def train_model(self, model, train_loader, adjacency_matrix, learning_rate=0.001, epochs=500):\n",
    "        model = model.to(self.device)\n",
    "        adjacency_matrix = adjacency_matrix.to(self.device)  # Move adjacency to GPU if available\n",
    "\n",
    "        criterion = nn.CrossEntropyLoss()\n",
    "        optimizer = optim.Adam(model.parameters(), lr=learning_rate)\n",
    "\n",
    "        highest_train_accuracy = 0.0\n",
    "\n",
    "        for epoch in range(epochs):\n",
    "            model.train()\n",
    "            running_loss = 0.0\n",
    "            correct = 0\n",
    "            total = 0\n",
    "            for inputs, labels in train_loader:\n",
    "                inputs = inputs.to(self.device)\n",
    "                labels = labels.to(self.device)\n",
    "\n",
    "                optimizer.zero_grad()\n",
    "                outputs = model(inputs, adjacency_matrix)  # Forward pass\n",
    "                loss = criterion(outputs, labels)\n",
    "                loss.backward()\n",
    "                optimizer.step()\n",
    "\n",
    "                running_loss += loss.item() * inputs.size(0)\n",
    "                _, predicted = torch.max(outputs, 1)\n",
    "                total += labels.size(0)\n",
    "                correct += (predicted == labels).sum().item()\n",
    "\n",
    "            epoch_loss = running_loss / len(train_loader.dataset)\n",
    "            epoch_accuracy = correct / total\n",
    "            if epoch_accuracy > highest_train_accuracy:\n",
    "                highest_train_accuracy = epoch_accuracy\n",
    "\n",
    "            print(f\"Epoch {epoch+1}/{epochs}, Loss: {epoch_loss:.4f}, Accuracy: {(epoch_accuracy*100):.2f}%\")\n",
    "\n",
    "        print(\"Highest Train Accuracy:\", highest_train_accuracy)\n",
    "        torch.save(model.state_dict(), 'eeg_gnn.pth')\n",
    "\n",
    "        return model\n"
   ]
  },
  {
   "cell_type": "code",
   "execution_count": 6,
   "id": "b0709704-ed1f-4584-9402-4fe82c4ad250",
   "metadata": {},
   "outputs": [
    {
     "name": "stdout",
     "output_type": "stream",
     "text": [
      "Epoch 1/50, Loss: 39.8273, Accuracy: 21.82%\n",
      "Epoch 2/50, Loss: 28.0527, Accuracy: 22.40%\n",
      "Epoch 3/50, Loss: 19.4051, Accuracy: 22.74%\n",
      "Epoch 4/50, Loss: 13.1676, Accuracy: 21.99%\n",
      "Epoch 5/50, Loss: 8.9479, Accuracy: 20.83%\n",
      "Epoch 6/50, Loss: 6.2899, Accuracy: 19.73%\n",
      "Epoch 7/50, Loss: 4.6496, Accuracy: 18.15%\n",
      "Epoch 8/50, Loss: 3.6531, Accuracy: 16.86%\n",
      "Epoch 9/50, Loss: 3.0286, Accuracy: 15.39%\n",
      "Epoch 10/50, Loss: 2.6226, Accuracy: 14.35%\n",
      "Epoch 11/50, Loss: 2.3469, Accuracy: 13.27%\n",
      "Epoch 12/50, Loss: 2.1549, Accuracy: 12.40%\n",
      "Epoch 13/50, Loss: 2.0176, Accuracy: 11.71%\n",
      "Epoch 14/50, Loss: 1.9174, Accuracy: 11.00%\n",
      "Epoch 15/50, Loss: 1.8437, Accuracy: 10.55%\n",
      "Epoch 16/50, Loss: 1.7867, Accuracy: 10.19%\n",
      "Epoch 17/50, Loss: 1.7424, Accuracy: 9.84%\n",
      "Epoch 18/50, Loss: 1.7077, Accuracy: 9.70%\n",
      "Epoch 19/50, Loss: 1.6811, Accuracy: 9.38%\n",
      "Epoch 20/50, Loss: 1.6592, Accuracy: 9.20%\n",
      "Epoch 21/50, Loss: 1.6419, Accuracy: 9.18%\n",
      "Epoch 22/50, Loss: 1.6275, Accuracy: 9.05%\n",
      "Epoch 23/50, Loss: 1.6155, Accuracy: 9.01%\n",
      "Epoch 24/50, Loss: 1.6054, Accuracy: 9.01%\n",
      "Epoch 25/50, Loss: 1.5968, Accuracy: 9.14%\n",
      "Epoch 26/50, Loss: 1.5891, Accuracy: 9.07%\n",
      "Epoch 27/50, Loss: 1.5821, Accuracy: 9.07%\n",
      "Epoch 28/50, Loss: 1.5758, Accuracy: 9.10%\n",
      "Epoch 29/50, Loss: 1.5699, Accuracy: 9.16%\n",
      "Epoch 30/50, Loss: 1.5644, Accuracy: 9.28%\n",
      "Epoch 31/50, Loss: 1.5596, Accuracy: 9.38%\n",
      "Epoch 32/50, Loss: 1.5551, Accuracy: 9.38%\n",
      "Epoch 33/50, Loss: 1.5511, Accuracy: 9.43%\n",
      "Epoch 34/50, Loss: 1.5472, Accuracy: 9.45%\n",
      "Epoch 35/50, Loss: 1.5438, Accuracy: 9.47%\n",
      "Epoch 36/50, Loss: 1.5403, Accuracy: 9.55%\n",
      "Epoch 37/50, Loss: 1.5372, Accuracy: 9.68%\n",
      "Epoch 38/50, Loss: 1.5340, Accuracy: 9.70%\n",
      "Epoch 39/50, Loss: 1.5309, Accuracy: 9.76%\n",
      "Epoch 40/50, Loss: 1.5280, Accuracy: 9.80%\n",
      "Epoch 41/50, Loss: 1.5251, Accuracy: 9.84%\n",
      "Epoch 42/50, Loss: 1.5223, Accuracy: 9.88%\n",
      "Epoch 43/50, Loss: 1.5196, Accuracy: 9.99%\n",
      "Epoch 44/50, Loss: 1.5171, Accuracy: 10.05%\n",
      "Epoch 45/50, Loss: 1.5146, Accuracy: 10.09%\n",
      "Epoch 46/50, Loss: 1.5121, Accuracy: 10.13%\n",
      "Epoch 47/50, Loss: 1.5098, Accuracy: 10.24%\n",
      "Epoch 48/50, Loss: 1.5074, Accuracy: 10.30%\n",
      "Epoch 49/50, Loss: 1.5050, Accuracy: 10.34%\n",
      "Epoch 50/50, Loss: 1.5027, Accuracy: 10.44%\n",
      "Highest Train Accuracy: 0.22743055555555555\n"
     ]
    }
   ],
   "source": [
    "nclasses = labels.max().item() + 1 \n",
    "model = EEG_GNN(in_features=t, hidden_dim=32, nclasses=nclasses)\n",
    "\n",
    "trainer = TrainGNN()\n",
    "trained_model = trainer.train_model(model, train_loader, adj_matrix,epochs=50)"
   ]
  }
 ],
 "metadata": {
  "kernelspec": {
   "display_name": "src_bachelor",
   "language": "python",
   "name": "src_bachelor"
  },
  "language_info": {
   "codemirror_mode": {
    "name": "ipython",
    "version": 3
   },
   "file_extension": ".py",
   "mimetype": "text/x-python",
   "name": "python",
   "nbconvert_exporter": "python",
   "pygments_lexer": "ipython3",
   "version": "3.12.8"
  }
 },
 "nbformat": 4,
 "nbformat_minor": 5
}
