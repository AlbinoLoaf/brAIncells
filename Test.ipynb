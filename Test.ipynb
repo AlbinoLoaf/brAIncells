{
 "cells": [
  {
   "cell_type": "markdown",
   "id": "b654b384-ee4e-4223-a48f-ffffb7eb1d6e",
   "metadata": {},
   "source": [
    "## Initial notebook for project "
   ]
  },
  {
   "cell_type": "code",
   "execution_count": 1,
   "id": "a23748e0-ee24-4a9b-8cab-90b0d02be953",
   "metadata": {},
   "outputs": [],
   "source": [
    "# Imports and set up\n",
    "import numpy as np\n",
    "import pandas as pd\n",
    "import torch\n",
    "import torch.nn as nn\n",
    "import torch.optim as optim\n",
    "\n",
    "from torch.utils.data import DataLoader,TensorDataset\n",
    "\n",
    "from torcheeg.io.eeg_signal import EEGSignalIO\n",
    "\n",
    "## Path to dir with data (remember the last '/')\n",
    "path = \"../data/\"\n",
    "\n",
    "## Establish connection to datafile\n",
    "IO = EEGSignalIO(io_path=str(path), io_mode='lmdb')\n",
    "## Read metadata dataframeimports\n",
    "metadata = pd.read_csv(path + 'sample_metadata.tsv', sep='\\t')"
   ]
  },
  {
   "cell_type": "code",
   "execution_count": 2,
   "id": "52b99ce4-2205-4911-8f56-acb6dfde1e8e",
   "metadata": {},
   "outputs": [
    {
     "name": "stdout",
     "output_type": "stream",
     "text": [
      "nsamples: 5184  -  nchannels: 22  -  t: 800\n"
     ]
    }
   ],
   "source": [
    "# Verifying connextion to data\n",
    "idxs = np.arange(len(metadata))\n",
    "\n",
    "eeg = torch.FloatTensor(np.array([IO.read_eeg(str(i)) for i in idxs]))\n",
    "print(f\"nsamples: {eeg.shape[0]}  -  nchannels: {eeg.shape[1]}  -  t: {eeg.shape[2]}\")"
   ]
  },
  {
   "cell_type": "markdown",
   "id": "ff40bef5-0a6f-4feb-a855-cc177e7632b4",
   "metadata": {},
   "source": [
    "Imports we might need cuz eeg ref code."
   ]
  },
  {
   "cell_type": "code",
   "execution_count": 3,
   "id": "e82f7414-d46e-4a28-a595-1c3b6a652833",
   "metadata": {},
   "outputs": [],
   "source": [
    "#set up of matrixies \n",
    "#number of samples, channels, and timesteps\n",
    "nsamples, nchannels, t = eeg.shape  \n",
    "\n",
    "labels = torch.tensor(metadata[\"value\"].values, dtype=torch.long)\n",
    "\n",
    "train_dataset = TensorDataset(eeg, labels)\n",
    "\n",
    "train_loader = DataLoader(train_dataset, batch_size=64, shuffle=True)\n",
    "\n",
    "adj_matrix = torch.eye(eeg.shape[1])  #place holder change later FIX"
   ]
  },
  {
   "cell_type": "code",
   "execution_count": 4,
   "id": "8934a349-39a6-444a-bdab-fcc24bdc9d2d",
   "metadata": {},
   "outputs": [],
   "source": [
    "class GraphConv(nn.Module):\n",
    "    def __init__(self, in_features, out_features):\n",
    "        super(GraphConv, self).__init__()\n",
    "        self.weight = nn.Parameter(torch.randn(in_features, out_features))\n",
    "        self.bias = nn.Parameter(torch.zeros(out_features))\n",
    "\n",
    "    def forward(self, x, adj):\n",
    "        x = torch.matmul(adj, x)  # Apply adjacency matrix\n",
    "        x = torch.matmul(x, self.weight) + self.bias  # Linear transformation\n",
    "        return torch.relu(x)\n",
    "\n",
    "class EEG_GNN(nn.Module):\n",
    "    def __init__(self, in_features, hidden_dim, nclasses):\n",
    "        super(EEG_GNN, self).__init__()\n",
    "        self.conv1 = GraphConv(in_features, hidden_dim)\n",
    "        self.conv2 = GraphConv(hidden_dim, nclasses) \n",
    "\n",
    "    def forward(self, x, adj):\n",
    "        x = self.conv1(x, adj)\n",
    "        x = self.conv2(x, adj)  \n",
    "        x = x.mean(dim=1) \n",
    "        return x \n"
   ]
  },
  {
   "cell_type": "code",
   "execution_count": 5,
   "id": "2b977703-f5cb-4439-9e4b-9577f6eaccee",
   "metadata": {},
   "outputs": [],
   "source": [
    "class TrainGNN():\n",
    "    def __init__(self):\n",
    "        self.device = torch.device(\"cuda\" if torch.cuda.is_available() else \"cpu\")\n",
    "\n",
    "    def train_model(self, model, train_loader, adjacency_matrix, learning_rate=0.001, epochs=500):\n",
    "        model = model.to(self.device)\n",
    "        adjacency_matrix = adjacency_matrix.to(self.device)  # Move adjacency to GPU if available\n",
    "\n",
    "        criterion = nn.CrossEntropyLoss()\n",
    "        optimizer = optim.Adam(model.parameters(), lr=learning_rate)\n",
    "\n",
    "        highest_train_accuracy = 0.0\n",
    "\n",
    "        for epoch in range(epochs):\n",
    "            model.train()\n",
    "            running_loss = 0.0\n",
    "            correct = 0\n",
    "            total = 0\n",
    "            for inputs, labels in train_loader:\n",
    "                inputs = inputs.to(self.device)\n",
    "                labels = labels.to(self.device)\n",
    "\n",
    "                optimizer.zero_grad()\n",
    "                outputs = model(inputs, adjacency_matrix)  # Forward pass\n",
    "                loss = criterion(outputs, labels)\n",
    "                loss.backward()\n",
    "                optimizer.step()\n",
    "\n",
    "                running_loss += loss.item() * inputs.size(0)\n",
    "                _, predicted = torch.max(outputs, 1)\n",
    "                total += labels.size(0)\n",
    "                correct += (predicted == labels).sum().item()\n",
    "\n",
    "            epoch_loss = running_loss / len(train_loader.dataset)\n",
    "            epoch_accuracy = correct / total\n",
    "    \n",
    "            if epoch_accuracy > highest_train_accuracy:\n",
    "                highest_train_accuracy = epoch_accuracy\n",
    "\n",
    "            print(f\"Epoch {epoch+1}/{epochs}, Loss: {epoch_loss:.4f}, Accuracy: {(epoch_accuracy*100):.2f}%\")\n",
    "\n",
    "        print(f\"Highest Trained Accuracy {(highest_train_accuracy*100):.2f}\")\n",
    "        torch.save(model.state_dict(), 'eeg_gnn.pth')\n",
    "\n",
    "        return model\n"
   ]
  },
  {
   "cell_type": "code",
   "execution_count": 6,
   "id": "b0709704-ed1f-4584-9402-4fe82c4ad250",
   "metadata": {},
   "outputs": [
    {
     "name": "stdout",
     "output_type": "stream",
     "text": [
      "Epoch 1/10, Loss: 39.9547, Accuracy: 24.25%\n",
      "Epoch 2/10, Loss: 31.7255, Accuracy: 25.00%\n",
      "Epoch 3/10, Loss: 24.3906, Accuracy: 26.02%\n",
      "Epoch 4/10, Loss: 17.8967, Accuracy: 26.27%\n",
      "Epoch 5/10, Loss: 12.6544, Accuracy: 25.81%\n",
      "Epoch 6/10, Loss: 8.8295, Accuracy: 25.62%\n",
      "Epoch 7/10, Loss: 6.2447, Accuracy: 23.77%\n",
      "Epoch 8/10, Loss: 4.5961, Accuracy: 22.24%\n",
      "Epoch 9/10, Loss: 3.5750, Accuracy: 20.66%\n",
      "Epoch 10/10, Loss: 2.9333, Accuracy: 18.58%\n",
      "Highest Trained Accuracy 26.27\n"
     ]
    }
   ],
   "source": [
    "nclasses = labels.max().item() + 1 \n",
    "model = EEG_GNN(in_features=t, hidden_dim=32, nclasses=nclasses)\n",
    "\n",
    "trainer = TrainGNN()\n",
    "trained_model = trainer.train_model(model, train_loader, adj_matrix,epochs=10)"
   ]
  },
  {
   "cell_type": "code",
   "execution_count": null,
   "id": "321292b1-c6dc-4356-9ab8-605cd58faa9d",
   "metadata": {},
   "outputs": [],
   "source": []
  }
 ],
 "metadata": {
  "kernelspec": {
   "display_name": "src_bachelor",
   "language": "python",
   "name": "src_bachelor"
  },
  "language_info": {
   "codemirror_mode": {
    "name": "ipython",
    "version": 3
   },
   "file_extension": ".py",
   "mimetype": "text/x-python",
   "name": "python",
   "nbconvert_exporter": "python",
   "pygments_lexer": "ipython3",
   "version": "3.12.8"
  }
 },
 "nbformat": 4,
 "nbformat_minor": 5
}
