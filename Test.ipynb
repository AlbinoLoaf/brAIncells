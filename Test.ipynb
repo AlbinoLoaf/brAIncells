{
 "cells": [
  {
   "cell_type": "markdown",
   "id": "b654b384-ee4e-4223-a48f-ffffb7eb1d6e",
   "metadata": {},
   "source": [
    "## Initial notebook for project "
   ]
  },
  {
   "cell_type": "code",
   "execution_count": 1,
   "id": "a23748e0-ee24-4a9b-8cab-90b0d02be953",
   "metadata": {},
   "outputs": [],
   "source": [
    "# Imports and set up\n",
    "import numpy as np\n",
    "import pandas as pd\n",
    "import torch\n",
    "import torch.nn as nn\n",
    "import torch.optim as optim\n",
    "import torch.nn.functional as F\n",
    "from torch.utils.data import DataLoader,TensorDataset\n",
    "\n",
    "from torcheeg.io.eeg_signal import EEGSignalIO\n",
    "\n",
    "## Path to dir with data (remember the last '/')\n",
    "path = \"../data/\"\n",
    "\n",
    "## Establish connection to datafile\n",
    "IO = EEGSignalIO(io_path=str(path), io_mode='lmdb')\n",
    "## Read metadata dataframeimports\n",
    "metadata = pd.read_csv(path + 'sample_metadata.tsv', sep='\\t')"
   ]
  },
  {
   "cell_type": "code",
   "execution_count": 2,
   "id": "52b99ce4-2205-4911-8f56-acb6dfde1e8e",
   "metadata": {},
   "outputs": [
    {
     "name": "stdout",
     "output_type": "stream",
     "text": [
      "nsamples: 5184  -  nchannels: 22  -  t: 800\n"
     ]
    }
   ],
   "source": [
    "# Verifying connextion to data\n",
    "idxs = np.arange(len(metadata))\n",
    "\n",
    "eeg = torch.FloatTensor(np.array([IO.read_eeg(str(i)) for i in idxs]))\n",
    "print(f\"nsamples: {eeg.shape[0]}  -  nchannels: {eeg.shape[1]}  -  t: {eeg.shape[2]}\")"
   ]
  },
  {
   "cell_type": "markdown",
   "id": "ff40bef5-0a6f-4feb-a855-cc177e7632b4",
   "metadata": {},
   "source": [
    "Imports we might need cuz eeg ref code."
   ]
  },
  {
   "cell_type": "code",
   "execution_count": 3,
   "id": "e82f7414-d46e-4a28-a595-1c3b6a652833",
   "metadata": {},
   "outputs": [],
   "source": [
    "#set up of matrixies \n",
    "#number of samples, channels, and timesteps\n",
    "nsamples, nchannels, t = eeg.shape  \n",
    "\n",
    "labels = torch.tensor(metadata[\"value\"].values, dtype=torch.long)\n",
    "\n",
    "train_dataset = TensorDataset(eeg, labels)\n",
    "\n",
    "train_loader = DataLoader(train_dataset, batch_size=64, shuffle=True)\n",
    "\n",
    "adj_matrix = torch.eye(eeg.shape[1])  #place holder change later FIX"
   ]
  },
  {
   "cell_type": "code",
   "execution_count": 4,
   "id": "8934a349-39a6-444a-bdab-fcc24bdc9d2d",
   "metadata": {},
   "outputs": [],
   "source": [
    "class GraphConv(nn.Module):\n",
    "    def __init__(self, in_features, out_features):\n",
    "        super(GraphConv, self).__init__()\n",
    "        self.weight = nn.Parameter(torch.randn(in_features, out_features))\n",
    "        self.bias = nn.Parameter(torch.zeros(out_features))\n",
    "\n",
    "    def forward(self, x, adj):\n",
    "        x = torch.matmul(adj, x)  \n",
    "        x = torch.matmul(x, self.weight) + self.bias  \n",
    "        return torch.relu(x)\n",
    "\n",
    "import torch.nn.functional as F\n",
    "\n",
    "class EEG_GNN(nn.Module):\n",
    "    def __init__(self, in_features, hidden_dim, nclasses, nchannels):\n",
    "        super(EEG_GNN, self).__init__()\n",
    "        self.conv1 = GraphConv(in_features, hidden_dim)\n",
    "        self.batch_norm1 = nn.BatchNorm1d(nchannels) \n",
    "        self.conv2 = GraphConv(hidden_dim, hidden_dim)\n",
    "        self.batch_norm2 = nn.BatchNorm1d(nchannels) \n",
    "        self.conv3 = GraphConv(hidden_dim, nclasses)  \n",
    "\n",
    "    def forward(self, x, adj):\n",
    "        x = self.conv1(x, adj)\n",
    "        x = self.batch_norm1(x)  \n",
    "        x = F.relu(x)\n",
    "        x = self.conv2(x, adj)\n",
    "        x = self.batch_norm2(x)  \n",
    "        x = F.relu(x)\n",
    "        x = self.conv3(x, adj)  \n",
    "        x = x.mean(dim=1)  \n",
    "        return x"
   ]
  },
  {
   "cell_type": "code",
   "execution_count": 5,
   "id": "2b977703-f5cb-4439-9e4b-9577f6eaccee",
   "metadata": {},
   "outputs": [],
   "source": [
    "class TrainGNN():\n",
    "    def __init__(self):\n",
    "        self.device = torch.device(\"cuda\" if torch.cuda.is_available() else \"cpu\")\n",
    "\n",
    "    def train_model(self, model, train_loader, adjacency_matrix, learning_rate=0.0005, epochs=500):\n",
    "        model = model.to(self.device)\n",
    "        adjacency_matrix = adjacency_matrix.to(self.device)  # Move adjacency to GPU if available\n",
    "\n",
    "        criterion = nn.CrossEntropyLoss()\n",
    "        optimizer = optim.Adam(model.parameters(), lr=learning_rate)\n",
    "\n",
    "        highest_train_accuracy = 0.0\n",
    "\n",
    "        for epoch in range(epochs):\n",
    "            model.train()\n",
    "            running_loss = 0.0\n",
    "            correct = 0\n",
    "            total = 0\n",
    "            for inputs, labels in train_loader:\n",
    "                inputs = inputs.to(self.device)\n",
    "                labels = labels.to(self.device)\n",
    "\n",
    "                optimizer.zero_grad()\n",
    "                outputs = model(inputs, adjacency_matrix)  # Forward pass\n",
    "                loss = criterion(outputs, labels)\n",
    "                loss.backward()\n",
    "                optimizer.step()\n",
    "\n",
    "                running_loss += loss.item() * inputs.size(0)\n",
    "                _, predicted = torch.max(outputs, 1)\n",
    "                total += labels.size(0)\n",
    "                correct += (predicted == labels).sum().item()\n",
    "\n",
    "            epoch_loss = running_loss / len(train_loader.dataset)\n",
    "            epoch_accuracy = correct / total\n",
    "    \n",
    "            if epoch_accuracy > highest_train_accuracy:\n",
    "                highest_train_accuracy = epoch_accuracy\n",
    "\n",
    "            print(f\"Epoch {epoch+1}/{epochs}, Loss: {epoch_loss:.4f}, Accuracy: {(epoch_accuracy*100):.2f}%\")\n",
    "\n",
    "        print(f\"Highest Trained Accuracy {(highest_train_accuracy*100):.2f}\")\n",
    "        torch.save(model.state_dict(), 'eeg_gnn.pth')\n",
    "\n",
    "        return model\n"
   ]
  },
  {
   "cell_type": "code",
   "execution_count": null,
   "id": "b0709704-ed1f-4584-9402-4fe82c4ad250",
   "metadata": {
    "scrolled": true
   },
   "outputs": [
    {
     "name": "stdout",
     "output_type": "stream",
     "text": [
      "Epoch 1/200, Loss: 3.0114, Accuracy: 12.38%\n",
      "Epoch 2/200, Loss: 2.2961, Accuracy: 17.23%\n",
      "Epoch 3/200, Loss: 1.9820, Accuracy: 19.95%\n",
      "Epoch 4/200, Loss: 1.8298, Accuracy: 21.12%\n",
      "Epoch 5/200, Loss: 1.7435, Accuracy: 22.45%\n",
      "Epoch 6/200, Loss: 1.6912, Accuracy: 23.15%\n",
      "Epoch 7/200, Loss: 1.6566, Accuracy: 23.92%\n",
      "Epoch 8/200, Loss: 1.6347, Accuracy: 24.52%\n",
      "Epoch 9/200, Loss: 1.6189, Accuracy: 24.92%\n",
      "Epoch 10/200, Loss: 1.6058, Accuracy: 25.56%\n",
      "Epoch 11/200, Loss: 1.5973, Accuracy: 26.08%\n",
      "Epoch 12/200, Loss: 1.5891, Accuracy: 26.49%\n",
      "Epoch 13/200, Loss: 1.5811, Accuracy: 26.70%\n",
      "Epoch 14/200, Loss: 1.5740, Accuracy: 27.49%\n",
      "Epoch 15/200, Loss: 1.5681, Accuracy: 27.91%\n",
      "Epoch 16/200, Loss: 1.5624, Accuracy: 28.34%\n",
      "Epoch 17/200, Loss: 1.5563, Accuracy: 28.97%\n",
      "Epoch 18/200, Loss: 1.5502, Accuracy: 29.48%\n",
      "Epoch 19/200, Loss: 1.5442, Accuracy: 29.57%\n",
      "Epoch 20/200, Loss: 1.5375, Accuracy: 30.32%\n",
      "Epoch 21/200, Loss: 1.5315, Accuracy: 30.57%\n",
      "Epoch 22/200, Loss: 1.5248, Accuracy: 31.21%\n",
      "Epoch 23/200, Loss: 1.5190, Accuracy: 31.77%\n",
      "Epoch 24/200, Loss: 1.5119, Accuracy: 32.10%\n",
      "Epoch 25/200, Loss: 1.5040, Accuracy: 32.68%\n",
      "Epoch 26/200, Loss: 1.4978, Accuracy: 32.58%\n",
      "Epoch 27/200, Loss: 1.4907, Accuracy: 33.66%\n",
      "Epoch 28/200, Loss: 1.4828, Accuracy: 33.74%\n",
      "Epoch 29/200, Loss: 1.4763, Accuracy: 34.36%\n",
      "Epoch 30/200, Loss: 1.4693, Accuracy: 34.86%\n",
      "Epoch 31/200, Loss: 1.4613, Accuracy: 35.03%\n",
      "Epoch 32/200, Loss: 1.4531, Accuracy: 35.90%\n",
      "Epoch 33/200, Loss: 1.4466, Accuracy: 35.96%\n",
      "Epoch 34/200, Loss: 1.4382, Accuracy: 36.42%\n",
      "Epoch 35/200, Loss: 1.4300, Accuracy: 36.88%\n",
      "Epoch 36/200, Loss: 1.4203, Accuracy: 37.40%\n",
      "Epoch 37/200, Loss: 1.4127, Accuracy: 37.87%\n",
      "Epoch 38/200, Loss: 1.4045, Accuracy: 38.23%\n",
      "Epoch 39/200, Loss: 1.3946, Accuracy: 38.79%\n",
      "Epoch 40/200, Loss: 1.3867, Accuracy: 39.64%\n",
      "Epoch 41/200, Loss: 1.3788, Accuracy: 39.70%\n",
      "Epoch 42/200, Loss: 1.3676, Accuracy: 39.97%\n",
      "Epoch 43/200, Loss: 1.3574, Accuracy: 41.22%\n",
      "Epoch 44/200, Loss: 1.3371, Accuracy: 42.11%\n",
      "Epoch 45/200, Loss: 1.3166, Accuracy: 41.86%\n",
      "Epoch 46/200, Loss: 1.3045, Accuracy: 42.94%\n",
      "Epoch 47/200, Loss: 1.2934, Accuracy: 43.71%\n",
      "Epoch 48/200, Loss: 1.2848, Accuracy: 43.98%\n",
      "Epoch 49/200, Loss: 1.2727, Accuracy: 44.48%\n",
      "Epoch 50/200, Loss: 1.2640, Accuracy: 45.00%\n",
      "Epoch 51/200, Loss: 1.2537, Accuracy: 45.47%\n",
      "Epoch 52/200, Loss: 1.2454, Accuracy: 45.87%\n",
      "Epoch 53/200, Loss: 1.2360, Accuracy: 46.49%\n",
      "Epoch 54/200, Loss: 1.2266, Accuracy: 47.15%\n",
      "Epoch 55/200, Loss: 1.2163, Accuracy: 47.63%\n",
      "Epoch 56/200, Loss: 1.2077, Accuracy: 47.90%\n",
      "Epoch 57/200, Loss: 1.1992, Accuracy: 48.32%\n",
      "Epoch 58/200, Loss: 1.1902, Accuracy: 48.90%\n",
      "Epoch 59/200, Loss: 1.1817, Accuracy: 49.46%\n",
      "Epoch 60/200, Loss: 1.1751, Accuracy: 49.71%\n",
      "Epoch 61/200, Loss: 1.1648, Accuracy: 50.52%\n",
      "Epoch 62/200, Loss: 1.1558, Accuracy: 50.19%\n",
      "Epoch 63/200, Loss: 1.1467, Accuracy: 51.50%\n",
      "Epoch 64/200, Loss: 1.1389, Accuracy: 51.45%\n",
      "Epoch 65/200, Loss: 1.1301, Accuracy: 51.60%\n",
      "Epoch 66/200, Loss: 1.1224, Accuracy: 52.16%\n",
      "Epoch 67/200, Loss: 1.1147, Accuracy: 52.53%\n",
      "Epoch 68/200, Loss: 1.1046, Accuracy: 52.97%\n",
      "Epoch 69/200, Loss: 1.0972, Accuracy: 53.12%\n",
      "Epoch 70/200, Loss: 1.0914, Accuracy: 53.51%\n",
      "Epoch 71/200, Loss: 1.0824, Accuracy: 54.01%\n"
     ]
    }
   ],
   "source": [
    "nclasses = labels.max().item() + 1 \n",
    "model = EEG_GNN(in_features=t, hidden_dim=32, nclasses=nclasses, nchannels=nchannels)\n",
    "\n",
    "trainer = TrainGNN()\n",
    "trained_model = trainer.train_model(model, train_loader, adj_matrix,epochs=200)"
   ]
  }
 ],
 "metadata": {
  "kernelspec": {
   "display_name": "src_bachelor",
   "language": "python",
   "name": "src_bachelor"
  },
  "language_info": {
   "codemirror_mode": {
    "name": "ipython",
    "version": 3
   },
   "file_extension": ".py",
   "mimetype": "text/x-python",
   "name": "python",
   "nbconvert_exporter": "python",
   "pygments_lexer": "ipython3",
   "version": "3.12.8"
  }
 },
 "nbformat": 4,
 "nbformat_minor": 5
}
