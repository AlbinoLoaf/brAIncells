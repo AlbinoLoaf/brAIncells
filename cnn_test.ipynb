{
 "cells": [
  {
   "cell_type": "markdown",
   "id": "b654b384-ee4e-4223-a48f-ffffb7eb1d6e",
   "metadata": {},
   "source": [
    "## Initial notebook for project "
   ]
  },
  {
   "cell_type": "code",
   "execution_count": 1,
   "id": "a23748e0-ee24-4a9b-8cab-90b0d02be953",
   "metadata": {},
   "outputs": [],
   "source": [
    "# Imports and set up\n",
    "import numpy as np\n",
    "import pandas as pd\n",
    "import torch\n",
    "import torch.nn as nn\n",
    "import torch.optim as optim\n",
    "import torch.nn.functional as F\n",
    "from torch.utils.data import DataLoader,TensorDataset\n",
    "import matplotlib.pyplot as plt\n",
    "from torcheeg.io.eeg_signal import EEGSignalIO\n",
    "from sklearn.model_selection import train_test_split\n",
    "\n",
    "## Path to dir with data (remember the last '/')\n",
    "path = \"../data/\"\n",
    "\n",
    "## Establish connection to datafile\n",
    "IO = EEGSignalIO(io_path=str(path), io_mode='lmdb')\n",
    "## Read metadata dataframeimports\n",
    "metadata = pd.read_csv(path + 'sample_metadata.tsv', sep='\\t')"
   ]
  },
  {
   "cell_type": "code",
   "execution_count": 2,
   "id": "b9bbe649",
   "metadata": {},
   "outputs": [],
   "source": [
    "from torch_geometric.nn import GCNConv"
   ]
  },
  {
   "cell_type": "code",
   "execution_count": 3,
   "id": "52b99ce4-2205-4911-8f56-acb6dfde1e8e",
   "metadata": {},
   "outputs": [
    {
     "name": "stdout",
     "output_type": "stream",
     "text": [
      "nsamples: 5184  -  nchannels: 22  -  t: 800\n"
     ]
    }
   ],
   "source": [
    "# Verifying connextion to data\n",
    "idxs = np.arange(len(metadata))\n",
    "\n",
    "X = torch.FloatTensor(np.array([IO.read_eeg(str(i)) for i in idxs]))\n",
    "print(f\"nsamples: {X.shape[0]}  -  nchannels: {X.shape[1]}  -  t: {X.shape[2]}\")\n",
    "\n",
    "y = torch.tensor(metadata[\"value\"].values, dtype=torch.long)"
   ]
  },
  {
   "cell_type": "code",
   "execution_count": 4,
   "id": "585fda50",
   "metadata": {},
   "outputs": [
    {
     "name": "stdout",
     "output_type": "stream",
     "text": [
      "shape of X train: torch.Size([3110, 22, 800])\n",
      "shape of X val: torch.Size([1037, 22, 800])\n",
      "shape of X test: torch.Size([1037, 22, 800])\n",
      "shape of y train: torch.Size([3110])\n",
      "shape of y val: torch.Size([1037])\n",
      "shape of y test: torch.Size([1037])\n"
     ]
    }
   ],
   "source": [
    "X_train, X_test, y_train, y_test = train_test_split(X, y, test_size=0.4, random_state=42, stratify=y)\n",
    "X_val, X_test, y_val, y_test = train_test_split(X_test, y_test, test_size=0.5, random_state=42)\n",
    "\n",
    "print(f\"shape of X train: {X_train.shape}\")\n",
    "print(f\"shape of X val: {X_val.shape}\")\n",
    "print(f\"shape of X test: {X_test.shape}\")\n",
    "\n",
    "print(f\"shape of y train: {y_train.shape}\")\n",
    "print(f\"shape of y val: {y_val.shape}\")\n",
    "print(f\"shape of y test: {y_test.shape}\")"
   ]
  },
  {
   "cell_type": "code",
   "execution_count": 5,
   "id": "e82f7414-d46e-4a28-a595-1c3b6a652833",
   "metadata": {},
   "outputs": [],
   "source": [
    "#set up of matrixies \n",
    "#number of samples, channels, and timesteps\n",
    "nsamples_train, nchannels_train, t = X_train.shape\n",
    "nsamples_val, nchannels_val, t = X_val.shape\n",
    "\n",
    "train_dataset = TensorDataset(X_train, y_train)\n",
    "val_dataset = TensorDataset(X_val, y_val)\n",
    "\n",
    "train_loader = DataLoader(train_dataset, batch_size=64, shuffle=True)\n",
    "val_loader = DataLoader(val_dataset, batch_size=64, shuffle=True)\n",
    "\n",
    "adj_matrix_train = torch.eye(nchannels_train)\n",
    "adj_matrix_val = torch.eye(nchannels_val)"
   ]
  },
  {
   "cell_type": "code",
   "execution_count": 6,
   "id": "1e20f2ba-732c-4d19-9e0e-0fd4848cbda6",
   "metadata": {},
   "outputs": [
    {
     "name": "stdout",
     "output_type": "stream",
     "text": [
      "torch.Size([22, 22])\n",
      "<class 'torch.Tensor'>\n",
      "3110\n",
      "torch.Size([22, 22])\n",
      "<class 'torch.Tensor'>\n",
      "1037\n"
     ]
    }
   ],
   "source": [
    "print(adj_matrix_train.shape)\n",
    "print(type(adj_matrix_train))\n",
    "print(nsamples_train)\n",
    "\n",
    "print(adj_matrix_val.shape)\n",
    "print(type(adj_matrix_val))\n",
    "print(nsamples_val)"
   ]
  },
  {
   "cell_type": "code",
   "execution_count": 7,
   "id": "abee87ab-7aaa-4965-9ffd-b2a9a1c252b9",
   "metadata": {},
   "outputs": [],
   "source": [
    "def get_adj_by_corr(data, nsamples, threshold=0.5):\n",
    "\n",
    "    # Compute Pearson correlation between channels\n",
    "    tmp_lst=[]\n",
    "    \n",
    "    for i in range(nsamples): \n",
    "        correlation_matrix = np.corrcoef(data[i])\n",
    "        tmp_lst.append((correlation_matrix > threshold).astype(np.float32))\n",
    "        \n",
    "    # Convert correlation to adjacency matrix\n",
    "    adj_mat = torch.from_numpy(np.array(tmp_lst))\n",
    "    \n",
    "    return adj_mat"
   ]
  },
  {
   "cell_type": "code",
   "execution_count": 8,
   "id": "be8e0526",
   "metadata": {},
   "outputs": [],
   "source": [
    "class TrainCNN():\n",
    "    def __init__(self):\n",
    "        self.device = torch.device(\"cuda\" if torch.cuda.is_available() else \"cpu\")\n",
    "\n",
    "    def train_model(self, model, train_loader, val_loader, learning_rate, w_decay=1e-4, epochs=100, prints=True):\n",
    "        model = model.to(self.device)\n",
    "\n",
    "        criterion = nn.CrossEntropyLoss()\n",
    "        optimizer = optim.Adam(model.parameters(), lr=learning_rate, weight_decay=w_decay)\n",
    "\n",
    "        highest_train_accuracy = 0.0\n",
    "        \n",
    "        losses_train = []; losses_val = []\n",
    "\n",
    "        for epoch in range(epochs):\n",
    "            model.train()\n",
    "            running_loss = 0.0; running_loss_val = 0.0\n",
    "            correct = 0; correct_val = 0\n",
    "            total = 0; total_val = 0\n",
    "            \n",
    "            for inputs, labels in train_loader:\n",
    "                inputs = inputs.to(self.device)\n",
    "                labels = labels.to(self.device)\n",
    "\n",
    "                optimizer.zero_grad()\n",
    "                outputs = model(inputs)  # Forward pass\n",
    "                loss = criterion(outputs, labels)\n",
    "                loss.backward()\n",
    "                optimizer.step()\n",
    "\n",
    "                running_loss += loss.item() * inputs.size(0)\n",
    "                _, predicted = torch.max(outputs, 1)\n",
    "                total += labels.size(0)\n",
    "                correct += (predicted == labels).sum().item()\n",
    "\n",
    "            epoch_loss = running_loss / len(train_loader.dataset)\n",
    "            epoch_accuracy = correct/total\n",
    "            losses_train.append(epoch_loss)\n",
    "            \n",
    "            for inputs, labels in val_loader:\n",
    "                outputs = model(inputs)\n",
    "                loss = criterion(outputs, labels)\n",
    "                \n",
    "                running_loss_val += loss.item() * inputs.size(0)\n",
    "                _, predicted = torch.max(outputs, 1)\n",
    "                total_val += labels.size(0)\n",
    "                correct_val += (predicted == labels).sum().item()\n",
    "                \n",
    "            epoch_loss_val = running_loss_val / len(val_loader.dataset)\n",
    "            epoch_accuracy_val = correct_val/total_val\n",
    "            losses_val.append(epoch_loss_val)\n",
    "                \n",
    "            if epoch_accuracy > highest_train_accuracy:\n",
    "                highest_train_accuracy = epoch_accuracy\n",
    "\n",
    "            if prints:\n",
    "                print(f\"Epoch {epoch+1}/{epochs}, Train loss: {epoch_loss:.4f}, Train acc: {(epoch_accuracy*100):.2f}%\" +\n",
    "                     f\"| Val loss: {epoch_loss_val:.4f}, Val acc: {(epoch_accuracy_val*100):.2f}%\")\n",
    "\n",
    "        print(f\"Highest Train Accuracy {(highest_train_accuracy*100):.2f}\")\n",
    "        torch.save(model.state_dict(), 'eeg_gnn.pth')\n",
    "        \n",
    "        losses = [losses_train, losses_val]\n",
    "\n",
    "        return model, losses"
   ]
  },
  {
   "cell_type": "code",
   "execution_count": 9,
   "id": "349820ac",
   "metadata": {},
   "outputs": [],
   "source": [
    "class CNN2(nn.Module):\n",
    "    \n",
    "    def __init__(self, nclasses):\n",
    "        super().__init__()\n",
    "        self.conv1 = nn.Conv1d(in_channels=22, out_channels=32, kernel_size=5, stride=1, padding=2)\n",
    "        self.bn1 = nn.BatchNorm1d(32)\n",
    "        self.dropout1 = nn.Dropout(0.3)\n",
    "        \n",
    "        self.pool = nn.MaxPool1d(kernel_size=2, stride=2)\n",
    "        \n",
    "        self.conv2 = nn.Conv1d(in_channels=32, out_channels=64, kernel_size=5, stride=1, padding=2)\n",
    "        self.bn2 = nn.BatchNorm1d(64)\n",
    "        self.dropout2 = nn.Dropout(0.3)\n",
    "        \n",
    "        self.conv3 = nn.Conv1d(in_channels=64, out_channels=128, kernel_size=5, stride=1, padding=2)\n",
    "        self.bn3 = nn.BatchNorm1d(128)\n",
    "        self.dropout3 = nn.Dropout(0.2)\n",
    "\n",
    "        self.flattened_size = 128 * (800 // (2 * 2 * 2))\n",
    "        #self.gap = nn.AdaptiveAvgPool1d(1)\n",
    "        \n",
    "        self.fc1 = nn.Linear(self.flattened_size, 64)\n",
    "        self.fc2 = nn.Linear(64, 32)\n",
    "        self.fc3 = nn.Linear(32, nclasses)\n",
    "\n",
    "    def forward(self, x):\n",
    "        x = self.pool(F.relu(self.bn1((self.conv1(x)))))\n",
    "        x = self.dropout1(x)\n",
    "        x = self.pool(F.relu(self.bn2((self.conv2(x)))))\n",
    "        x = self.dropout2(x)\n",
    "        x = self.pool(F.relu(self.bn3((self.conv3(x)))))\n",
    "        x = self.dropout3(x)\n",
    "        \n",
    "        x = torch.flatten(x, 1)\n",
    "        #x = self.gap(x)\n",
    "        #x = x.view(x.shape[0], -1)\n",
    "        \n",
    "        x = F.relu(self.fc1(x))\n",
    "        x = F.relu(self.fc2(x))\n",
    "        x = self.fc3(x)\n",
    "        \n",
    "        return x\n"
   ]
  },
  {
   "cell_type": "code",
   "execution_count": 10,
   "id": "f6bd55e4",
   "metadata": {},
   "outputs": [
    {
     "data": {
      "text/plain": [
       "torch.Size([22, 800])"
      ]
     },
     "execution_count": 10,
     "metadata": {},
     "output_type": "execute_result"
    }
   ],
   "source": [
    "X_val[0].shape"
   ]
  },
  {
   "cell_type": "code",
   "execution_count": 11,
   "id": "264f74e7",
   "metadata": {},
   "outputs": [
    {
     "name": "stdout",
     "output_type": "stream",
     "text": [
      "Epoch 1/40, Train loss: 1.4258, Train acc: 29.26%| Val loss: 1.3566, Val acc: 30.76%\n",
      "Epoch 2/40, Train loss: 1.3347, Train acc: 35.66%| Val loss: 1.3244, Val acc: 31.82%\n",
      "Epoch 3/40, Train loss: 1.2911, Train acc: 38.75%| Val loss: 1.3082, Val acc: 37.80%\n",
      "Epoch 4/40, Train loss: 1.2668, Train acc: 40.58%| Val loss: 1.3136, Val acc: 35.39%\n",
      "Epoch 5/40, Train loss: 1.2434, Train acc: 43.60%| Val loss: 1.3027, Val acc: 35.87%\n",
      "Epoch 6/40, Train loss: 1.2256, Train acc: 44.37%| Val loss: 1.2863, Val acc: 39.05%\n",
      "Epoch 7/40, Train loss: 1.2060, Train acc: 45.66%| Val loss: 1.2680, Val acc: 39.73%\n",
      "Epoch 8/40, Train loss: 1.1847, Train acc: 46.33%| Val loss: 1.2880, Val acc: 37.99%\n",
      "Epoch 9/40, Train loss: 1.1636, Train acc: 47.81%| Val loss: 1.2888, Val acc: 37.51%\n",
      "Epoch 10/40, Train loss: 1.1409, Train acc: 49.68%| Val loss: 1.2834, Val acc: 37.90%\n",
      "Epoch 11/40, Train loss: 1.0995, Train acc: 52.54%| Val loss: 1.2492, Val acc: 41.95%\n",
      "Epoch 12/40, Train loss: 1.0653, Train acc: 54.79%| Val loss: 1.2488, Val acc: 41.27%\n",
      "Epoch 13/40, Train loss: 1.0391, Train acc: 55.47%| Val loss: 1.2261, Val acc: 42.53%\n",
      "Epoch 14/40, Train loss: 1.0262, Train acc: 55.79%| Val loss: 1.2207, Val acc: 42.72%\n",
      "Epoch 15/40, Train loss: 0.9958, Train acc: 57.56%| Val loss: 1.2225, Val acc: 44.74%\n",
      "Epoch 16/40, Train loss: 0.9686, Train acc: 59.42%| Val loss: 1.2067, Val acc: 45.71%\n",
      "Epoch 17/40, Train loss: 0.9517, Train acc: 60.00%| Val loss: 1.2261, Val acc: 44.94%\n",
      "Epoch 18/40, Train loss: 0.9360, Train acc: 60.77%| Val loss: 1.2009, Val acc: 45.03%\n",
      "Epoch 19/40, Train loss: 0.9217, Train acc: 60.96%| Val loss: 1.2018, Val acc: 45.42%\n",
      "Epoch 20/40, Train loss: 0.8868, Train acc: 63.99%| Val loss: 1.1812, Val acc: 45.52%\n",
      "Epoch 21/40, Train loss: 0.8749, Train acc: 64.69%| Val loss: 1.2037, Val acc: 47.25%\n",
      "Epoch 22/40, Train loss: 0.8799, Train acc: 62.70%| Val loss: 1.1898, Val acc: 46.29%\n",
      "Epoch 23/40, Train loss: 0.8556, Train acc: 65.43%| Val loss: 1.2122, Val acc: 45.81%\n",
      "Epoch 24/40, Train loss: 0.8368, Train acc: 65.50%| Val loss: 1.1776, Val acc: 47.35%\n",
      "Epoch 25/40, Train loss: 0.8155, Train acc: 66.98%| Val loss: 1.2085, Val acc: 46.87%\n",
      "Epoch 26/40, Train loss: 0.8146, Train acc: 67.27%| Val loss: 1.2200, Val acc: 47.16%\n",
      "Epoch 27/40, Train loss: 0.7874, Train acc: 68.17%| Val loss: 1.2308, Val acc: 44.46%\n",
      "Epoch 28/40, Train loss: 0.7849, Train acc: 68.75%| Val loss: 1.2237, Val acc: 48.41%\n",
      "Epoch 29/40, Train loss: 0.7868, Train acc: 67.97%| Val loss: 1.2205, Val acc: 47.93%\n",
      "Epoch 30/40, Train loss: 0.7705, Train acc: 68.87%| Val loss: 1.2390, Val acc: 46.87%\n",
      "Epoch 31/40, Train loss: 0.7278, Train acc: 71.35%| Val loss: 1.2251, Val acc: 49.08%\n",
      "Epoch 32/40, Train loss: 0.7192, Train acc: 71.86%| Val loss: 1.2337, Val acc: 47.83%\n",
      "Epoch 33/40, Train loss: 0.7218, Train acc: 71.51%| Val loss: 1.2640, Val acc: 46.19%\n",
      "Epoch 34/40, Train loss: 0.7308, Train acc: 71.19%| Val loss: 1.2900, Val acc: 44.46%\n",
      "Epoch 35/40, Train loss: 0.6981, Train acc: 73.28%| Val loss: 1.2625, Val acc: 46.38%\n",
      "Epoch 36/40, Train loss: 0.6656, Train acc: 74.66%| Val loss: 1.2624, Val acc: 47.16%\n",
      "Epoch 37/40, Train loss: 0.6636, Train acc: 74.53%| Val loss: 1.2639, Val acc: 47.44%\n",
      "Epoch 38/40, Train loss: 0.6431, Train acc: 75.11%| Val loss: 1.2686, Val acc: 48.89%\n",
      "Epoch 39/40, Train loss: 0.6278, Train acc: 75.95%| Val loss: 1.2867, Val acc: 47.83%\n",
      "Epoch 40/40, Train loss: 0.6403, Train acc: 75.27%| Val loss: 1.2366, Val acc: 47.64%\n",
      "Highest Train Accuracy 75.95\n"
     ]
    }
   ],
   "source": [
    "nclasses = y.max().item() + 1 \n",
    "model = CNN2(nclasses)\n",
    "\n",
    "trainer = TrainCNN()\n",
    "trained_model, losses = trainer.train_model(model, train_loader, val_loader, w_decay=1e-3,learning_rate=0.0001, epochs=40, prints=True)"
   ]
  },
  {
   "cell_type": "code",
   "execution_count": 12,
   "id": "8e81fef8",
   "metadata": {},
   "outputs": [
    {
     "data": {
      "image/png": "[encoded data removed]",
      "text/plain": [
       "<Figure size 640x480 with 1 Axes>"
      ]
     },
     "metadata": {},
     "output_type": "display_data"
    }
   ],
   "source": [
    "plt.plot(losses[0])\n",
    "plt.plot(losses[1])\n",
    "plt.legend([\"training loss\",\"validation loss\"])\n",
    "plt.title(\"Training vs validation loss\");"
   ]
  }
 ],
 "metadata": {
  "kernelspec": {
   "display_name": "src_bachelor",
   "language": "python",
   "name": "python3"
  },
  "language_info": {
   "codemirror_mode": {
    "name": "ipython",
    "version": 3
   },
   "file_extension": ".py",
   "mimetype": "text/x-python",
   "name": "python",
   "nbconvert_exporter": "python",
   "pygments_lexer": "ipython3",
   "version": "3.12.9"
  }
 },
 "nbformat": 4,
 "nbformat_minor": 5
}
