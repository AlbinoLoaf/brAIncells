{
 "cells": [
  {
   "cell_type": "markdown",
   "id": "b654b384-ee4e-4223-a48f-ffffb7eb1d6e",
   "metadata": {},
   "source": [
    "## Initial notebook for project "
   ]
  },
  {
   "cell_type": "code",
   "execution_count": 1,
   "id": "a23748e0-ee24-4a9b-8cab-90b0d02be953",
   "metadata": {},
   "outputs": [],
   "source": [
    "# Imports and set up\n",
    "import numpy as np\n",
    "import pandas as pd\n",
    "import torch\n",
    "import torch.nn as nn\n",
    "import torch.optim as optim\n",
    "import torch.nn.functional as F\n",
    "from torch.utils.data import DataLoader,TensorDataset\n",
    "import matplotlib.pyplot as plt\n",
    "from torcheeg.io.eeg_signal import EEGSignalIO\n",
    "from sklearn.model_selection import train_test_split\n",
    "\n",
    "## Path to dir with data (remember the last '/')\n",
    "path = \"../data/\"\n",
    "\n",
    "## Establish connection to datafile\n",
    "IO = EEGSignalIO(io_path=str(path), io_mode='lmdb')\n",
    "## Read metadata dataframeimports\n",
    "metadata = pd.read_csv(path + 'sample_metadata.tsv', sep='\\t')"
   ]
  },
  {
   "cell_type": "code",
   "execution_count": 2,
   "id": "b9bbe649",
   "metadata": {},
   "outputs": [],
   "source": [
    "from torch_geometric.nn import GCNConv"
   ]
  },
  {
   "cell_type": "code",
   "execution_count": 3,
   "id": "52b99ce4-2205-4911-8f56-acb6dfde1e8e",
   "metadata": {},
   "outputs": [
    {
     "name": "stdout",
     "output_type": "stream",
     "text": [
      "nsamples: 5184  -  nchannels: 22  -  t: 800\n"
     ]
    }
   ],
   "source": [
    "# Verifying connextion to data\n",
    "idxs = np.arange(len(metadata))\n",
    "\n",
    "X = torch.FloatTensor(np.array([IO.read_eeg(str(i)) for i in idxs]))\n",
    "print(f\"nsamples: {X.shape[0]}  -  nchannels: {X.shape[1]}  -  t: {X.shape[2]}\")\n",
    "\n",
    "y = torch.tensor(metadata[\"value\"].values, dtype=torch.long)"
   ]
  },
  {
   "cell_type": "code",
   "execution_count": 4,
   "id": "585fda50",
   "metadata": {},
   "outputs": [
    {
     "name": "stdout",
     "output_type": "stream",
     "text": [
      "shape of X train: torch.Size([3110, 22, 800])\n",
      "shape of X val: torch.Size([1037, 22, 800])\n",
      "shape of X test: torch.Size([1037, 22, 800])\n",
      "shape of y train: torch.Size([3110])\n",
      "shape of y val: torch.Size([1037])\n",
      "shape of y test: torch.Size([1037])\n"
     ]
    }
   ],
   "source": [
    "X_train, X_test, y_train, y_test = train_test_split(X, y, test_size=0.4, random_state=42, stratify=y)\n",
    "X_val, X_test, y_val, y_test = train_test_split(X_test, y_test, test_size=0.5, random_state=42)\n",
    "\n",
    "print(f\"shape of X train: {X_train.shape}\")\n",
    "print(f\"shape of X val: {X_val.shape}\")\n",
    "print(f\"shape of X test: {X_test.shape}\")\n",
    "\n",
    "print(f\"shape of y train: {y_train.shape}\")\n",
    "print(f\"shape of y val: {y_val.shape}\")\n",
    "print(f\"shape of y test: {y_test.shape}\")"
   ]
  },
  {
   "cell_type": "code",
   "execution_count": 5,
   "id": "e82f7414-d46e-4a28-a595-1c3b6a652833",
   "metadata": {},
   "outputs": [],
   "source": [
    "#set up of matrixies \n",
    "#number of samples, channels, and timesteps\n",
    "nsamples_train, nchannels_train, t = X_train.shape\n",
    "nsamples_val, nchannels_val, t = X_val.shape\n",
    "\n",
    "train_dataset = TensorDataset(X_train, y_train)\n",
    "val_dataset = TensorDataset(X_val, y_val)\n",
    "\n",
    "train_loader = DataLoader(train_dataset, batch_size=64, shuffle=True)\n",
    "val_loader = DataLoader(val_dataset, batch_size=64, shuffle=True)\n",
    "\n",
    "adj_matrix_train = torch.eye(nchannels_train)\n",
    "adj_matrix_val = torch.eye(nchannels_val)"
   ]
  },
  {
   "cell_type": "code",
   "execution_count": 7,
   "id": "1e20f2ba-732c-4d19-9e0e-0fd4848cbda6",
   "metadata": {},
   "outputs": [
    {
     "name": "stdout",
     "output_type": "stream",
     "text": [
      "torch.Size([22, 22])\n",
      "<class 'torch.Tensor'>\n",
      "3110\n",
      "torch.Size([22, 22])\n",
      "<class 'torch.Tensor'>\n",
      "1037\n"
     ]
    }
   ],
   "source": [
    "print(adj_matrix_train.shape)\n",
    "print(type(adj_matrix_train))\n",
    "print(nsamples_train)\n",
    "\n",
    "print(adj_matrix_val.shape)\n",
    "print(type(adj_matrix_val))\n",
    "print(nsamples_val)"
   ]
  },
  {
   "cell_type": "code",
   "execution_count": 8,
   "id": "abee87ab-7aaa-4965-9ffd-b2a9a1c252b9",
   "metadata": {},
   "outputs": [],
   "source": [
    "def get_adj_by_corr(data, nsamples, threshold=0.5):\n",
    "\n",
    "    # Compute Pearson correlation between channels\n",
    "    tmp_lst=[]\n",
    "    \n",
    "    for i in range(nsamples): \n",
    "        correlation_matrix = np.corrcoef(data[i])\n",
    "        tmp_lst.append((correlation_matrix > threshold).astype(np.float32))\n",
    "        \n",
    "    # Convert correlation to adjacency matrix\n",
    "    adj_mat = torch.from_numpy(np.array(tmp_lst))\n",
    "    \n",
    "    return adj_mat"
   ]
  },
  {
   "cell_type": "code",
   "execution_count": 48,
   "id": "be8e0526",
   "metadata": {},
   "outputs": [],
   "source": [
    "class TrainCNN():\n",
    "    def __init__(self):\n",
    "        self.device = torch.device(\"cuda\" if torch.cuda.is_available() else \"cpu\")\n",
    "\n",
    "    def train_model(self, model, train_loader, val_loader, learning_rate, w_decay=1e-4, epochs=100, prints=True):\n",
    "        model = model.to(self.device)\n",
    "\n",
    "        criterion = nn.CrossEntropyLoss()\n",
    "        optimizer = optim.Adam(model.parameters(), lr=learning_rate, weight_decay=w_decay)\n",
    "\n",
    "        highest_train_accuracy = 0.0\n",
    "        \n",
    "        losses_train = []; losses_val = []\n",
    "\n",
    "        for epoch in range(epochs):\n",
    "            model.train()\n",
    "            running_loss = 0.0; running_loss_val = 0.0\n",
    "            correct = 0; correct_val = 0\n",
    "            total = 0; total_val = 0\n",
    "            \n",
    "            for inputs, labels in train_loader:\n",
    "                inputs = inputs.to(self.device)\n",
    "                labels = labels.to(self.device)\n",
    "\n",
    "                optimizer.zero_grad()\n",
    "                outputs = model(inputs)  # Forward pass\n",
    "                loss = criterion(outputs, labels)\n",
    "                loss.backward()\n",
    "                optimizer.step()\n",
    "\n",
    "                running_loss += loss.item() * inputs.size(0)\n",
    "                _, predicted = torch.max(outputs, 1)\n",
    "                total += labels.size(0)\n",
    "                correct += (predicted == labels).sum().item()\n",
    "\n",
    "            epoch_loss = running_loss / len(train_loader.dataset)\n",
    "            epoch_accuracy = correct/total\n",
    "            losses_train.append(epoch_loss)\n",
    "            \n",
    "            for inputs, labels in val_loader:\n",
    "                outputs = model(inputs)\n",
    "                loss = criterion(outputs, labels)\n",
    "                \n",
    "                running_loss_val += loss.item() * inputs.size(0)\n",
    "                _, predicted = torch.max(outputs, 1)\n",
    "                total_val += labels.size(0)\n",
    "                correct_val += (predicted == labels).sum().item()\n",
    "                \n",
    "            epoch_loss_val = running_loss_val / len(val_loader.dataset)\n",
    "            epoch_accuracy_val = correct_val/total_val\n",
    "            losses_val.append(epoch_loss_val)\n",
    "                \n",
    "            if epoch_accuracy > highest_train_accuracy:\n",
    "                highest_train_accuracy = epoch_accuracy\n",
    "\n",
    "            if prints:\n",
    "                print(f\"Epoch {epoch+1}/{epochs}, Train loss: {epoch_loss:.4f}, Train acc: {(epoch_accuracy*100):.2f}%\" +\n",
    "                     f\"| Val loss: {epoch_loss_val:.4f}, Val acc: {(epoch_accuracy_val*100):.2f}%\")\n",
    "\n",
    "        print(f\"Highest Train Accuracy {(highest_train_accuracy*100):.2f}\")\n",
    "        torch.save(model.state_dict(), 'eeg_gnn.pth')\n",
    "        \n",
    "        losses = [losses_train, losses_val]\n",
    "\n",
    "        return model, losses"
   ]
  },
  {
   "cell_type": "code",
   "execution_count": 56,
   "id": "349820ac",
   "metadata": {},
   "outputs": [],
   "source": [
    "class CNN2(nn.Module):\n",
    "    \n",
    "    def __init__(self, nclasses):\n",
    "        super().__init__()\n",
    "        self.conv1 = nn.Conv1d(in_channels=22, out_channels=32, kernel_size=5, stride=1, padding=2)\n",
    "        self.bn1 = nn.BatchNorm1d(32)\n",
    "        self.dropout1 = nn.Dropout(0.3)\n",
    "        \n",
    "        self.pool = nn.MaxPool1d(kernel_size=2, stride=2)\n",
    "        \n",
    "        self.conv2 = nn.Conv1d(in_channels=32, out_channels=64, kernel_size=5, stride=1, padding=2)\n",
    "        self.bn2 = nn.BatchNorm1d(64)\n",
    "        self.dropout2 = nn.Dropout(0.3)\n",
    "        \n",
    "        self.conv3 = nn.Conv1d(in_channels=64, out_channels=128, kernel_size=5, stride=1, padding=2)\n",
    "        self.bn3 = nn.BatchNorm1d(128)\n",
    "        self.dropout3 = nn.Dropout(0.2)\n",
    "\n",
    "        self.flattened_size = 128 * (800 // (2 * 2 * 2))\n",
    "        #self.gap = nn.AdaptiveAvgPool1d(1)\n",
    "        \n",
    "        self.fc1 = nn.Linear(self.flattened_size, 64)\n",
    "        self.fc2 = nn.Linear(64, 32)\n",
    "        self.fc3 = nn.Linear(32, nclasses)\n",
    "\n",
    "    def forward(self, x):\n",
    "        x = self.pool(F.relu(self.bn1((self.conv1(x)))))\n",
    "        x = self.dropout1(x)\n",
    "        x = self.pool(F.relu(self.bn2((self.conv2(x)))))\n",
    "        x = self.dropout2(x)\n",
    "        x = self.pool(F.relu(self.bn3((self.conv3(x)))))\n",
    "        x = self.dropout3(x)\n",
    "        \n",
    "        x = torch.flatten(x, 1)\n",
    "        #x = self.gap(x)\n",
    "        #x = x.view(x.shape[0], -1)\n",
    "        \n",
    "        x = F.relu(self.fc1(x))\n",
    "        x = F.relu(self.fc2(x))\n",
    "        x = self.fc3(x)\n",
    "        \n",
    "        return x\n"
   ]
  },
  {
   "cell_type": "code",
   "execution_count": 30,
   "id": "f6bd55e4",
   "metadata": {},
   "outputs": [
    {
     "data": {
      "text/plain": [
       "torch.Size([22, 800])"
      ]
     },
     "execution_count": 30,
     "metadata": {},
     "output_type": "execute_result"
    }
   ],
   "source": [
    "X_val[0].shape"
   ]
  },
  {
   "cell_type": "code",
   "execution_count": 60,
   "id": "264f74e7",
   "metadata": {},
   "outputs": [
    {
     "name": "stdout",
     "output_type": "stream",
     "text": [
      "Epoch 1/40, Train loss: 1.4257, Train acc: 27.11%| Val loss: 1.3748, Val acc: 30.18%\n",
      "Epoch 2/40, Train loss: 1.3511, Train acc: 33.38%| Val loss: 1.3383, Val acc: 32.88%\n",
      "Epoch 3/40, Train loss: 1.2977, Train acc: 37.72%| Val loss: 1.3104, Val acc: 37.42%\n",
      "Epoch 4/40, Train loss: 1.2719, Train acc: 39.55%| Val loss: 1.3007, Val acc: 37.42%\n",
      "Epoch 5/40, Train loss: 1.2497, Train acc: 42.06%| Val loss: 1.2946, Val acc: 36.84%\n",
      "Epoch 6/40, Train loss: 1.2453, Train acc: 42.60%| Val loss: 1.3370, Val acc: 34.04%\n",
      "Epoch 7/40, Train loss: 1.2186, Train acc: 43.95%| Val loss: 1.2781, Val acc: 36.45%\n",
      "Epoch 8/40, Train loss: 1.2024, Train acc: 45.47%| Val loss: 1.3226, Val acc: 34.23%\n",
      "Epoch 9/40, Train loss: 1.1793, Train acc: 46.43%| Val loss: 1.2728, Val acc: 36.55%\n",
      "Epoch 10/40, Train loss: 1.1694, Train acc: 48.49%| Val loss: 1.3124, Val acc: 37.13%\n",
      "Epoch 11/40, Train loss: 1.1536, Train acc: 49.77%| Val loss: 1.2563, Val acc: 37.32%\n",
      "Epoch 12/40, Train loss: 1.1300, Train acc: 50.32%| Val loss: 1.2612, Val acc: 38.48%\n",
      "Epoch 13/40, Train loss: 1.1161, Train acc: 51.09%| Val loss: 1.2538, Val acc: 40.41%\n",
      "Epoch 14/40, Train loss: 1.0808, Train acc: 54.37%| Val loss: 1.2525, Val acc: 40.12%\n",
      "Epoch 15/40, Train loss: 1.0634, Train acc: 55.37%| Val loss: 1.2431, Val acc: 41.18%\n",
      "Epoch 16/40, Train loss: 1.0303, Train acc: 56.43%| Val loss: 1.2223, Val acc: 44.36%\n",
      "Epoch 17/40, Train loss: 1.0116, Train acc: 58.52%| Val loss: 1.2301, Val acc: 43.88%\n",
      "Epoch 18/40, Train loss: 0.9958, Train acc: 59.36%| Val loss: 1.1967, Val acc: 46.58%\n",
      "Epoch 19/40, Train loss: 0.9585, Train acc: 60.64%| Val loss: 1.2039, Val acc: 44.46%\n",
      "Epoch 20/40, Train loss: 0.9332, Train acc: 61.86%| Val loss: 1.1842, Val acc: 46.00%\n",
      "Epoch 21/40, Train loss: 0.9183, Train acc: 63.63%| Val loss: 1.1641, Val acc: 47.06%\n",
      "Epoch 22/40, Train loss: 0.8949, Train acc: 63.12%| Val loss: 1.1609, Val acc: 47.44%\n",
      "Epoch 23/40, Train loss: 0.8673, Train acc: 65.11%| Val loss: 1.1815, Val acc: 48.31%\n",
      "Epoch 24/40, Train loss: 0.8467, Train acc: 66.50%| Val loss: 1.1423, Val acc: 49.18%\n",
      "Epoch 25/40, Train loss: 0.8415, Train acc: 66.11%| Val loss: 1.1751, Val acc: 47.06%\n",
      "Epoch 26/40, Train loss: 0.8305, Train acc: 65.95%| Val loss: 1.2146, Val acc: 46.67%\n",
      "Epoch 27/40, Train loss: 0.8056, Train acc: 67.88%| Val loss: 1.1718, Val acc: 46.48%\n",
      "Epoch 28/40, Train loss: 0.8081, Train acc: 68.33%| Val loss: 1.1706, Val acc: 48.41%\n",
      "Epoch 29/40, Train loss: 0.7954, Train acc: 68.20%| Val loss: 1.2025, Val acc: 49.28%\n",
      "Epoch 30/40, Train loss: 0.7759, Train acc: 68.75%| Val loss: 1.1848, Val acc: 46.48%\n",
      "Epoch 31/40, Train loss: 0.7708, Train acc: 68.97%| Val loss: 1.1701, Val acc: 49.76%\n",
      "Epoch 32/40, Train loss: 0.7445, Train acc: 70.96%| Val loss: 1.1657, Val acc: 49.18%\n",
      "Epoch 33/40, Train loss: 0.7286, Train acc: 71.58%| Val loss: 1.2092, Val acc: 49.57%\n",
      "Epoch 34/40, Train loss: 0.7196, Train acc: 71.48%| Val loss: 1.2075, Val acc: 47.73%\n",
      "Epoch 35/40, Train loss: 0.7133, Train acc: 71.96%| Val loss: 1.1756, Val acc: 50.72%\n",
      "Epoch 36/40, Train loss: 0.7004, Train acc: 73.25%| Val loss: 1.2627, Val acc: 45.52%\n",
      "Epoch 37/40, Train loss: 0.7005, Train acc: 73.34%| Val loss: 1.1830, Val acc: 50.05%\n",
      "Epoch 38/40, Train loss: 0.6736, Train acc: 74.28%| Val loss: 1.2135, Val acc: 49.95%\n",
      "Epoch 39/40, Train loss: 0.6739, Train acc: 73.22%| Val loss: 1.2080, Val acc: 48.70%\n",
      "Epoch 40/40, Train loss: 0.6494, Train acc: 75.43%| Val loss: 1.1922, Val acc: 49.57%\n",
      "Highest Train Accuracy 75.43\n"
     ]
    }
   ],
   "source": [
    "nclasses = y.max().item() + 1 \n",
    "model = CNN2(nclasses)\n",
    "\n",
    "trainer = TrainCNN()\n",
    "trained_model, losses = trainer.train_model(model, train_loader, val_loader, w_decay=1e-3,learning_rate=0.0001, epochs=40, prints=True)"
   ]
  },
  {
   "cell_type": "code",
   "execution_count": 61,
   "id": "8e81fef8",
   "metadata": {},
   "outputs": [
    {
     "data": {
      "image/png": "[encoded data removed]",
      "text/plain": [
       "<Figure size 640x480 with 1 Axes>"
      ]
     },
     "metadata": {},
     "output_type": "display_data"
    }
   ],
   "source": [
    "plt.plot(losses[0])\n",
    "plt.plot(losses[1])\n",
    "plt.legend([\"training loss\",\"validation loss\"])\n",
    "plt.title(\"Training vs validation loss\");"
   ]
  }
 ],
 "metadata": {
  "kernelspec": {
   "display_name": "thesis",
   "language": "python",
   "name": "thesis"
  },
  "language_info": {
   "codemirror_mode": {
    "name": "ipython",
    "version": 3
   },
   "file_extension": ".py",
   "mimetype": "text/x-python",
   "name": "python",
   "nbconvert_exporter": "python",
   "pygments_lexer": "ipython3",
   "version": "3.12.9"
  }
 },
 "nbformat": 4,
 "nbformat_minor": 5
}
